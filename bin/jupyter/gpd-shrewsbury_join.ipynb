{
 "cells": [
  {
   "cell_type": "code",
   "execution_count": 1,
   "id": "7cf4ef40",
   "metadata": {},
   "outputs": [],
   "source": [
    "import geopandas as gpd\n",
    "import numpy as np\n",
    "import pandas as pd\n",
    "import seaborn as sns\n",
    "from fitter import Fitter, get_common_distributions, get_distributions\n",
    "import math\n",
    "import matplotlib.pyplot as plt  "
   ]
  },
  {
   "cell_type": "code",
   "execution_count": 2,
   "id": "1cffc8c7",
   "metadata": {},
   "outputs": [],
   "source": [
    "# Reading shape file using geopandas\n",
    "df = gpd.read_file(r'../../data/raw/selco_electric_lines.shp')"
   ]
  },
  {
   "cell_type": "code",
   "execution_count": 3,
   "id": "43a7a852",
   "metadata": {},
   "outputs": [
    {
     "data": {
      "text/plain": [
       "Index(['gid', 'phasedesig', 'servicetyp', 'subtype', 'geometry'], dtype='object')"
      ]
     },
     "execution_count": 3,
     "metadata": {},
     "output_type": "execute_result"
    }
   ],
   "source": [
    "# Checking columns\n",
    "df.columns"
   ]
  },
  {
   "cell_type": "code",
   "execution_count": 4,
   "id": "7c6ddb56-24fc-4ab5-8cee-7472588aaf8f",
   "metadata": {},
   "outputs": [],
   "source": [
    "# Saving join soil and parcel data for Shrewsbury into a csv file\n",
    "df.to_csv(r'../../data/raw/Shrewsbury_network.csv', index = False)"
   ]
  },
  {
   "cell_type": "code",
   "execution_count": null,
   "id": "b886f13a-7b07-4df6-b8b9-bf029ac53fc0",
   "metadata": {},
   "outputs": [],
   "source": []
  }
 ],
 "metadata": {
  "kernelspec": {
   "display_name": "Python 3 (ipykernel)",
   "language": "python",
   "name": "python3"
  },
  "language_info": {
   "codemirror_mode": {
    "name": "ipython",
    "version": 3
   },
   "file_extension": ".py",
   "mimetype": "text/x-python",
   "name": "python",
   "nbconvert_exporter": "python",
   "pygments_lexer": "ipython3",
   "version": "3.8.8"
  }
 },
 "nbformat": 4,
 "nbformat_minor": 5
}
