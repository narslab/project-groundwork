{
 "cells": [
  {
   "cell_type": "code",
   "execution_count": 1,
   "id": "7cf4ef40",
   "metadata": {},
   "outputs": [],
   "source": [
    "import geopandas as gpd\n",
    "import numpy as np\n",
    "import pandas as pd\n",
    "import seaborn as sns\n",
    "from fitter import Fitter, get_common_distributions, get_distributions\n",
    "import math\n",
    "import matplotlib.pyplot as plt  "
   ]
  },
  {
   "cell_type": "code",
   "execution_count": 2,
   "id": "1cffc8c7",
   "metadata": {},
   "outputs": [],
   "source": [
    "# Reading shape file using geopandas\n",
    "df = gpd.read_file(r'../../data/raw/Shrewsbury_join.shp')"
   ]
  },
  {
   "cell_type": "code",
   "execution_count": 3,
   "id": "43a7a852",
   "metadata": {},
   "outputs": [
    {
     "data": {
      "text/plain": [
       "Index(['fid', 'MAP_PAR_ID', 'LOC_ID', 'POLY_TYPE', 'MAP_NO', 'SOURCE',\n",
       "       'PLAN_ID', 'LAST_EDIT', 'BND_CHK', 'NO_MATCH', 'TOWN_ID', 'PROP_ID',\n",
       "       'BLDG_VAL', 'LAND_VAL', 'OTHER_VAL', 'TOTAL_VAL', 'FY', 'LOT_SIZE',\n",
       "       'LS_DATE', 'LS_PRICE', 'USE_CODE', 'SITE_ADDR', 'ADDR_NUM', 'FULL_STR',\n",
       "       'LOCATION', 'CITY', 'ZIP', 'OWNER1', 'OWN_ADDR', 'OWN_CITY',\n",
       "       'OWN_STATE', 'OWN_ZIP', 'OWN_CO', 'LS_BOOK', 'LS_PAGE', 'REG_ID',\n",
       "       'ZONING', 'YEAR_BUILT', 'BLD_AREA', 'UNITS', 'RES_AREA', 'STYLE',\n",
       "       'NUM_ROOMS', 'LOT_UNITS', 'STORIES', 'SHAPE_AREA', 'SHAPE_LEN',\n",
       "       'AREASYMBOL', 'SPATIALVER', 'MUSYM', 'MUKEY', 'SS_AREA', 'MUSYM_AREA',\n",
       "       'SLOPE', 'AREANAME', 'MUNAME', 'COMPNAME', 'MUKIND', 'FRMLNDCLS',\n",
       "       'HYDRCRATNG', 'DRAINCLASS', 'MINSURFTEX', 'TFACTOR', 'AWS100', 'AWS25',\n",
       "       'DEP2WATTBL', 'DWELLWB', 'HYDROLGRP', 'NIRRLCC', 'ROADS', 'SEPTANKAF',\n",
       "       'SLOPE_1', 'FLOODING', 'PONDING', 'CORCONCRET', 'TAXCLNAME',\n",
       "       'CM2RESLYR', 'RESKIND', 'PARMATNM', 'UNIFSOILCL', 'AASHTO', 'KFACTRF',\n",
       "       'KFACTWS', 'PHWATER', 'CLAY', 'KSAT', 'OM', 'SAND', 'NLEACHING',\n",
       "       'SHAPE_Leng', 'SHAPE_Ar_1', 'geometry'],\n",
       "      dtype='object')"
      ]
     },
     "execution_count": 3,
     "metadata": {},
     "output_type": "execute_result"
    }
   ],
   "source": [
    "# Checking columns\n",
    "df.columns"
   ]
  },
  {
   "cell_type": "code",
   "execution_count": 4,
   "id": "7c6ddb56-24fc-4ab5-8cee-7472588aaf8f",
   "metadata": {},
   "outputs": [],
   "source": [
    "# Saving join soil and parcel data for Shrewsbury into a csv file\n",
    "df.to_csv(r'../../data/raw/Shrewsbury_join.csv', index = False)"
   ]
  }
 ],
 "metadata": {
  "kernelspec": {
   "display_name": "Python 3 (ipykernel)",
   "language": "python",
   "name": "python3"
  },
  "language_info": {
   "codemirror_mode": {
    "name": "ipython",
    "version": 3
   },
   "file_extension": ".py",
   "mimetype": "text/x-python",
   "name": "python",
   "nbconvert_exporter": "python",
   "pygments_lexer": "ipython3",
   "version": "3.10.0"
  }
 },
 "nbformat": 4,
 "nbformat_minor": 5
}
