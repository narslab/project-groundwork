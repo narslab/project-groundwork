{
 "cells": [
  {
   "cell_type": "code",
   "execution_count": 1,
   "id": "c6e586ee-f188-4397-8f3a-23558c43e181",
   "metadata": {},
   "outputs": [],
   "source": [
    "import numpy as np\n",
    "import pandas as pd"
   ]
  },
  {
   "cell_type": "code",
   "execution_count": 32,
   "id": "8a9c8e01-0133-4eff-a7a7-6946edb7c167",
   "metadata": {},
   "outputs": [],
   "source": [
    "# Sample employee model data\n",
    "employee_data = {'outage_id': 'test1',\n",
    "                 'total_employees': 500,\n",
    "                 'affected_employees': 125,\n",
    "                 'cost_per_hour': 45,\n",
    "                 'downtime_hours': 3}"
   ]
  },
  {
   "cell_type": "code",
   "execution_count": 41,
   "id": "7239b5b5-2f02-45ef-8425-8e27746dab9b",
   "metadata": {},
   "outputs": [],
   "source": [
    "# Sample residential model data\n",
    "residential_data = {'outage_id': 'test1',\n",
    "                    'total_residents': 827,\n",
    "                    'median_income': 50000,\n",
    "                    'downtime_hours': 1.5}"
   ]
  },
  {
   "cell_type": "code",
   "execution_count": 42,
   "id": "d24376ae-3884-49ee-bba7-5d96cedf2fa7",
   "metadata": {},
   "outputs": [],
   "source": [
    "def estimateResidentialProductivity(residential_dict):\n",
    "    \"\"\"A method to quantify residential productivity cost.\n",
    "       Assume all residents in a given area are impacted.\n",
    "    \"\"\"    \n",
    "    hourly_wage = residential_dict['median_income'] / 2080 # determine median hourly wage based on annual salary\n",
    "    return residential_dict['total_residents']*hourly_wage*residential_dict['downtime_hours']"
   ]
  },
  {
   "cell_type": "code",
   "execution_count": 35,
   "id": "e7cc026e-a5f2-4807-9218-810026d7753e",
   "metadata": {},
   "outputs": [],
   "source": [
    "def estimateEmployeeProductivity(employee_dict):\n",
    "    \"\"\"A method to quantify employee productivity cost\"\"\"    \n",
    "    percentage_affected = employee_dict['affected_employees']/employee_dict['total_employees'] # percentage of the affected employees\n",
    "    return employee_dict['total_employees']*percentage_affected*employee_dict['cost_per_hour']*employee_dict['downtime_hours']"
   ]
  },
  {
   "cell_type": "code",
   "execution_count": 36,
   "id": "046f0741-23c3-4d6d-bee0-b2ceb49b3f9f",
   "metadata": {},
   "outputs": [],
   "source": [
    "def estimateBroadbandBenefits(residential, commercial):\n",
    "    \"\"\"Broadband benefit estimation based on residential and commercial data\"\"\"\n",
    "    return estimateResidentialProductivity(residential) + estimateEmployeeProductivity(commercial)"
   ]
  },
  {
   "cell_type": "code",
   "execution_count": 26,
   "id": "64b825db-6c5e-4bd9-9ac0-7579cd9a1447",
   "metadata": {},
   "outputs": [],
   "source": [
    "def estimateIndustrialProductivity(employee_productivity,):\n",
    "    \"\"\"A method to quantify industrial productivity cost\"\"\"\n",
    "    # TODO"
   ]
  },
  {
   "cell_type": "markdown",
   "id": "f77f4160-9056-4a12-880d-ca2841d73dc3",
   "metadata": {},
   "source": [
    "### Model estimation"
   ]
  },
  {
   "cell_type": "code",
   "execution_count": 43,
   "id": "00c448d1-3f36-41ed-a0aa-23201deee42c",
   "metadata": {},
   "outputs": [],
   "source": [
    "employee_productivity = estimateEmployeeProductivity(employee_data)\n",
    "broadbandbenefits = estimateBroadbandBenefits(residential_data, employee_data)"
   ]
  },
  {
   "cell_type": "code",
   "execution_count": 25,
   "id": "83fe271d-e169-47ec-b3a8-95f45a71ec97",
   "metadata": {},
   "outputs": [
    {
     "name": "stdout",
     "output_type": "stream",
     "text": [
      "Employee productivity cost for internet outage test1 is estimated at: $ 16875.0\n"
     ]
    }
   ],
   "source": [
    "print('Employee productivity cost for internet outage', employee_data['outage_id'] ,'is estimated at: $', employee_productivity)"
   ]
  },
  {
   "cell_type": "code",
   "execution_count": 44,
   "id": "26165c26-75e1-44c2-aede-afcaac02e062",
   "metadata": {},
   "outputs": [
    {
     "name": "stdout",
     "output_type": "stream",
     "text": [
      "Total community cost for internet outage test1 is estimated at: $ 46694.711538461546\n"
     ]
    }
   ],
   "source": [
    "print('Total community cost for internet outage', employee_data['outage_id'] ,'is estimated at: $', broadbandbenefits)"
   ]
  }
 ],
 "metadata": {
  "kernelspec": {
   "display_name": "Python 3 (ipykernel)",
   "language": "python",
   "name": "python3"
  },
  "language_info": {
   "codemirror_mode": {
    "name": "ipython",
    "version": 3
   },
   "file_extension": ".py",
   "mimetype": "text/x-python",
   "name": "python",
   "nbconvert_exporter": "python",
   "pygments_lexer": "ipython3",
   "version": "3.10.2"
  }
 },
 "nbformat": 4,
 "nbformat_minor": 5
}
