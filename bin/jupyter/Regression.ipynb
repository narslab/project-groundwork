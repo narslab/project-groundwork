{
 "cells": [
  {
   "cell_type": "code",
   "execution_count": 24,
   "id": "2c2fb413-4e6f-49ef-9ccd-e39b8cd889c7",
   "metadata": {},
   "outputs": [],
   "source": [
    "# import needed libraries\n",
    "import numpy as np\n",
    "import matplotlib.pyplot as plt\n",
    "import pandas as pd\n",
    "from sklearn import linear_model\n",
    "import seaborn as sns\n",
    "from sklearn.linear_model import LinearRegression\n",
    "from sklearn.model_selection import train_test_split"
   ]
  },
  {
   "cell_type": "code",
   "execution_count": 25,
   "id": "2eba866a-fbd5-47d1-a6f0-e6c5ea378d51",
   "metadata": {},
   "outputs": [],
   "source": [
    "# opening concord data and save related columns in a dataframe\n",
    "with open(r'../../data/tidy/concord.csv') as concord:\n",
    "    df_concord=pd.read_csv(concord)\n",
    "    df_concord_variable=df_concord.filter(items=['total cost','dencity(#parcel/ft)','1 phase','SAND','CLAY','BLD_AREA/length','TOTAL_VAL/length'])\n",
    "    y = df_concord_variable['total cost']"
   ]
  },
  {
   "cell_type": "code",
   "execution_count": 26,
   "id": "95f01931-8a73-4272-aca9-08ae533b160a",
   "metadata": {},
   "outputs": [],
   "source": [
    "#def a function to implement single variable linear regression:\n",
    "def estimate_coef(x1, y):\n",
    "    # number of observations/points\n",
    "    n = np.size(x1)\n",
    " \n",
    "    # mean of x1 and y vector\n",
    "    m_x1 = np.mean(x1)\n",
    "    m_y = np.mean(y)\n",
    " \n",
    "    # calculating cross-deviation and deviation about x1\n",
    "    SS_x1y = np.sum(y*x1) - n*m_y*m_x1\n",
    "    SS_x1x1 = np.sum(x1*x1) - n*m_x1*m_x1\n",
    " \n",
    "    # calculating regression coefficients\n",
    "    b_1 = SS_x1y / SS_x1x1\n",
    "    b_0 = m_y - b_1*m_x1\n",
    " \n",
    "    return (b_0, b_1)\n",
    " \n",
    "def plot_regression_line(x1, y, b):\n",
    "    # plotting the actual points as scatter plot\n",
    "    plt.scatter(x1, y, color = \"m\",\n",
    "               marker = \"o\", s = 30)\n",
    " \n",
    "    # predicted response vector\n",
    "    y_pred = b[0] + b[1]*x1\n",
    " \n",
    "    # plotting the regression line\n",
    "    plt.plot(x1, y_pred, color = \"g\")\n",
    " \n",
    "    # putting labels\n",
    "    plt.xlabel('x1')\n",
    "    plt.ylabel('y')\n",
    " \n",
    "    # function to show plot\n",
    "    plt.show()\n",
    " \n",
    "def implement_single_variable_linear_regression(x1):\n",
    " \n",
    "    # estimating coefficients\n",
    "    b = estimate_coef(x1, y)\n",
    "    print(\"Estimated coefficients:\\nb_0 = {}  \\\n",
    "          \\nb_1 = {}\".format(b[0], b[1]))\n",
    " \n",
    "    # plotting regression line\n",
    "    plot_regression_line(x1, y, b)\n",
    " \n",
    "if __name__ == \"__implement_single_variable_linear_regression__\":\n",
    "    implement_single_variable_linear_regression(x1)"
   ]
  },
  {
   "cell_type": "code",
   "execution_count": 27,
   "id": "91625aca-3dec-4663-9dc7-fdb59b4c2874",
   "metadata": {},
   "outputs": [
    {
     "name": "stdout",
     "output_type": "stream",
     "text": [
      "Estimated coefficients:\n",
      "b_0 = 156.28500977640965            \n",
      "b_1 = -28.920821395920314\n"
     ]
    },
    {
     "data": {
      "image/png": "[encoded data removed]",
      "text/plain": [
       "<Figure size 432x288 with 1 Axes>"
      ]
     },
     "metadata": {
      "needs_background": "light"
     },
     "output_type": "display_data"
    }
   ],
   "source": [
    "#implement single variable linear regression for dencity(#parcel/ft)\n",
    "implement_single_variable_linear_regression(x1= df_concord_variable['dencity(#parcel/ft)'])"
   ]
  },
  {
   "cell_type": "code",
   "execution_count": 28,
   "id": "0817876f-e7d7-4fe6-bbe8-c3cb908bcf3a",
   "metadata": {},
   "outputs": [
    {
     "name": "stdout",
     "output_type": "stream",
     "text": [
      "Estimated coefficients:\n",
      "b_0 = 145.95860383487008            \n",
      "b_1 = 0.08351262157230525\n"
     ]
    },
    {
     "data": {
      "image/png": "[encoded data removed]",
      "text/plain": [
       "<Figure size 432x288 with 1 Axes>"
      ]
     },
     "metadata": {
      "needs_background": "light"
     },
     "output_type": "display_data"
    }
   ],
   "source": [
    "#implement single variable linear regression for SAND\n",
    "implement_single_variable_linear_regression(x1 = df_concord_variable['SAND'])"
   ]
  },
  {
   "cell_type": "code",
   "execution_count": 29,
   "id": "b7494564-a0fb-469a-8dcb-e2476dbb8d5e",
   "metadata": {},
   "outputs": [
    {
     "name": "stdout",
     "output_type": "stream",
     "text": [
      "Estimated coefficients:\n",
      "b_0 = 177.426            \n",
      "b_1 = -62.246909090909114\n"
     ]
    },
    {
     "data": {
      "image/png": "[encoded data removed]",
      "text/plain": [
       "<Figure size 432x288 with 1 Axes>"
      ]
     },
     "metadata": {
      "needs_background": "light"
     },
     "output_type": "display_data"
    }
   ],
   "source": [
    "#implement single variable linear regression for 1 phase\n",
    "implement_single_variable_linear_regression(x1 = df_concord_variable['1 phase'])"
   ]
  },
  {
   "cell_type": "code",
   "execution_count": 30,
   "id": "547ebac1-69da-4bd6-820b-1a24a9d52f20",
   "metadata": {},
   "outputs": [],
   "source": [
    "#def a function to implement multi variable linear regression:\n",
    "def implement_multivariable_regression(X):\n",
    "    #Splitting the dataset\n",
    "    x_train, x_test, y_train, y_test = train_test_split(X, y, test_size = 0.3, random_state = 100)\n",
    "    #Fitting the Multiple Linear Regression model\n",
    "    mlr = LinearRegression()  \n",
    "    mlr.fit(X, y)\n",
    "    #Intercept and Coefficient\n",
    "    print(\"Intercept: \", mlr.intercept_)\n",
    "    print(\"Coefficients:\", list(zip(X, mlr.coef_)))\n",
    "    #Prediction of test set\n",
    "    y_pred_mlr= mlr.predict(x_test)\n",
    "    #Predicted values\n",
    "    print(\"Prediction for test set: {}\".format(y_pred_mlr))\n",
    "    #Actual value and the predicted value\n",
    "    mlr_diff = pd.DataFrame({'Actual value': y_test, 'Predicted value': y_pred_mlr})\n",
    "    #slr_diff.head()\n",
    "    #Model Evaluation\n",
    "    from sklearn import metrics\n",
    "    meanAbErr = metrics.mean_absolute_error(y_test, y_pred_mlr)\n",
    "    meanSqErr = metrics.mean_squared_error(y_test, y_pred_mlr)\n",
    "    rootMeanSqErr = np.sqrt(metrics.mean_squared_error(y_test, y_pred_mlr))\n",
    "    print('R squared: {:.2f}'.format(mlr.score(X,y)*100))\n",
    "    print('Mean Absolute Error:', meanAbErr)\n",
    "    print('Mean Square Error:', meanSqErr)\n",
    "    print('Root Mean Square Error:', rootMeanSqErr)"
   ]
  },
  {
   "cell_type": "code",
   "execution_count": 31,
   "id": "4648d0fe-d469-4a2d-a790-75996c34beac",
   "metadata": {},
   "outputs": [
    {
     "name": "stdout",
     "output_type": "stream",
     "text": [
      "Intercept:  113.49950680869948\n",
      "Coefficients: [('dencity(#parcel/ft)', -34.83030080009607), ('1 phase', -76.98804934713513), ('SAND', 1.2435156638733544)]\n",
      "Prediction for test set: [ 90.9767657  196.16341861 137.1553382  187.98148694 110.68797397\n",
      " 190.63046449 186.16099833 197.23402359]\n",
      "R squared: 37.13\n",
      "Mean Absolute Error: 24.217897553588294\n",
      "Mean Square Error: 1411.3888346291417\n",
      "Root Mean Square Error: 37.56845531332293\n"
     ]
    }
   ],
   "source": [
    "#implement multi variable linear regression for density, 1 phase and SAND\n",
    "implement_multivariable_regression(X = df_concord_variable[['dencity(#parcel/ft)','1 phase', 'SAND']])"
   ]
  },
  {
   "cell_type": "code",
   "execution_count": 32,
   "id": "99b1462f-2585-4e68-8e47-61b2a4ccc0c6",
   "metadata": {},
   "outputs": [
    {
     "name": "stdout",
     "output_type": "stream",
     "text": [
      "Intercept:  159.2407857223377\n",
      "Coefficients: [('dencity(#parcel/ft)', -31.83660882486031), ('1 phase', -58.0989044122099), ('CLAY', 5.3712835340607095)]\n",
      "Prediction for test set: [110.60234195 181.76154606 110.57712719 188.01417784 129.63606465\n",
      " 177.01064584 186.77741049 180.77625989]\n",
      "R squared: 33.02\n",
      "Mean Absolute Error: 27.020481167630063\n",
      "Mean Square Error: 1405.56284074097\n",
      "Root Mean Square Error: 37.49083675701264\n"
     ]
    }
   ],
   "source": [
    "#implement multi variable linear regression for density, 1 phase and CLAY\n",
    "implement_multivariable_regression(X = df_concord_variable[['dencity(#parcel/ft)','1 phase', 'CLAY']])"
   ]
  },
  {
   "cell_type": "code",
   "execution_count": 33,
   "id": "d25477ca-4a95-4130-af42-6d4dce83efa8",
   "metadata": {},
   "outputs": [
    {
     "name": "stdout",
     "output_type": "stream",
     "text": [
      "Intercept:  116.66317704705271\n",
      "Coefficients: [('BLD_AREA/length', -0.006639017791512524), ('1 phase', -74.82965426165468), ('SAND', 1.1701721840972696)]\n",
      "Prediction for test set: [ 93.39262659 194.50894775 136.32988595 186.07844498 111.63645965\n",
      " 190.21235545 186.18571693 196.04412652]\n",
      "R squared: 35.78\n",
      "Mean Absolute Error: 23.861012256118833\n",
      "Mean Square Error: 1360.5078703474862\n",
      "Root Mean Square Error: 36.88506297063198\n"
     ]
    }
   ],
   "source": [
    "#implement multi variable linear regression for BLD_AREA/length, 1 phase and SAND\n",
    "implement_multivariable_regression(X = df_concord_variable[['BLD_AREA/length','1 phase', 'SAND']])"
   ]
  },
  {
   "cell_type": "code",
   "execution_count": 34,
   "id": "55b52ac4-defb-4b29-9e30-b0b4c3aabe2b",
   "metadata": {},
   "outputs": [
    {
     "name": "stdout",
     "output_type": "stream",
     "text": [
      "Intercept:  159.75526458103226\n",
      "Coefficients: [('BLD_AREA/length', -0.006256952944493666), ('1 phase', -57.133698345419255), ('CLAY', 5.092199489916641)]\n",
      "Prediction for test set: [111.83863365 181.15119726 111.36209527 186.39355025 129.62521112\n",
      " 177.39678477 186.91619593 180.70946988]\n",
      "R squared: 32.13\n",
      "Mean Absolute Error: 27.08823030585916\n",
      "Mean Square Error: 1376.7582777307675\n",
      "Root Mean Square Error: 37.10469347307383\n"
     ]
    }
   ],
   "source": [
    "#implement multi variable linear regression for BLD_AREA/length, 1 phase and CLAY\n",
    "implement_multivariable_regression(X = df_concord_variable[['BLD_AREA/length','1 phase', 'CLAY']])"
   ]
  },
  {
   "cell_type": "code",
   "execution_count": null,
   "id": "5b68ca6e-636f-477e-b94b-8026898a7935",
   "metadata": {},
   "outputs": [],
   "source": []
  }
 ],
 "metadata": {
  "kernelspec": {
   "display_name": "Python 3 (ipykernel)",
   "language": "python",
   "name": "python3"
  },
  "language_info": {
   "codemirror_mode": {
    "name": "ipython",
    "version": 3
   },
   "file_extension": ".py",
   "mimetype": "text/x-python",
   "name": "python",
   "nbconvert_exporter": "python",
   "pygments_lexer": "ipython3",
   "version": "3.8.8"
  }
 },
 "nbformat": 4,
 "nbformat_minor": 5
}
