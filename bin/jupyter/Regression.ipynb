{
 "cells": [
  {
   "cell_type": "code",
   "execution_count": 2,
   "id": "2c4a5a2d",
   "metadata": {},
   "outputs": [],
   "source": [
    "# import needed libraries\n",
    "import numpy as np\n",
    "import matplotlib.pyplot as plt\n",
    "import pandas as pd\n",
    "import sklearn.feature_selection\n",
    "from sklearn import linear_model\n",
    "#import seaborn as sns\n",
    "from sklearn.linear_model import LinearRegression\n",
    "from sklearn.model_selection import train_test_split\n",
    "import statsmodels.api as sm\n",
    "from sklearn.datasets import make_blobs\n",
    "from statsmodels.api import OLS\n",
    "from mpl_toolkits.mplot3d import Axes3D\n",
    "from scipy.stats import pearsonr\n",
    "from scipy.stats import spearmanr"
   ]
  },
  {
   "cell_type": "code",
   "execution_count": 3,
   "id": "1a99649b",
   "metadata": {},
   "outputs": [],
   "source": [
    "# opening concord data and save related columns in a dataframe\n",
    "with open(r'../../data/tidy/concord_streets_data.csv') as concord:\n",
    "    df_concord=pd.read_csv(concord)\n",
    "    df_concord_variable=df_concord.filter(items=['total cost','density(#parcel/ft)','1 phase','SAND_mean','CLAY_mean','BLD_AREA/length','TOTAL_VAL/length','SAND_max','CLAY_max','log_density','SAND/CLAY','log_CLAY','distribution Rate Per Foot ($)','UNITS_density','residential_mode','residential_100%','residential_street_type'])\n",
    "    y = df_concord_variable['total cost']"
   ]
  },
  {
   "cell_type": "code",
   "execution_count": 4,
   "id": "fd3fc8ab-d0cb-4517-bc73-040cccfdf980",
   "metadata": {},
   "outputs": [],
   "source": [
    "# opening concord data and save related columns in a dataframe\n",
    "with open(r'../../data/tidy/concord_streets_data_without_outliers.csv') as concord_without_outliers:\n",
    "    df_concord_without_outliers=pd.read_csv(concord_without_outliers)\n",
    "    df_concord_without_outliers_variable=df_concord_without_outliers.filter(items=['total cost','density(#parcel/ft)','1 phase','SAND_mean','CLAY_mean','BLD_AREA/length','TOTAL_VAL/length','SAND_max','CLAY_max','log_density','SAND/CLAY','log_CLAY','distribution Rate Per Foot ($)'])"
   ]
  },
  {
   "cell_type": "code",
   "execution_count": 28,
   "id": "bc39b226-e345-429d-a398-7305bb4a2f1d",
   "metadata": {},
   "outputs": [
    {
     "name": "stdout",
     "output_type": "stream",
     "text": [
      "                                 OLS Regression Results                                \n",
      "=======================================================================================\n",
      "Dep. Variable:             total cost   R-squared (uncentered):                   0.882\n",
      "Model:                            OLS   Adj. R-squared (uncentered):              0.864\n",
      "Method:                 Least Squares   F-statistic:                              49.67\n",
      "Date:                Tue, 08 Feb 2022   Prob (F-statistic):                    1.88e-09\n",
      "Time:                        21:12:13   Log-Likelihood:                         -126.07\n",
      "No. Observations:                  23   AIC:                                      258.1\n",
      "Df Residuals:                      20   BIC:                                      261.5\n",
      "Df Model:                           3                                                  \n",
      "Covariance Type:            nonrobust                                                  \n",
      "===============================================================================\n",
      "                  coef    std err          t      P>|t|      [0.025      0.975]\n",
      "-------------------------------------------------------------------------------\n",
      "log_density   -61.4211     20.145     -3.049      0.006    -103.442     -19.400\n",
      "1 phase       -63.7480     29.072     -2.193      0.040    -124.391      -3.105\n",
      "log_CLAY      136.8115     48.656      2.812      0.011      35.318     238.305\n",
      "==============================================================================\n",
      "Omnibus:                        2.818   Durbin-Watson:                   1.897\n",
      "Prob(Omnibus):                  0.244   Jarque-Bera (JB):                1.263\n",
      "Skew:                           0.276   Prob(JB):                        0.532\n",
      "Kurtosis:                       4.006   Cond. No.                         7.38\n",
      "==============================================================================\n",
      "\n",
      "Notes:\n",
      "[1] R² is computed without centering (uncentered) since the model does not contain a constant.\n",
      "[2] Standard Errors assume that the covariance matrix of the errors is correctly specified.\n"
     ]
    }
   ],
   "source": [
    "X= df_concord_without_outliers_variable[['log_density','1 phase','log_CLAY']]\n",
    "y= df_concord_without_outliers_variable['total cost']\n",
    "#X = sm.add_constant(X)\n",
    "est = sm.OLS(y, X).fit()\n",
    "print(est.summary())"
   ]
  },
  {
   "cell_type": "code",
   "execution_count": 29,
   "id": "ba88f1f1-eac5-47aa-a6e6-263ed70424d0",
   "metadata": {},
   "outputs": [
    {
     "data": {
      "image/png": "[encoded data removed]",
      "text/plain": [
       "<Figure size 720x720 with 1 Axes>"
      ]
     },
     "metadata": {
      "needs_background": "light"
     },
     "output_type": "display_data"
    }
   ],
   "source": [
    "plt.figure(figsize=(10,10))\n",
    "plt.scatter(y_test, y_pred, c='crimson')\n",
    "plt.yscale('log')\n",
    "plt.xscale('log')\n",
    "\n",
    "p1 = max(max(y_pred), max(y_test))\n",
    "p2 = min(min(y_pred), min(y_test))\n",
    "plt.plot([p1, p2], [p1, p2], 'b-')\n",
    "plt.xlabel('True Values of cost', fontsize=15)\n",
    "plt.ylabel('Predictions of cost', fontsize=15)\n",
    "plt.axis('equal')\n",
    "plt.show()"
   ]
  },
  {
   "cell_type": "code",
   "execution_count": 27,
   "id": "4d616ad6-a43f-4c65-b91f-85bba6411e35",
   "metadata": {},
   "outputs": [
    {
     "data": {
      "image/png": "[encoded data removed]",
      "text/plain": [
       "<Figure size 432x288 with 1 Axes>"
      ]
     },
     "metadata": {
      "needs_background": "light"
     },
     "output_type": "display_data"
    }
   ],
   "source": [
    "y_test = df_concord_without_outliers_variable['total cost']\n",
    "y_test=list(y_test)\n",
    "y_pred=[]\n",
    "for i in range(len(log_density)):\n",
    "    y_pred.append(-61*(log_density[i])-64*(phase[i])+137*(log_clay[i]))\n",
    "\n",
    "fig, ax = plt.subplots()\n",
    "ax.scatter(y_test, y_pred)\n",
    "ax.plot([0, max(y_test)], [0, max(y_test)], 'k--', lw=4)\n",
    "ax.set_xlabel('Measured')\n",
    "ax.set_ylabel('Predicted')\n",
    "plt.show()"
   ]
  },
  {
   "cell_type": "code",
   "execution_count": 9,
   "id": "f9b17812-76c6-44a0-8310-77bd8af79ccb",
   "metadata": {},
   "outputs": [
    {
     "data": {
      "image/png": "[encoded data removed]",
      "text/plain": [
       "<Figure size 432x288 with 1 Axes>"
      ]
     },
     "metadata": {
      "needs_background": "light"
     },
     "output_type": "display_data"
    }
   ],
   "source": [
    "def plotGraph(y_test,y_pred,regressorName):\n",
    "    if max(y_test) >= max(y_pred):\n",
    "        my_range = int(max(y_test))-int(min(y_test))\n",
    "    else:\n",
    "        my_range = int(max(y_pred))-int(min(y_pred))\n",
    "    plt.scatter(range(len(y_test)), y_test, color='blue')\n",
    "    plt.scatter(y_pred,range(len(y_pred)), color='red')\n",
    "    plt.title(regressorName)\n",
    "    plt.show()\n",
    "    return\n",
    "\n",
    "\n",
    "y_test = df_concord_without_outliers_variable['total cost']\n",
    "log_density=list(df_concord_without_outliers_variable['log_density'].values)\n",
    "phase=list(df_concord_without_outliers_variable['1 phase'].values)\n",
    "log_clay=list(df_concord_without_outliers_variable['log_CLAY'].values)\n",
    "y_pred=[]\n",
    "for i in range(len(log_density)):\n",
    "    y_pred.append(-61*(log_density[i])-64*(phase[i])+137*(log_clay[i]))\n",
    "\n",
    "plotGraph(y_test, y_pred, \"Predicted Vs actual costs\")"
   ]
  },
  {
   "cell_type": "code",
   "execution_count": 47,
   "id": "72cc32e9-ac13-491d-b319-c8055fd5e573",
   "metadata": {},
   "outputs": [
    {
     "data": {
      "image/png": "[encoded data removed]",
      "text/plain": [
       "<Figure size 432x288 with 2 Axes>"
      ]
     },
     "metadata": {
      "needs_background": "light"
     },
     "output_type": "display_data"
    }
   ],
   "source": [
    "    fig = plt.figure()\n",
    "    a1 = fig.add_axes([0,0,1,1])\n",
    "    x = range(23)\n",
    "    a1.plot(x,y_test, 'ro')\n",
    "    a1.set_ylabel('Actual')\n",
    "    a2 = a1.twinx()\n",
    "    a2.plot(x, y_pred,'o')\n",
    "    a2.set_ylabel('Predicted')\n",
    "    fig.legend(labels = ('Actual','Predicted'),loc='upper left')\n",
    "    plt.show()"
   ]
  },
  {
   "cell_type": "code",
   "execution_count": 6,
   "id": "03d5f622-f584-4542-a0dd-9ac0071dfbec",
   "metadata": {},
   "outputs": [
    {
     "name": "stdout",
     "output_type": "stream",
     "text": [
      "                                 OLS Regression Results                                \n",
      "=======================================================================================\n",
      "Dep. Variable:             total cost   R-squared (uncentered):                   0.829\n",
      "Model:                            OLS   Adj. R-squared (uncentered):              0.807\n",
      "Method:                 Least Squares   F-statistic:                              37.13\n",
      "Date:                Mon, 07 Feb 2022   Prob (F-statistic):                    5.53e-09\n",
      "Time:                        19:32:28   Log-Likelihood:                         -146.40\n",
      "No. Observations:                  26   AIC:                                      298.8\n",
      "Df Residuals:                      23   BIC:                                      302.6\n",
      "Df Model:                           3                                                  \n",
      "Covariance Type:            nonrobust                                                  \n",
      "===========================================================================================\n",
      "                              coef    std err          t      P>|t|      [0.025      0.975]\n",
      "-------------------------------------------------------------------------------------------\n",
      "residential_street_type    20.2463     34.828      0.581      0.567     -51.802      92.294\n",
      "1 phase                   -20.0172     30.892     -0.648      0.523     -83.923      43.888\n",
      "log_CLAY                  238.0670     40.653      5.856      0.000     153.969     322.165\n",
      "==============================================================================\n",
      "Omnibus:                        3.542   Durbin-Watson:                   1.701\n",
      "Prob(Omnibus):                  0.170   Jarque-Bera (JB):                2.211\n",
      "Skew:                           0.695   Prob(JB):                        0.331\n",
      "Kurtosis:                       3.330   Cond. No.                         3.99\n",
      "==============================================================================\n",
      "\n",
      "Notes:\n",
      "[1] R² is computed without centering (uncentered) since the model does not contain a constant.\n",
      "[2] Standard Errors assume that the covariance matrix of the errors is correctly specified.\n"
     ]
    }
   ],
   "source": [
    "X= df_concord_variable[['residential_street_type','1 phase','log_CLAY']]\n",
    "y= df_concord_variable['total cost']\n",
    "#X = sm.add_constant(X)\n",
    "est = sm.OLS(y, X).fit()\n",
    "print(est.summary())"
   ]
  },
  {
   "cell_type": "code",
   "execution_count": 29,
   "id": "dcc063e5-494b-421d-b8a8-475eb184c47c",
   "metadata": {},
   "outputs": [
    {
     "data": {
      "image/png": "[encoded data removed]",
      "text/plain": [
       "<Figure size 2160x1080 with 3 Axes>"
      ]
     },
     "metadata": {
      "needs_background": "light"
     },
     "output_type": "display_data"
    }
   ],
   "source": [
    "train_copy = df_concord_without_outliers_variable[['log_density','1 phase','log_CLAY']]\n",
    "train_copy =pd.get_dummies(train_copy)\n",
    "#train_copy=train_copy.fillna(0)\n",
    "linear_regr_test = LinearRegression()\n",
    "\n",
    "fig, axes = plt.subplots(1,len(train_copy.columns.values),sharey=True,constrained_layout=True,figsize=(30,15))\n",
    "\n",
    "for i,e in enumerate(train_copy.columns):\n",
    "  linear_regr_test.fit(train_copy[e].values[:,np.newaxis], y.values)\n",
    "  axes[i].set_title(\"Best fit line\", fontsize=30)\n",
    "  axes[i].set_xlabel(str(e), fontsize=30)\n",
    "  axes[i].set_ylabel('Total cost', fontsize=30)\n",
    "  axes[i].scatter(train_copy[e].values[:,np.newaxis], y,color='g')\n",
    "  axes[i].plot(train_copy[e].values[:,np.newaxis], \n",
    "  linear_regr_test.predict(train_copy[e].values[:,np.newaxis]),color='k')"
   ]
  },
  {
   "cell_type": "code",
   "execution_count": 6,
   "id": "e187bb88-7e4e-45f4-9290-35d64f4b06ff",
   "metadata": {},
   "outputs": [
    {
     "name": "stdout",
     "output_type": "stream",
     "text": [
      "Pearsons correlation: -0.525\n"
     ]
    }
   ],
   "source": [
    "corr, _ = pearsonr(df_concord['log_density'], df_concord['residential_street_type'])\n",
    "print('Pearsons correlation: %.3f' % corr)"
   ]
  },
  {
   "cell_type": "code",
   "execution_count": 36,
   "id": "8efcbfd9-6dcf-4823-ac76-499ffb4639ad",
   "metadata": {},
   "outputs": [
    {
     "name": "stdout",
     "output_type": "stream",
     "text": [
      "Spearmans correlation: -0.544\n"
     ]
    }
   ],
   "source": [
    "corr, _ = spearmanr(df_concord['log_density'], df_concord['residential_street_type'])\n",
    "print('Spearmans correlation: %.3f' % corr)"
   ]
  },
  {
   "cell_type": "code",
   "execution_count": 18,
   "id": "61698d27-fe0e-4a01-bfa9-a8f389fbe403",
   "metadata": {},
   "outputs": [
    {
     "name": "stdout",
     "output_type": "stream",
     "text": [
      "                            OLS Regression Results                            \n",
      "==============================================================================\n",
      "Dep. Variable:             total cost   R-squared:                       0.332\n",
      "Model:                            OLS   Adj. R-squared:                  0.183\n",
      "Method:                 Least Squares   F-statistic:                     2.236\n",
      "Date:                Tue, 18 Jan 2022   Prob (F-statistic):              0.106\n",
      "Time:                        16:37:33   Log-Likelihood:                -123.23\n",
      "No. Observations:                  23   AIC:                             256.5\n",
      "Df Residuals:                      18   BIC:                             262.1\n",
      "Df Model:                           4                                         \n",
      "Covariance Type:            nonrobust                                         \n",
      "=======================================================================================\n",
      "                          coef    std err          t      P>|t|      [0.025      0.975]\n",
      "---------------------------------------------------------------------------------------\n",
      "const                 139.0494     62.000      2.243      0.038       8.791     269.307\n",
      "log_density            -1.8030     34.417     -0.052      0.959     -74.111      70.505\n",
      "1 phase              -109.6274    147.691     -0.742      0.467    -419.915     200.660\n",
      "log_CLAY               69.6341     58.410      1.192      0.249     -53.080     192.349\n",
      "log_density*1 phase   -26.6166     83.397     -0.319      0.753    -201.826     148.593\n",
      "==============================================================================\n",
      "Omnibus:                        5.376   Durbin-Watson:                   2.101\n",
      "Prob(Omnibus):                  0.068   Jarque-Bera (JB):                3.988\n",
      "Skew:                           0.422   Prob(JB):                        0.136\n",
      "Kurtosis:                       4.857   Cond. No.                         31.6\n",
      "==============================================================================\n",
      "\n",
      "Notes:\n",
      "[1] Standard Errors assume that the covariance matrix of the errors is correctly specified.\n"
     ]
    }
   ],
   "source": [
    "df_concord_without_outliers_variable['log_density*1 phase']=df_concord_without_outliers_variable['log_density']*df_concord_without_outliers_variable['1 phase']\n",
    "X= df_concord_without_outliers_variable[['log_density','1 phase','log_CLAY','log_density*1 phase']]\n",
    "y= df_concord_without_outliers_variable['total cost']\n",
    "X = sm.add_constant(X)\n",
    "est = sm.OLS(y, X).fit()\n",
    "print(est.summary())"
   ]
  },
  {
   "cell_type": "code",
   "execution_count": 22,
   "id": "e4a76a1f-b95a-4291-8c4a-5850f4120740",
   "metadata": {},
   "outputs": [
    {
     "name": "stdout",
     "output_type": "stream",
     "text": [
      "                            OLS Regression Results                            \n",
      "==============================================================================\n",
      "Dep. Variable:             total cost   R-squared:                       0.323\n",
      "Model:                            OLS   Adj. R-squared:                  0.194\n",
      "Method:                 Least Squares   F-statistic:                     2.508\n",
      "Date:                Tue, 18 Jan 2022   Prob (F-statistic):             0.0728\n",
      "Time:                        16:40:00   Log-Likelihood:                -138.90\n",
      "No. Observations:                  26   AIC:                             287.8\n",
      "Df Residuals:                      21   BIC:                             294.1\n",
      "Df Model:                           4                                         \n",
      "Covariance Type:            nonrobust                                         \n",
      "===========================================================================================\n",
      "                              coef    std err          t      P>|t|      [0.025      0.975]\n",
      "-------------------------------------------------------------------------------------------\n",
      "const                     113.4683     45.094      2.516      0.020      19.690     207.247\n",
      "log_density               -20.0119     20.496     -0.976      0.340     -62.636      22.612\n",
      "1 phase                   -52.8354     27.003     -1.957      0.064    -108.992       3.321\n",
      "log_CLAY                   69.8269     58.755      1.188      0.248     -52.360     192.014\n",
      "residential_street_type   -10.9843     33.727     -0.326      0.748     -81.124      59.155\n",
      "==============================================================================\n",
      "Omnibus:                        3.375   Durbin-Watson:                   0.922\n",
      "Prob(Omnibus):                  0.185   Jarque-Bera (JB):                1.845\n",
      "Skew:                           0.357   Prob(JB):                        0.397\n",
      "Kurtosis:                       4.093   Cond. No.                         14.0\n",
      "==============================================================================\n",
      "\n",
      "Notes:\n",
      "[1] Standard Errors assume that the covariance matrix of the errors is correctly specified.\n"
     ]
    }
   ],
   "source": [
    "X= df_concord[['log_density','1 phase','log_CLAY','residential_street_type']]\n",
    "y= df_concord['total cost']\n",
    "X = sm.add_constant(X)\n",
    "est = sm.OLS(y, X).fit()\n",
    "print(est.summary())"
   ]
  },
  {
   "cell_type": "code",
   "execution_count": 27,
   "id": "b8b0b8b5",
   "metadata": {},
   "outputs": [],
   "source": [
    "#def a function to implement single variable linear regression:\n",
    "def estimate_coef(x1, y):\n",
    "    # number of observations/points\n",
    "    n = np.size(x1)\n",
    " \n",
    "    # mean of x1 and y vector\n",
    "    m_x1 = np.mean(x1)\n",
    "    m_y = np.mean(y)\n",
    " \n",
    "    # calculating cross-deviation and deviation about x1\n",
    "    SS_x1y = np.sum(y*x1) - n*m_y*m_x1\n",
    "    SS_x1x1 = np.sum(x1*x1) - n*m_x1*m_x1\n",
    " \n",
    "    # calculating regression coefficients\n",
    "    b_1 = SS_x1y / SS_x1x1\n",
    "    b_0 = m_y - b_1*m_x1\n",
    " \n",
    "    return (b_0, b_1)\n",
    " \n",
    "def plot_regression_line(x1, y, b):\n",
    "    # plotting the actual points as scatter plot\n",
    "    plt.scatter(x1, y, color = \"m\",\n",
    "               marker = \"o\", s = 30)\n",
    " \n",
    "    # predicted response vector\n",
    "    y_pred = b[0] + b[1]*x1\n",
    " \n",
    "    # plotting the regression line\n",
    "    plt.plot(x1, y_pred, color = \"g\")\n",
    " \n",
    "    # putting labels\n",
    "    plt.xlabel('x1')\n",
    "    plt.ylabel('y')\n",
    " \n",
    "    # function to show plot\n",
    "    plt.show()\n",
    " \n",
    "def implement_single_variable_linear_regression(x1):\n",
    " \n",
    "    # estimating coefficients\n",
    "    b = estimate_coef(x1, y)\n",
    "    print(\"Estimated coefficients:\\nb_0 = {}  \\\n",
    "          \\nb_1 = {}\".format(b[0], b[1]))\n",
    " \n",
    "    # plotting regression line\n",
    "    plot_regression_line(x1, y, b)\n",
    " \n",
    "if __name__ == \"__implement_single_variable_linear_regression__\":\n",
    "    implement_single_variable_linear_regression(x1)"
   ]
  },
  {
   "cell_type": "code",
   "execution_count": 28,
   "id": "5891f46d",
   "metadata": {},
   "outputs": [
    {
     "name": "stdout",
     "output_type": "stream",
     "text": [
      "Estimated coefficients:\n",
      "b_0 = 156.28500977640965            \n",
      "b_1 = -28.920821395920335\n"
     ]
    },
    {
     "data": {
      "image/png": "[encoded data removed]",
      "text/plain": [
       "<Figure size 432x288 with 1 Axes>"
      ]
     },
     "metadata": {
      "needs_background": "light"
     },
     "output_type": "display_data"
    }
   ],
   "source": [
    "#implement single variable linear regression for density(#parcel/ft)\n",
    "implement_single_variable_linear_regression(x1= df_concord_variable['density(#parcel/ft)'])"
   ]
  },
  {
   "cell_type": "code",
   "execution_count": 29,
   "id": "6f3fa7a9",
   "metadata": {},
   "outputs": [
    {
     "name": "stdout",
     "output_type": "stream",
     "text": [
      "Estimated coefficients:\n",
      "b_0 = 145.95860419328443            \n",
      "b_1 = 0.0835126157902222\n"
     ]
    },
    {
     "data": {
      "image/png": "[encoded data removed]",
      "text/plain": [
       "<Figure size 432x288 with 1 Axes>"
      ]
     },
     "metadata": {
      "needs_background": "light"
     },
     "output_type": "display_data"
    }
   ],
   "source": [
    "#implement single variable linear regression for SAND_mean\n",
    "implement_single_variable_linear_regression(x1 = df_concord_variable['SAND_mean'])"
   ]
  },
  {
   "cell_type": "code",
   "execution_count": 30,
   "id": "9eb8cbc3",
   "metadata": {},
   "outputs": [
    {
     "name": "stdout",
     "output_type": "stream",
     "text": [
      "Estimated coefficients:\n",
      "b_0 = 177.426            \n",
      "b_1 = -62.246909090909114\n"
     ]
    },
    {
     "data": {
      "image/png": "[encoded data removed]",
      "text/plain": [
       "<Figure size 432x288 with 1 Axes>"
      ]
     },
     "metadata": {
      "needs_background": "light"
     },
     "output_type": "display_data"
    }
   ],
   "source": [
    "#implement single variable linear regression for 1 phase\n",
    "implement_single_variable_linear_regression(x1 = df_concord_variable['1 phase'])"
   ]
  },
  {
   "cell_type": "code",
   "execution_count": 31,
   "id": "66f909a5",
   "metadata": {},
   "outputs": [],
   "source": [
    "#def a function to implement multi variable linear regression:\n",
    "def implement_multivariable_regression(X):\n",
    "    #Splitting the dataset\n",
    "    x_train, x_test, y_train, y_test = train_test_split(X, y, test_size = 0.3, random_state = 100)\n",
    "    #Fitting the Multiple Linear Regression model\n",
    "    mlr = LinearRegression()  \n",
    "    mlr.fit(X, y)\n",
    "    #Intercept and Coefficient\n",
    "    print(\"Intercept: \", mlr.intercept_)\n",
    "    print(\"Coefficients:\", list(zip(X, mlr.coef_)))\n",
    "    #Prediction of test set\n",
    "    y_pred_mlr= mlr.predict(x_test)\n",
    "    #Predicted values\n",
    "    print(\"Prediction for test set: {}\".format(y_pred_mlr))\n",
    "    #Actual value and the predicted value\n",
    "    mlr_diff = pd.DataFrame({'Actual value': y_test, 'Predicted value': y_pred_mlr})\n",
    "    #slr_diff.head()\n",
    "    #Model Evaluation\n",
    "    from sklearn import metrics\n",
    "    meanAbErr = metrics.mean_absolute_error(y_test, y_pred_mlr)\n",
    "    meanSqErr = metrics.mean_squared_error(y_test, y_pred_mlr)\n",
    "    rootMeanSqErr = np.sqrt(metrics.mean_squared_error(y_test, y_pred_mlr))\n",
    "    print('R squared: {:.2f}'.format(mlr.score(X,y)*100))\n",
    "    print('Mean Absolute Error:', meanAbErr)\n",
    "    print('Mean Square Error:', meanSqErr)\n",
    "    print('Root Mean Square Error:', rootMeanSqErr)"
   ]
  },
  {
   "cell_type": "code",
   "execution_count": 32,
   "id": "077b6aed",
   "metadata": {},
   "outputs": [
    {
     "name": "stdout",
     "output_type": "stream",
     "text": [
      "Intercept:  113.49950728569426\n",
      "Coefficients: [('density(#parcel/ft)', -34.830300841445876), ('1 phase', -76.98804934009596), ('SAND_mean', 1.2435156569310308)]\n",
      "Prediction for test set: [ 90.97676587 185.33662126 137.15533812 187.981487   110.68797404\n",
      " 190.63046484 197.2340236  185.47112943]\n",
      "R squared: 37.13\n",
      "Mean Absolute Error: 28.157480760857627\n",
      "Mean Square Error: 1583.9719904117899\n",
      "Root Mean Square Error: 39.79914559901745\n"
     ]
    }
   ],
   "source": [
    "#implement multi variable linear regression for density, 1 phase and SAND_mean\n",
    "implement_multivariable_regression(X = df_concord_variable[['density(#parcel/ft)','1 phase', 'SAND_mean']])"
   ]
  },
  {
   "cell_type": "code",
   "execution_count": 33,
   "id": "5102b169",
   "metadata": {},
   "outputs": [
    {
     "name": "stdout",
     "output_type": "stream",
     "text": [
      "Intercept:  156.54476173372706\n",
      "Coefficients: [('density(#parcel/ft)', -32.75614949803049), ('1 phase', -59.05309473324798), ('CLAY_mean', 6.4499823403555965)]\n",
      "Prediction for test set: [109.16484995 186.88321924 108.8618391  191.13643984 131.79607191\n",
      " 178.78742027 182.51193002 178.54344348]\n",
      "R squared: 32.83\n",
      "Mean Absolute Error: 29.736648472125122\n",
      "Mean Square Error: 1640.8087219691015\n",
      "Root Mean Square Error: 40.50689721478432\n"
     ]
    }
   ],
   "source": [
    "#implement multi variable linear regression for density, 1 phase and CLAY_mean\n",
    "implement_multivariable_regression(X = df_concord_variable[['density(#parcel/ft)','1 phase', 'CLAY_mean']])"
   ]
  },
  {
   "cell_type": "code",
   "execution_count": 34,
   "id": "c732e757",
   "metadata": {},
   "outputs": [
    {
     "name": "stdout",
     "output_type": "stream",
     "text": [
      "Intercept:  116.69400552544124\n",
      "Coefficients: [('BLD_AREA/length', -0.006617028957576138), ('1 phase', -74.9467943849727), ('SAND_mean', 1.1711729903342547)]\n",
      "Prediction for test set: [ 93.3569406  184.23803804 136.32627482 186.17244278 111.61203334\n",
      " 190.3246161  196.05008132 184.62473992]\n",
      "R squared: 35.73\n",
      "Mean Absolute Error: 27.844033535583407\n",
      "Mean Square Error: 1544.8956587600883\n",
      "Root Mean Square Error: 39.305160714085474\n"
     ]
    }
   ],
   "source": [
    "#implement multi variable linear regression for BLD_AREA/length, 1 phase and SAND_mean\n",
    "implement_multivariable_regression(X = df_concord_variable[['BLD_AREA/length','1 phase', 'SAND_mean']])"
   ]
  },
  {
   "cell_type": "code",
   "execution_count": 35,
   "id": "f36edb11",
   "metadata": {},
   "outputs": [
    {
     "name": "stdout",
     "output_type": "stream",
     "text": [
      "Intercept:  157.8193637047039\n",
      "Coefficients: [('BLD_AREA/length', -0.006401223022299533), ('1 phase', -58.204263101528966), ('CLAY_mean', 5.982929062294761)]\n",
      "Prediction for test set: [110.66865445 185.83340567 109.94913349 189.24776898 131.41728938\n",
      " 179.18306895 182.35669126 178.26836238]\n",
      "R squared: 31.83\n",
      "Mean Absolute Error: 29.91266475531505\n",
      "Mean Square Error: 1610.312136621202\n",
      "Root Mean Square Error: 40.12869467876076\n"
     ]
    }
   ],
   "source": [
    "#implement multi variable linear regression for BLD_AREA/length, 1 phase and CLAY_mean\n",
    "implement_multivariable_regression(X = df_concord_variable[['BLD_AREA/length','1 phase', 'CLAY_mean']])"
   ]
  },
  {
   "cell_type": "code",
   "execution_count": 36,
   "id": "21f765b2",
   "metadata": {},
   "outputs": [
    {
     "data": {
      "text/html": [
       "<table class=\"simpletable\">\n",
       "<caption>OLS Regression Results</caption>\n",
       "<tr>\n",
       "  <th>Dep. Variable:</th>       <td>total cost</td>    <th>  R-squared:         </th> <td>   0.328</td>\n",
       "</tr>\n",
       "<tr>\n",
       "  <th>Model:</th>                   <td>OLS</td>       <th>  Adj. R-squared:    </th> <td>   0.237</td>\n",
       "</tr>\n",
       "<tr>\n",
       "  <th>Method:</th>             <td>Least Squares</td>  <th>  F-statistic:       </th> <td>   3.584</td>\n",
       "</tr>\n",
       "<tr>\n",
       "  <th>Date:</th>             <td>Wed, 05 Jan 2022</td> <th>  Prob (F-statistic):</th>  <td>0.0301</td> \n",
       "</tr>\n",
       "<tr>\n",
       "  <th>Time:</th>                 <td>10:05:14</td>     <th>  Log-Likelihood:    </th> <td> -138.81</td>\n",
       "</tr>\n",
       "<tr>\n",
       "  <th>No. Observations:</th>      <td>    26</td>      <th>  AIC:               </th> <td>   285.6</td>\n",
       "</tr>\n",
       "<tr>\n",
       "  <th>Df Residuals:</th>          <td>    22</td>      <th>  BIC:               </th> <td>   290.6</td>\n",
       "</tr>\n",
       "<tr>\n",
       "  <th>Df Model:</th>              <td>     3</td>      <th>                     </th>     <td> </td>   \n",
       "</tr>\n",
       "<tr>\n",
       "  <th>Covariance Type:</th>      <td>nonrobust</td>    <th>                     </th>     <td> </td>   \n",
       "</tr>\n",
       "</table>\n",
       "<table class=\"simpletable\">\n",
       "<tr>\n",
       "           <td></td>              <th>coef</th>     <th>std err</th>      <th>t</th>      <th>P>|t|</th>  <th>[0.025</th>    <th>0.975]</th>  \n",
       "</tr>\n",
       "<tr>\n",
       "  <th>const</th>               <td>  156.5448</td> <td>   37.937</td> <td>    4.126</td> <td> 0.000</td> <td>   77.869</td> <td>  235.221</td>\n",
       "</tr>\n",
       "<tr>\n",
       "  <th>density(#parcel/ft)</th> <td>  -32.7561</td> <td>   23.271</td> <td>   -1.408</td> <td> 0.173</td> <td>  -81.018</td> <td>   15.506</td>\n",
       "</tr>\n",
       "<tr>\n",
       "  <th>1 phase</th>             <td>  -59.0531</td> <td>   22.603</td> <td>   -2.613</td> <td> 0.016</td> <td> -105.929</td> <td>  -12.178</td>\n",
       "</tr>\n",
       "<tr>\n",
       "  <th>CLAY_mean</th>           <td>    6.4500</td> <td>    8.224</td> <td>    0.784</td> <td> 0.441</td> <td>  -10.606</td> <td>   23.506</td>\n",
       "</tr>\n",
       "</table>\n",
       "<table class=\"simpletable\">\n",
       "<tr>\n",
       "  <th>Omnibus:</th>       <td> 5.852</td> <th>  Durbin-Watson:     </th> <td>   0.970</td>\n",
       "</tr>\n",
       "<tr>\n",
       "  <th>Prob(Omnibus):</th> <td> 0.054</td> <th>  Jarque-Bera (JB):  </th> <td>   4.643</td>\n",
       "</tr>\n",
       "<tr>\n",
       "  <th>Skew:</th>          <td> 0.512</td> <th>  Prob(JB):          </th> <td>  0.0981</td>\n",
       "</tr>\n",
       "<tr>\n",
       "  <th>Kurtosis:</th>      <td> 4.800</td> <th>  Cond. No.          </th> <td>    16.3</td>\n",
       "</tr>\n",
       "</table><br/><br/>Notes:<br/>[1] Standard Errors assume that the covariance matrix of the errors is correctly specified."
      ],
      "text/plain": [
       "<class 'statsmodels.iolib.summary.Summary'>\n",
       "\"\"\"\n",
       "                            OLS Regression Results                            \n",
       "==============================================================================\n",
       "Dep. Variable:             total cost   R-squared:                       0.328\n",
       "Model:                            OLS   Adj. R-squared:                  0.237\n",
       "Method:                 Least Squares   F-statistic:                     3.584\n",
       "Date:                Wed, 05 Jan 2022   Prob (F-statistic):             0.0301\n",
       "Time:                        10:05:14   Log-Likelihood:                -138.81\n",
       "No. Observations:                  26   AIC:                             285.6\n",
       "Df Residuals:                      22   BIC:                             290.6\n",
       "Df Model:                           3                                         \n",
       "Covariance Type:            nonrobust                                         \n",
       "=======================================================================================\n",
       "                          coef    std err          t      P>|t|      [0.025      0.975]\n",
       "---------------------------------------------------------------------------------------\n",
       "const                 156.5448     37.937      4.126      0.000      77.869     235.221\n",
       "density(#parcel/ft)   -32.7561     23.271     -1.408      0.173     -81.018      15.506\n",
       "1 phase               -59.0531     22.603     -2.613      0.016    -105.929     -12.178\n",
       "CLAY_mean               6.4500      8.224      0.784      0.441     -10.606      23.506\n",
       "==============================================================================\n",
       "Omnibus:                        5.852   Durbin-Watson:                   0.970\n",
       "Prob(Omnibus):                  0.054   Jarque-Bera (JB):                4.643\n",
       "Skew:                           0.512   Prob(JB):                       0.0981\n",
       "Kurtosis:                       4.800   Cond. No.                         16.3\n",
       "==============================================================================\n",
       "\n",
       "Notes:\n",
       "[1] Standard Errors assume that the covariance matrix of the errors is correctly specified.\n",
       "\"\"\""
      ]
     },
     "execution_count": 36,
     "metadata": {},
     "output_type": "execute_result"
    }
   ],
   "source": [
    "X=df_concord_variable[['density(#parcel/ft)','1 phase', 'CLAY_mean']]\n",
    "y=df_concord_variable['total cost']\n",
    "X = sm.add_constant(X)\n",
    "est = sm.OLS(y, X).fit()\n",
    "est.summary()"
   ]
  },
  {
   "cell_type": "code",
   "execution_count": 37,
   "id": "8b6964d4",
   "metadata": {},
   "outputs": [
    {
     "name": "stdout",
     "output_type": "stream",
     "text": [
      "                                 OLS Regression Results                                \n",
      "=======================================================================================\n",
      "Dep. Variable:             total cost   R-squared (uncentered):                   0.831\n",
      "Model:                            OLS   Adj. R-squared (uncentered):              0.809\n",
      "Method:                 Least Squares   F-statistic:                              37.62\n",
      "Date:                Wed, 05 Jan 2022   Prob (F-statistic):                    4.89e-09\n",
      "Time:                        10:05:15   Log-Likelihood:                         -146.26\n",
      "No. Observations:                  26   AIC:                                      298.5\n",
      "Df Residuals:                      23   BIC:                                      302.3\n",
      "Df Model:                           3                                                  \n",
      "Covariance Type:            nonrobust                                                  \n",
      "=======================================================================================\n",
      "                          coef    std err          t      P>|t|      [0.025      0.975]\n",
      "---------------------------------------------------------------------------------------\n",
      "density(#parcel/ft)   -22.5718     30.143     -0.749      0.462     -84.928      39.784\n",
      "1 phase               -13.7164     25.731     -0.533      0.599     -66.945      39.512\n",
      "CLAY_mean              37.6630      4.205      8.957      0.000      28.965      46.361\n",
      "==============================================================================\n",
      "Omnibus:                        1.714   Durbin-Watson:                   1.423\n",
      "Prob(Omnibus):                  0.425   Jarque-Bera (JB):                0.851\n",
      "Skew:                           0.432   Prob(JB):                        0.653\n",
      "Kurtosis:                       3.196   Cond. No.                         9.02\n",
      "==============================================================================\n",
      "\n",
      "Notes:\n",
      "[1] R² is computed without centering (uncentered) since the model does not contain a constant.\n",
      "[2] Standard Errors assume that the covariance matrix of the errors is correctly specified.\n"
     ]
    }
   ],
   "source": [
    "X=df_concord_variable[['density(#parcel/ft)','1 phase', 'CLAY_mean']]\n",
    "y=df_concord_variable['total cost']\n",
    "#X = sm.add_constant(X)\n",
    "est = sm.OLS(y, X).fit()\n",
    "print(est.summary())"
   ]
  },
  {
   "cell_type": "code",
   "execution_count": 4,
   "id": "22ba4190",
   "metadata": {},
   "outputs": [
    {
     "name": "stdout",
     "output_type": "stream",
     "text": [
      "                            OLS Regression Results                            \n",
      "==============================================================================\n",
      "Dep. Variable:             total cost   R-squared:                       0.356\n",
      "Model:                            OLS   Adj. R-squared:                  0.268\n",
      "Method:                 Least Squares   F-statistic:                     4.046\n",
      "Date:                Wed, 05 Jan 2022   Prob (F-statistic):             0.0197\n",
      "Time:                        15:06:43   Log-Likelihood:                -138.27\n",
      "No. Observations:                  26   AIC:                             284.5\n",
      "Df Residuals:                      22   BIC:                             289.6\n",
      "Df Model:                           3                                         \n",
      "Covariance Type:            nonrobust                                         \n",
      "=======================================================================================\n",
      "                          coef    std err          t      P>|t|      [0.025      0.975]\n",
      "---------------------------------------------------------------------------------------\n",
      "const                 145.4689     33.948      4.285      0.000      75.065     215.873\n",
      "density(#parcel/ft)   -34.2131     22.835     -1.498      0.148     -81.569      13.143\n",
      "1 phase               -56.6915     22.070     -2.569      0.018    -102.462     -10.921\n",
      "log_CLAY               64.4064     51.362      1.254      0.223     -42.112     170.924\n",
      "==============================================================================\n",
      "Omnibus:                        6.396   Durbin-Watson:                   1.054\n",
      "Prob(Omnibus):                  0.041   Jarque-Bera (JB):                5.562\n",
      "Skew:                           0.515   Prob(JB):                       0.0620\n",
      "Kurtosis:                       5.018   Cond. No.                         7.21\n",
      "==============================================================================\n",
      "\n",
      "Notes:\n",
      "[1] Standard Errors assume that the covariance matrix of the errors is correctly specified.\n"
     ]
    }
   ],
   "source": [
    "X=df_concord_variable[['density(#parcel/ft)','1 phase', 'log_CLAY']]\n",
    "y=df_concord_variable['total cost']\n",
    "X = sm.add_constant(X)\n",
    "est = sm.OLS(y, X).fit()\n",
    "print(est.summary())"
   ]
  },
  {
   "cell_type": "code",
   "execution_count": 39,
   "id": "a5774dd1",
   "metadata": {},
   "outputs": [
    {
     "name": "stdout",
     "output_type": "stream",
     "text": [
      "                                 OLS Regression Results                                \n",
      "=======================================================================================\n",
      "Dep. Variable:             total cost   R-squared (uncentered):                   0.887\n",
      "Model:                            OLS   Adj. R-squared (uncentered):              0.872\n",
      "Method:                 Least Squares   F-statistic:                              59.98\n",
      "Date:                Wed, 05 Jan 2022   Prob (F-statistic):                    4.99e-11\n",
      "Time:                        10:05:16   Log-Likelihood:                         -141.04\n",
      "No. Observations:                  26   AIC:                                      288.1\n",
      "Df Residuals:                      23   BIC:                                      291.9\n",
      "Df Model:                           3                                                  \n",
      "Covariance Type:            nonrobust                                                  \n",
      "===================================================================================\n",
      "                      coef    std err          t      P>|t|      [0.025      0.975]\n",
      "-----------------------------------------------------------------------------------\n",
      "BLD_AREA/length    -0.0058      0.005     -1.104      0.281      -0.017       0.005\n",
      "1 phase           -85.9673     24.607     -3.494      0.002    -136.872     -35.063\n",
      "SAND_mean           3.0530      0.267     11.456      0.000       2.502       3.604\n",
      "==============================================================================\n",
      "Omnibus:                        2.219   Durbin-Watson:                   1.261\n",
      "Prob(Omnibus):                  0.330   Jarque-Bera (JB):                0.920\n",
      "Skew:                           0.299   Prob(JB):                        0.631\n",
      "Kurtosis:                       3.702   Cond. No.                     5.02e+03\n",
      "==============================================================================\n",
      "\n",
      "Notes:\n",
      "[1] R² is computed without centering (uncentered) since the model does not contain a constant.\n",
      "[2] Standard Errors assume that the covariance matrix of the errors is correctly specified.\n",
      "[3] The condition number is large, 5.02e+03. This might indicate that there are\n",
      "strong multicollinearity or other numerical problems.\n"
     ]
    }
   ],
   "source": [
    "X=df_concord_variable[['BLD_AREA/length','1 phase', 'SAND_mean']]\n",
    "y=df_concord_variable['total cost']\n",
    "#X = sm.add_constant(X)\n",
    "est = sm.OLS(y, X).fit()\n",
    "print(est.summary())"
   ]
  },
  {
   "cell_type": "code",
   "execution_count": 40,
   "id": "60418548",
   "metadata": {},
   "outputs": [
    {
     "name": "stdout",
     "output_type": "stream",
     "text": [
      "                                 OLS Regression Results                                \n",
      "=======================================================================================\n",
      "Dep. Variable:             total cost   R-squared (uncentered):                   0.829\n",
      "Model:                            OLS   Adj. R-squared (uncentered):              0.806\n",
      "Method:                 Least Squares   F-statistic:                              37.10\n",
      "Date:                Wed, 05 Jan 2022   Prob (F-statistic):                    5.57e-09\n",
      "Time:                        10:05:16   Log-Likelihood:                         -146.41\n",
      "No. Observations:                  26   AIC:                                      298.8\n",
      "Df Residuals:                      23   BIC:                                      302.6\n",
      "Df Model:                           3                                                  \n",
      "Covariance Type:            nonrobust                                                  \n",
      "===================================================================================\n",
      "                      coef    std err          t      P>|t|      [0.025      0.975]\n",
      "-----------------------------------------------------------------------------------\n",
      "BLD_AREA/length    -0.0035      0.006     -0.540      0.594      -0.017       0.010\n",
      "1 phase           -13.0847     25.919     -0.505      0.618     -66.702      40.532\n",
      "CLAY_mean          37.3533      4.201      8.892      0.000      28.664      46.043\n",
      "==============================================================================\n",
      "Omnibus:                        1.725   Durbin-Watson:                   1.404\n",
      "Prob(Omnibus):                  0.422   Jarque-Bera (JB):                0.901\n",
      "Skew:                           0.449   Prob(JB):                        0.637\n",
      "Kurtosis:                       3.155   Cond. No.                     4.32e+03\n",
      "==============================================================================\n",
      "\n",
      "Notes:\n",
      "[1] R² is computed without centering (uncentered) since the model does not contain a constant.\n",
      "[2] Standard Errors assume that the covariance matrix of the errors is correctly specified.\n",
      "[3] The condition number is large, 4.32e+03. This might indicate that there are\n",
      "strong multicollinearity or other numerical problems.\n"
     ]
    }
   ],
   "source": [
    "X=df_concord_variable[['BLD_AREA/length','1 phase', 'CLAY_mean']]\n",
    "y=df_concord_variable['total cost']\n",
    "#X = sm.add_constant(X)\n",
    "est = sm.OLS(y, X).fit()\n",
    "print(est.summary())"
   ]
  },
  {
   "cell_type": "code",
   "execution_count": 41,
   "id": "1b73f334",
   "metadata": {},
   "outputs": [
    {
     "name": "stdout",
     "output_type": "stream",
     "text": [
      "                            OLS Regression Results                            \n",
      "==============================================================================\n",
      "Dep. Variable:             total cost   R-squared:                       0.345\n",
      "Model:                            OLS   Adj. R-squared:                  0.256\n",
      "Method:                 Least Squares   F-statistic:                     3.861\n",
      "Date:                Wed, 05 Jan 2022   Prob (F-statistic):             0.0233\n",
      "Time:                        10:05:16   Log-Likelihood:                -138.48\n",
      "No. Observations:                  26   AIC:                             285.0\n",
      "Df Residuals:                      22   BIC:                             290.0\n",
      "Df Model:                           3                                         \n",
      "Covariance Type:            nonrobust                                         \n",
      "=======================================================================================\n",
      "                          coef    std err          t      P>|t|      [0.025      0.975]\n",
      "---------------------------------------------------------------------------------------\n",
      "const                 106.9303     72.081      1.483      0.152     -42.557     256.418\n",
      "density(#parcel/ft)   -40.9981     24.283     -1.688      0.105     -91.359       9.363\n",
      "1 phase               -65.2955     21.546     -3.030      0.006    -109.980     -20.611\n",
      "SAND_max                1.0221      0.937      1.091      0.287      -0.921       2.965\n",
      "==============================================================================\n",
      "Omnibus:                        2.690   Durbin-Watson:                   0.823\n",
      "Prob(Omnibus):                  0.261   Jarque-Bera (JB):                1.340\n",
      "Skew:                           0.125   Prob(JB):                        0.512\n",
      "Kurtosis:                       4.084   Cond. No.                         535.\n",
      "==============================================================================\n",
      "\n",
      "Notes:\n",
      "[1] Standard Errors assume that the covariance matrix of the errors is correctly specified.\n"
     ]
    }
   ],
   "source": [
    "X=df_concord_variable[['density(#parcel/ft)','1 phase', 'SAND_max']]\n",
    "y=df_concord_variable['total cost']\n",
    "X = sm.add_constant(X)\n",
    "est = sm.OLS(y, X).fit()\n",
    "print(est.summary())"
   ]
  },
  {
   "cell_type": "code",
   "execution_count": 42,
   "id": "4a26f59a-b497-46cc-9d5d-d283fdbbf0a7",
   "metadata": {},
   "outputs": [
    {
     "name": "stdout",
     "output_type": "stream",
     "text": [
      "                                 OLS Regression Results                                \n",
      "=======================================================================================\n",
      "Dep. Variable:             total cost   R-squared (uncentered):                   0.832\n",
      "Model:                            OLS   Adj. R-squared (uncentered):              0.810\n",
      "Method:                 Least Squares   F-statistic:                              37.98\n",
      "Date:                Wed, 05 Jan 2022   Prob (F-statistic):                    4.47e-09\n",
      "Time:                        10:05:17   Log-Likelihood:                         -146.16\n",
      "No. Observations:                  26   AIC:                                      298.3\n",
      "Df Residuals:                      23   BIC:                                      302.1\n",
      "Df Model:                           3                                                  \n",
      "Covariance Type:            nonrobust                                                  \n",
      "=======================================================================================\n",
      "                          coef    std err          t      P>|t|      [0.025      0.975]\n",
      "---------------------------------------------------------------------------------------\n",
      "density(#parcel/ft)   -26.6138     30.158     -0.882      0.387     -89.000      35.773\n",
      "1 phase                -9.8748     25.402     -0.389      0.701     -62.424      42.674\n",
      "log_CLAY              263.1479     29.231      9.002      0.000     202.680     323.616\n",
      "==============================================================================\n",
      "Omnibus:                        1.335   Durbin-Watson:                   1.602\n",
      "Prob(Omnibus):                  0.513   Jarque-Bera (JB):                0.921\n",
      "Skew:                           0.455   Prob(JB):                        0.631\n",
      "Kurtosis:                       2.856   Cond. No.                         2.04\n",
      "==============================================================================\n",
      "\n",
      "Notes:\n",
      "[1] R² is computed without centering (uncentered) since the model does not contain a constant.\n",
      "[2] Standard Errors assume that the covariance matrix of the errors is correctly specified.\n"
     ]
    }
   ],
   "source": [
    "X=df_concord_variable[['density(#parcel/ft)','1 phase','log_CLAY']]\n",
    "y=df_concord_variable['total cost']\n",
    "#X = sm.add_constant(X)\n",
    "est = sm.OLS(y, X).fit()\n",
    "print(est.summary())"
   ]
  },
  {
   "cell_type": "code",
   "execution_count": 43,
   "id": "4a9716e1-66f8-413d-ae80-feb3a841eaf3",
   "metadata": {},
   "outputs": [
    {
     "name": "stdout",
     "output_type": "stream",
     "text": [
      "                            OLS Regression Results                            \n",
      "==============================================================================\n",
      "Dep. Variable:             total cost   R-squared:                       0.356\n",
      "Model:                            OLS   Adj. R-squared:                  0.268\n",
      "Method:                 Least Squares   F-statistic:                     4.046\n",
      "Date:                Wed, 05 Jan 2022   Prob (F-statistic):             0.0197\n",
      "Time:                        10:05:17   Log-Likelihood:                -138.27\n",
      "No. Observations:                  26   AIC:                             284.5\n",
      "Df Residuals:                      22   BIC:                             289.6\n",
      "Df Model:                           3                                         \n",
      "Covariance Type:            nonrobust                                         \n",
      "=======================================================================================\n",
      "                          coef    std err          t      P>|t|      [0.025      0.975]\n",
      "---------------------------------------------------------------------------------------\n",
      "const                 145.4689     33.948      4.285      0.000      75.065     215.873\n",
      "density(#parcel/ft)   -34.2131     22.835     -1.498      0.148     -81.569      13.143\n",
      "1 phase               -56.6915     22.070     -2.569      0.018    -102.462     -10.921\n",
      "log_CLAY               64.4064     51.362      1.254      0.223     -42.112     170.924\n",
      "==============================================================================\n",
      "Omnibus:                        6.396   Durbin-Watson:                   1.054\n",
      "Prob(Omnibus):                  0.041   Jarque-Bera (JB):                5.562\n",
      "Skew:                           0.515   Prob(JB):                       0.0620\n",
      "Kurtosis:                       5.018   Cond. No.                         7.21\n",
      "==============================================================================\n",
      "\n",
      "Notes:\n",
      "[1] Standard Errors assume that the covariance matrix of the errors is correctly specified.\n"
     ]
    }
   ],
   "source": [
    "X=df_concord_variable[['density(#parcel/ft)','1 phase','log_CLAY']]\n",
    "y=df_concord_variable['total cost']\n",
    "X = sm.add_constant(X)\n",
    "est = sm.OLS(y, X).fit()\n",
    "print(est.summary())"
   ]
  },
  {
   "cell_type": "code",
   "execution_count": 44,
   "id": "9f901a1e-cfe3-495c-ade7-e7f61ae4a7f3",
   "metadata": {},
   "outputs": [
    {
     "name": "stdout",
     "output_type": "stream",
     "text": [
      "                                 OLS Regression Results                                \n",
      "=======================================================================================\n",
      "Dep. Variable:             total cost   R-squared (uncentered):                   0.870\n",
      "Model:                            OLS   Adj. R-squared (uncentered):              0.853\n",
      "Method:                 Least Squares   F-statistic:                              51.12\n",
      "Date:                Wed, 05 Jan 2022   Prob (F-statistic):                    2.48e-10\n",
      "Time:                        10:05:18   Log-Likelihood:                         -142.87\n",
      "No. Observations:                  26   AIC:                                      291.7\n",
      "Df Residuals:                      23   BIC:                                      295.5\n",
      "Df Model:                           3                                                  \n",
      "Covariance Type:            nonrobust                                                  \n",
      "===============================================================================\n",
      "                  coef    std err          t      P>|t|      [0.025      0.975]\n",
      "-------------------------------------------------------------------------------\n",
      "log_density   -42.1148     15.251     -2.761      0.011     -73.664     -10.566\n",
      "1 phase       -34.6709     24.100     -1.439      0.164     -84.526      15.184\n",
      "log_CLAY      175.5760     37.824      4.642      0.000      97.330     253.822\n",
      "==============================================================================\n",
      "Omnibus:                        1.718   Durbin-Watson:                   1.402\n",
      "Prob(Omnibus):                  0.424   Jarque-Bera (JB):                0.684\n",
      "Skew:                           0.343   Prob(JB):                        0.711\n",
      "Kurtosis:                       3.400   Cond. No.                         5.55\n",
      "==============================================================================\n",
      "\n",
      "Notes:\n",
      "[1] R² is computed without centering (uncentered) since the model does not contain a constant.\n",
      "[2] Standard Errors assume that the covariance matrix of the errors is correctly specified.\n"
     ]
    }
   ],
   "source": [
    "X=df_concord_variable[['log_density','1 phase','log_CLAY']]\n",
    "y=df_concord_variable['total cost']\n",
    "#X = sm.add_constant(X)\n",
    "est = sm.OLS(y, X).fit()\n",
    "print(est.summary())"
   ]
  },
  {
   "cell_type": "code",
   "execution_count": 45,
   "id": "fbad0220-018e-447d-ab09-4996fc11be17",
   "metadata": {},
   "outputs": [
    {
     "name": "stdout",
     "output_type": "stream",
     "text": [
      "                            OLS Regression Results                            \n",
      "==============================================================================\n",
      "Dep. Variable:             total cost   R-squared:                       0.320\n",
      "Model:                            OLS   Adj. R-squared:                  0.227\n",
      "Method:                 Least Squares   F-statistic:                     3.449\n",
      "Date:                Wed, 05 Jan 2022   Prob (F-statistic):             0.0341\n",
      "Time:                        10:05:21   Log-Likelihood:                -138.97\n",
      "No. Observations:                  26   AIC:                             285.9\n",
      "Df Residuals:                      22   BIC:                             291.0\n",
      "Df Model:                           3                                         \n",
      "Covariance Type:            nonrobust                                         \n",
      "===============================================================================\n",
      "                  coef    std err          t      P>|t|      [0.025      0.975]\n",
      "-------------------------------------------------------------------------------\n",
      "const         117.5917     42.392      2.774      0.011      29.676     205.507\n",
      "log_density   -16.1454     16.365     -0.987      0.335     -50.084      17.793\n",
      "1 phase       -57.3327     22.729     -2.522      0.019    -104.470     -10.195\n",
      "log_CLAY       62.1581     52.725      1.179      0.251     -47.187     171.503\n",
      "==============================================================================\n",
      "Omnibus:                        5.440   Durbin-Watson:                   1.000\n",
      "Prob(Omnibus):                  0.066   Jarque-Bera (JB):                3.887\n",
      "Skew:                           0.546   Prob(JB):                        0.143\n",
      "Kurtosis:                       4.547   Cond. No.                         11.7\n",
      "==============================================================================\n",
      "\n",
      "Notes:\n",
      "[1] Standard Errors assume that the covariance matrix of the errors is correctly specified.\n"
     ]
    }
   ],
   "source": [
    "X=df_concord_variable[['log_density','1 phase','log_CLAY']]\n",
    "y=df_concord_variable['total cost']\n",
    "X = sm.add_constant(X)\n",
    "est = sm.OLS(y, X).fit()\n",
    "print(est.summary())"
   ]
  },
  {
   "cell_type": "code",
   "execution_count": 47,
   "id": "0577fe6e-a3f2-43fb-8dd0-eecb6ff6c839",
   "metadata": {},
   "outputs": [
    {
     "name": "stdout",
     "output_type": "stream",
     "text": [
      "                                 OLS Regression Results                                \n",
      "=======================================================================================\n",
      "Dep. Variable:             total cost   R-squared (uncentered):                   0.904\n",
      "Model:                            OLS   Adj. R-squared (uncentered):              0.890\n",
      "Method:                 Least Squares   F-statistic:                              62.74\n",
      "Date:                Wed, 05 Jan 2022   Prob (F-statistic):                    2.36e-10\n",
      "Time:                        10:05:24   Log-Likelihood:                         -123.67\n",
      "No. Observations:                  23   AIC:                                      253.3\n",
      "Df Residuals:                      20   BIC:                                      256.8\n",
      "Df Model:                           3                                                  \n",
      "Covariance Type:            nonrobust                                                  \n",
      "===============================================================================\n",
      "                  coef    std err          t      P>|t|      [0.025      0.975]\n",
      "-------------------------------------------------------------------------------\n",
      "log_density   -31.5654     22.689     -1.391      0.179     -78.893      15.762\n",
      "1 phase       -75.9200     25.460     -2.982      0.007    -129.029     -22.811\n",
      "SAND_max        1.7651      0.465      3.792      0.001       0.794       2.736\n",
      "==============================================================================\n",
      "Omnibus:                        0.184   Durbin-Watson:                   2.029\n",
      "Prob(Omnibus):                  0.912   Jarque-Bera (JB):                0.012\n",
      "Skew:                           0.004   Prob(JB):                        0.994\n",
      "Kurtosis:                       2.889   Cond. No.                         186.\n",
      "==============================================================================\n",
      "\n",
      "Notes:\n",
      "[1] R² is computed without centering (uncentered) since the model does not contain a constant.\n",
      "[2] Standard Errors assume that the covariance matrix of the errors is correctly specified.\n"
     ]
    }
   ],
   "source": [
    "X= df_concord_without_outliers_variable[['log_density','1 phase','SAND_max']]\n",
    "y= df_concord_without_outliers_variable['total cost']\n",
    "#X = sm.add_constant(X)\n",
    "est = sm.OLS(y, X).fit()\n",
    "print(est.summary())"
   ]
  },
  {
   "cell_type": "code",
   "execution_count": 49,
   "id": "eb8f1e5f-11a3-4f27-a21a-ab904869f6ff",
   "metadata": {},
   "outputs": [
    {
     "data": {
      "text/plain": [
       "array([-0.14179224, -0.50018074,  0.32216246])"
      ]
     },
     "execution_count": 49,
     "metadata": {},
     "output_type": "execute_result"
    }
   ],
   "source": [
    "X= df_concord_variable[['UNITS_density','1 phase','log_CLAY']]\n",
    "y= df_concord_variable['total cost']\n",
    "sklearn.feature_selection.r_regression(X, y, center=True)"
   ]
  },
  {
   "cell_type": "code",
   "execution_count": 28,
   "id": "5b10f5af-8870-496d-9776-e32b6588567f",
   "metadata": {},
   "outputs": [
    {
     "name": "stdout",
     "output_type": "stream",
     "text": [
      "                                 OLS Regression Results                                \n",
      "=======================================================================================\n",
      "Dep. Variable:             total cost   R-squared (uncentered):                   0.834\n",
      "Model:                            OLS   Adj. R-squared (uncentered):              0.812\n",
      "Method:                 Least Squares   F-statistic:                              38.41\n",
      "Date:                Mon, 03 Jan 2022   Prob (F-statistic):                    4.01e-09\n",
      "Time:                        10:48:15   Log-Likelihood:                         -146.04\n",
      "No. Observations:                  26   AIC:                                      298.1\n",
      "Df Residuals:                      23   BIC:                                      301.8\n",
      "Df Model:                           3                                                  \n",
      "Covariance Type:            nonrobust                                                  \n",
      "=================================================================================\n",
      "                    coef    std err          t      P>|t|      [0.025      0.975]\n",
      "---------------------------------------------------------------------------------\n",
      "UNITS_density  -120.6664    120.441     -1.002      0.327    -369.818     128.485\n",
      "1 phase         -14.7494     25.723     -0.573      0.572     -67.962      38.463\n",
      "log_CLAY        264.9110     29.326      9.033      0.000     204.246     325.576\n",
      "==============================================================================\n",
      "Omnibus:                        1.361   Durbin-Watson:                   1.718\n",
      "Prob(Omnibus):                  0.506   Jarque-Bera (JB):                0.909\n",
      "Skew:                           0.454   Prob(JB):                        0.635\n",
      "Kurtosis:                       2.886   Cond. No.                         6.75\n",
      "==============================================================================\n",
      "\n",
      "Notes:\n",
      "[1] R² is computed without centering (uncentered) since the model does not contain a constant.\n",
      "[2] Standard Errors assume that the covariance matrix of the errors is correctly specified.\n"
     ]
    }
   ],
   "source": [
    "X= df_concord_variable[['UNITS_density','1 phase','log_CLAY']]\n",
    "y= df_concord_variable['total cost']\n",
    "#X = sm.add_constant(X)\n",
    "est = sm.OLS(y, X).fit()\n",
    "print(est.summary())"
   ]
  },
  {
   "cell_type": "code",
   "execution_count": 50,
   "id": "8669c0d9-71b2-472a-9a0c-cb2f8b5c92f3",
   "metadata": {},
   "outputs": [
    {
     "name": "stdout",
     "output_type": "stream",
     "text": [
      "                            OLS Regression Results                            \n",
      "==============================================================================\n",
      "Dep. Variable:             total cost   R-squared:                       0.366\n",
      "Model:                            OLS   Adj. R-squared:                  0.279\n",
      "Method:                 Least Squares   F-statistic:                     4.225\n",
      "Date:                Wed, 05 Jan 2022   Prob (F-statistic):             0.0167\n",
      "Time:                        10:15:44   Log-Likelihood:                -138.07\n",
      "No. Observations:                  26   AIC:                             284.1\n",
      "Df Residuals:                      22   BIC:                             289.2\n",
      "Df Model:                           3                                         \n",
      "Covariance Type:            nonrobust                                         \n",
      "=================================================================================\n",
      "                    coef    std err          t      P>|t|      [0.025      0.975]\n",
      "---------------------------------------------------------------------------------\n",
      "const           145.2198     33.659      4.314      0.000      75.415     215.025\n",
      "UNITS_density  -147.2550     90.845     -1.621      0.119    -335.657      41.147\n",
      "1 phase         -62.5682     22.306     -2.805      0.010    -108.828     -16.308\n",
      "log_CLAY         66.3821     51.034      1.301      0.207     -39.455     172.219\n",
      "==============================================================================\n",
      "Omnibus:                        6.126   Durbin-Watson:                   1.222\n",
      "Prob(Omnibus):                  0.047   Jarque-Bera (JB):                5.816\n",
      "Skew:                           0.382   Prob(JB):                       0.0546\n",
      "Kurtosis:                       5.188   Cond. No.                         10.8\n",
      "==============================================================================\n",
      "\n",
      "Notes:\n",
      "[1] Standard Errors assume that the covariance matrix of the errors is correctly specified.\n"
     ]
    }
   ],
   "source": [
    "X= df_concord_variable[['UNITS_density','1 phase','log_CLAY']]\n",
    "y= df_concord_variable['total cost']\n",
    "X = sm.add_constant(X)\n",
    "est = sm.OLS(y, X).fit()\n",
    "print(est.summary())"
   ]
  },
  {
   "cell_type": "code",
   "execution_count": 51,
   "id": "19dad5a3-3676-464c-93ca-c4f9641b9109",
   "metadata": {},
   "outputs": [
    {
     "data": {
      "text/plain": [
       "array([ 0.26837867, -0.50018074,  0.32216246])"
      ]
     },
     "execution_count": 51,
     "metadata": {},
     "output_type": "execute_result"
    }
   ],
   "source": [
    "X= df_concord_variable[['residential_mode','1 phase','log_CLAY']]\n",
    "y= df_concord_variable['total cost']\n",
    "sklearn.feature_selection.r_regression(X, y, center=True)"
   ]
  },
  {
   "cell_type": "code",
   "execution_count": 6,
   "id": "11a10030-b0ae-4631-a218-1adba4faea07",
   "metadata": {},
   "outputs": [
    {
     "name": "stdout",
     "output_type": "stream",
     "text": [
      "                                 OLS Regression Results                                \n",
      "=======================================================================================\n",
      "Dep. Variable:             total cost   R-squared (uncentered):                   0.868\n",
      "Model:                            OLS   Adj. R-squared (uncentered):              0.850\n",
      "Method:                 Least Squares   F-statistic:                              50.27\n",
      "Date:                Wed, 05 Jan 2022   Prob (F-statistic):                    2.93e-10\n",
      "Time:                        09:27:04   Log-Likelihood:                         -143.06\n",
      "No. Observations:                  26   AIC:                                      292.1\n",
      "Df Residuals:                      23   BIC:                                      295.9\n",
      "Df Model:                           3                                                  \n",
      "Covariance Type:            nonrobust                                                  \n",
      "====================================================================================\n",
      "                       coef    std err          t      P>|t|      [0.025      0.975]\n",
      "------------------------------------------------------------------------------------\n",
      "residential_mode   125.2254     46.717      2.681      0.013      28.584     221.867\n",
      "1 phase            -36.9380     24.684     -1.496      0.148     -88.001      14.125\n",
      "log_CLAY            78.0218     70.542      1.106      0.280     -67.905     223.949\n",
      "==============================================================================\n",
      "Omnibus:                        2.509   Durbin-Watson:                   1.600\n",
      "Prob(Omnibus):                  0.285   Jarque-Bera (JB):                1.332\n",
      "Skew:                           0.526   Prob(JB):                        0.514\n",
      "Kurtosis:                       3.351   Cond. No.                         8.12\n",
      "==============================================================================\n",
      "\n",
      "Notes:\n",
      "[1] R² is computed without centering (uncentered) since the model does not contain a constant.\n",
      "[2] Standard Errors assume that the covariance matrix of the errors is correctly specified.\n"
     ]
    }
   ],
   "source": [
    "X= df_concord_variable[['residential_mode','1 phase','log_CLAY']]\n",
    "y= df_concord_variable['total cost']\n",
    "#X = sm.add_constant(X)\n",
    "est = sm.OLS(y, X).fit()\n",
    "print(est.summary())"
   ]
  },
  {
   "cell_type": "code",
   "execution_count": 52,
   "id": "3495aa42-4c01-410b-9991-e8823a171559",
   "metadata": {},
   "outputs": [
    {
     "name": "stdout",
     "output_type": "stream",
     "text": [
      "                            OLS Regression Results                            \n",
      "==============================================================================\n",
      "Dep. Variable:             total cost   R-squared:                       0.316\n",
      "Model:                            OLS   Adj. R-squared:                  0.222\n",
      "Method:                 Least Squares   F-statistic:                     3.383\n",
      "Date:                Wed, 05 Jan 2022   Prob (F-statistic):             0.0363\n",
      "Time:                        10:23:45   Log-Likelihood:                -139.05\n",
      "No. Observations:                  26   AIC:                             286.1\n",
      "Df Residuals:                      22   BIC:                             291.1\n",
      "Df Model:                           3                                         \n",
      "Covariance Type:            nonrobust                                         \n",
      "====================================================================================\n",
      "                       coef    std err          t      P>|t|      [0.025      0.975]\n",
      "------------------------------------------------------------------------------------\n",
      "const              119.5053     42.399      2.819      0.010      31.575     207.435\n",
      "residential_mode    45.4443     49.775      0.913      0.371     -57.782     148.671\n",
      "1 phase            -58.2669     22.919     -2.542      0.019    -105.797     -10.737\n",
      "log_CLAY            25.7404     64.546      0.399      0.694    -108.120     159.600\n",
      "==============================================================================\n",
      "Omnibus:                        5.164   Durbin-Watson:                   1.237\n",
      "Prob(Omnibus):                  0.076   Jarque-Bera (JB):                3.991\n",
      "Skew:                           0.405   Prob(JB):                        0.136\n",
      "Kurtosis:                       4.740   Cond. No.                         10.5\n",
      "==============================================================================\n",
      "\n",
      "Notes:\n",
      "[1] Standard Errors assume that the covariance matrix of the errors is correctly specified.\n"
     ]
    }
   ],
   "source": [
    "X= df_concord_variable[['residential_mode','1 phase','log_CLAY']]\n",
    "y= df_concord_variable['total cost']\n",
    "X = sm.add_constant(X)\n",
    "est = sm.OLS(y, X).fit()\n",
    "print(est.summary())"
   ]
  },
  {
   "cell_type": "code",
   "execution_count": 53,
   "id": "3138d583-fde0-4cb5-b35d-cb3c34091ebf",
   "metadata": {},
   "outputs": [
    {
     "data": {
      "text/plain": [
       "array([-0.25483392, -0.50018074,  0.32216246])"
      ]
     },
     "execution_count": 53,
     "metadata": {},
     "output_type": "execute_result"
    }
   ],
   "source": [
    "X= df_concord_variable[['residential_100%','1 phase','log_CLAY']]\n",
    "y= df_concord_variable['total cost']\n",
    "sklearn.feature_selection.r_regression(X, y, center=True)"
   ]
  },
  {
   "cell_type": "code",
   "execution_count": 8,
   "id": "81dd4d00-683d-4e0a-b6f0-341174bd9ce8",
   "metadata": {},
   "outputs": [
    {
     "name": "stdout",
     "output_type": "stream",
     "text": [
      "                                 OLS Regression Results                                \n",
      "=======================================================================================\n",
      "Dep. Variable:             total cost   R-squared (uncentered):                   0.826\n",
      "Model:                            OLS   Adj. R-squared (uncentered):              0.804\n",
      "Method:                 Least Squares   F-statistic:                              36.48\n",
      "Date:                Wed, 05 Jan 2022   Prob (F-statistic):                    6.53e-09\n",
      "Time:                        09:28:29   Log-Likelihood:                         -146.59\n",
      "No. Observations:                  26   AIC:                                      299.2\n",
      "Df Residuals:                      23   BIC:                                      303.0\n",
      "Df Model:                           3                                                  \n",
      "Covariance Type:            nonrobust                                                  \n",
      "====================================================================================\n",
      "                       coef    std err          t      P>|t|      [0.025      0.975]\n",
      "------------------------------------------------------------------------------------\n",
      "residential_100%     0.4589     36.952      0.012      0.990     -75.982      76.900\n",
      "1 phase            -10.2823     34.348     -0.299      0.767     -81.336      60.772\n",
      "log_CLAY           255.0611     29.551      8.631      0.000     193.931     316.191\n",
      "==============================================================================\n",
      "Omnibus:                        1.478   Durbin-Watson:                   1.604\n",
      "Prob(Omnibus):                  0.478   Jarque-Bera (JB):                1.062\n",
      "Skew:                           0.488   Prob(JB):                        0.588\n",
      "Kurtosis:                       2.829   Cond. No.                         3.05\n",
      "==============================================================================\n",
      "\n",
      "Notes:\n",
      "[1] R² is computed without centering (uncentered) since the model does not contain a constant.\n",
      "[2] Standard Errors assume that the covariance matrix of the errors is correctly specified.\n"
     ]
    }
   ],
   "source": [
    "X= df_concord_variable[['residential_100%','1 phase','log_CLAY']]\n",
    "y= df_concord_variable['total cost']\n",
    "#X = sm.add_constant(X)\n",
    "est = sm.OLS(y, X).fit()\n",
    "print(est.summary())"
   ]
  },
  {
   "cell_type": "code",
   "execution_count": 9,
   "id": "d31ddb52-2fe6-4f22-9a17-31cf14761e3e",
   "metadata": {},
   "outputs": [
    {
     "name": "stdout",
     "output_type": "stream",
     "text": [
      "                            OLS Regression Results                            \n",
      "==============================================================================\n",
      "Dep. Variable:             total cost   R-squared:                       0.291\n",
      "Model:                            OLS   Adj. R-squared:                  0.194\n",
      "Method:                 Least Squares   F-statistic:                     3.004\n",
      "Date:                Wed, 05 Jan 2022   Prob (F-statistic):             0.0523\n",
      "Time:                        09:28:41   Log-Likelihood:                -139.52\n",
      "No. Observations:                  26   AIC:                             287.0\n",
      "Df Residuals:                      22   BIC:                             292.1\n",
      "Df Model:                           3                                         \n",
      "Covariance Type:            nonrobust                                         \n",
      "====================================================================================\n",
      "                       coef    std err          t      P>|t|      [0.025      0.975]\n",
      "------------------------------------------------------------------------------------\n",
      "const              141.7154     35.533      3.988      0.001      68.025     215.406\n",
      "residential_100%     4.5164     28.802      0.157      0.877     -55.215      64.247\n",
      "1 phase            -58.4123     29.351     -1.990      0.059    -119.282       2.458\n",
      "log_CLAY            58.2808     54.445      1.070      0.296     -54.631     171.192\n",
      "==============================================================================\n",
      "Omnibus:                        5.792   Durbin-Watson:                   1.105\n",
      "Prob(Omnibus):                  0.055   Jarque-Bera (JB):                4.478\n",
      "Skew:                           0.527   Prob(JB):                        0.107\n",
      "Kurtosis:                       4.739   Cond. No.                         7.72\n",
      "==============================================================================\n",
      "\n",
      "Notes:\n",
      "[1] Standard Errors assume that the covariance matrix of the errors is correctly specified.\n"
     ]
    }
   ],
   "source": [
    "X= df_concord_variable[['residential_100%','1 phase','log_CLAY']]\n",
    "y= df_concord_variable['total cost']\n",
    "X = sm.add_constant(X)\n",
    "est = sm.OLS(y, X).fit()\n",
    "print(est.summary())"
   ]
  },
  {
   "cell_type": "code",
   "execution_count": 12,
   "id": "cf5f614c-7ab4-4d08-b0ef-49c0dabbc497",
   "metadata": {},
   "outputs": [
    {
     "name": "stdout",
     "output_type": "stream",
     "text": [
      "                                       OLS Regression Results                                      \n",
      "===================================================================================================\n",
      "Dep. Variable:     distribution Rate Per Foot ($)   R-squared (uncentered):                   0.533\n",
      "Model:                                        OLS   Adj. R-squared (uncentered):              0.472\n",
      "Method:                             Least Squares   F-statistic:                              8.747\n",
      "Date:                            Wed, 05 Jan 2022   Prob (F-statistic):                    0.000471\n",
      "Time:                                    09:31:26   Log-Likelihood:                         -136.12\n",
      "No. Observations:                              26   AIC:                                      278.2\n",
      "Df Residuals:                                  23   BIC:                                      282.0\n",
      "Df Model:                                       3                                                  \n",
      "Covariance Type:                        nonrobust                                                  \n",
      "====================================================================================\n",
      "                       coef    std err          t      P>|t|      [0.025      0.975]\n",
      "------------------------------------------------------------------------------------\n",
      "residential_100%   -30.8590     24.706     -1.249      0.224     -81.966      20.248\n",
      "1 phase             10.4900     22.964      0.457      0.652     -37.015      57.995\n",
      "log_CLAY            90.9690     19.757      4.604      0.000      50.098     131.840\n",
      "==============================================================================\n",
      "Omnibus:                        2.544   Durbin-Watson:                   1.660\n",
      "Prob(Omnibus):                  0.280   Jarque-Bera (JB):                2.194\n",
      "Skew:                           0.625   Prob(JB):                        0.334\n",
      "Kurtosis:                       2.320   Cond. No.                         3.05\n",
      "==============================================================================\n",
      "\n",
      "Notes:\n",
      "[1] R² is computed without centering (uncentered) since the model does not contain a constant.\n",
      "[2] Standard Errors assume that the covariance matrix of the errors is correctly specified.\n"
     ]
    }
   ],
   "source": [
    "X= df_concord_variable[['residential_100%','1 phase','log_CLAY']]\n",
    "y= df_concord_variable['distribution Rate Per Foot ($)']\n",
    "#X = sm.add_constant(X)\n",
    "est = sm.OLS(y, X).fit()\n",
    "print(est.summary())"
   ]
  },
  {
   "cell_type": "code",
   "execution_count": 31,
   "id": "1829040f-216d-4d4c-a323-db9abcb3a278",
   "metadata": {},
   "outputs": [
    {
     "name": "stdout",
     "output_type": "stream",
     "text": [
      "                                 OLS Regression Results                                \n",
      "=======================================================================================\n",
      "Dep. Variable:             total cost   R-squared (uncentered):                   0.884\n",
      "Model:                            OLS   Adj. R-squared (uncentered):              0.863\n",
      "Method:                 Least Squares   F-statistic:                              42.03\n",
      "Date:                Tue, 08 Feb 2022   Prob (F-statistic):                    5.34e-10\n",
      "Time:                        21:34:22   Log-Likelihood:                         -141.31\n",
      "No. Observations:                  26   AIC:                                      290.6\n",
      "Df Residuals:                      22   BIC:                                      295.7\n",
      "Df Model:                           4                                                  \n",
      "Covariance Type:            nonrobust                                                  \n",
      "======================================================================================\n",
      "                         coef    std err          t      P>|t|      [0.025      0.975]\n",
      "--------------------------------------------------------------------------------------\n",
      "log_density          -60.4642     18.336     -3.298      0.003     -98.491     -22.437\n",
      "1 phase               38.4762     49.528      0.777      0.446     -64.240     141.192\n",
      "log_CLAY             139.2366     42.421      3.282      0.003      51.260     227.213\n",
      "log_density*1phase    54.9145     32.847      1.672      0.109     -13.206     123.035\n",
      "==============================================================================\n",
      "Omnibus:                        3.480   Durbin-Watson:                   1.657\n",
      "Prob(Omnibus):                  0.175   Jarque-Bera (JB):                2.058\n",
      "Skew:                           0.266   Prob(JB):                        0.357\n",
      "Kurtosis:                       4.271   Cond. No.                         10.5\n",
      "==============================================================================\n",
      "\n",
      "Notes:\n",
      "[1] R² is computed without centering (uncentered) since the model does not contain a constant.\n",
      "[2] Standard Errors assume that the covariance matrix of the errors is correctly specified.\n"
     ]
    }
   ],
   "source": [
    "df_concord_variable['log_density*1phase']=df_concord_variable['log_density']*df_concord_variable['1 phase']\n",
    "X= df_concord_variable[['log_density','1 phase','log_CLAY','log_density*1phase']]\n",
    "y= df_concord_variable['total cost']\n",
    "#X = sm.add_constant(X)\n",
    "est = sm.OLS(y, X).fit()\n",
    "print(est.summary())"
   ]
  },
  {
   "cell_type": "code",
   "execution_count": 32,
   "id": "c0e0f968-c989-4e02-ad77-7f1c5bd3f7cf",
   "metadata": {},
   "outputs": [
    {
     "name": "stdout",
     "output_type": "stream",
     "text": [
      "                            OLS Regression Results                            \n",
      "==============================================================================\n",
      "Dep. Variable:             total cost   R-squared:                       0.338\n",
      "Model:                            OLS   Adj. R-squared:                  0.212\n",
      "Method:                 Least Squares   F-statistic:                     2.682\n",
      "Date:                Tue, 08 Feb 2022   Prob (F-statistic):             0.0597\n",
      "Time:                        21:35:04   Log-Likelihood:                -138.62\n",
      "No. Observations:                  26   AIC:                             287.2\n",
      "Df Residuals:                      21   BIC:                             293.5\n",
      "Df Model:                           4                                         \n",
      "Covariance Type:            nonrobust                                         \n",
      "======================================================================================\n",
      "                         coef    std err          t      P>|t|      [0.025      0.975]\n",
      "--------------------------------------------------------------------------------------\n",
      "const                103.1022     46.855      2.200      0.039       5.662     200.543\n",
      "log_density          -27.7736     22.515     -1.234      0.231     -74.597      19.050\n",
      "1 phase              -20.9425     53.080     -0.395      0.697    -131.329      89.444\n",
      "log_CLAY              59.4420     53.358      1.114      0.278     -51.521     170.405\n",
      "log_density*1phase    25.2232     33.175      0.760      0.456     -43.768      94.215\n",
      "==============================================================================\n",
      "Omnibus:                        5.421   Durbin-Watson:                   1.130\n",
      "Prob(Omnibus):                  0.067   Jarque-Bera (JB):                4.010\n",
      "Skew:                           0.504   Prob(JB):                        0.135\n",
      "Kurtosis:                       4.639   Cond. No.                         14.1\n",
      "==============================================================================\n",
      "\n",
      "Notes:\n",
      "[1] Standard Errors assume that the covariance matrix of the errors is correctly specified.\n"
     ]
    }
   ],
   "source": [
    "df_concord_variable['log_density*1phase']=df_concord_variable['log_density']*df_concord_variable['1 phase']\n",
    "X= df_concord_variable[['log_density','1 phase','log_CLAY','log_density*1phase']]\n",
    "y= df_concord_variable['total cost']\n",
    "X = sm.add_constant(X)\n",
    "est = sm.OLS(y, X).fit()\n",
    "print(est.summary())"
   ]
  },
  {
   "cell_type": "code",
   "execution_count": 33,
   "id": "c8aee0bb-a5b9-49ea-8176-7007ae47c91f",
   "metadata": {},
   "outputs": [
    {
     "name": "stdout",
     "output_type": "stream",
     "text": [
      "                                 OLS Regression Results                                \n",
      "=======================================================================================\n",
      "Dep. Variable:             total cost   R-squared (uncentered):                   0.825\n",
      "Model:                            OLS   Adj. R-squared (uncentered):              0.811\n",
      "Method:                 Least Squares   F-statistic:                              56.76\n",
      "Date:                Tue, 08 Feb 2022   Prob (F-statistic):                    7.98e-10\n",
      "Time:                        21:35:43   Log-Likelihood:                         -146.65\n",
      "No. Observations:                  26   AIC:                                      297.3\n",
      "Df Residuals:                      24   BIC:                                      299.8\n",
      "Df Model:                           2                                                  \n",
      "Covariance Type:            nonrobust                                                  \n",
      "======================================================================================\n",
      "                         coef    std err          t      P>|t|      [0.025      0.975]\n",
      "--------------------------------------------------------------------------------------\n",
      "log_CLAY             251.7810     26.615      9.460      0.000     196.850     306.712\n",
      "log_density*1phase     2.8687     14.621      0.196      0.846     -27.308      33.045\n",
      "==============================================================================\n",
      "Omnibus:                        1.734   Durbin-Watson:                   1.650\n",
      "Prob(Omnibus):                  0.420   Jarque-Bera (JB):                1.251\n",
      "Skew:                           0.531   Prob(JB):                        0.535\n",
      "Kurtosis:                       2.841   Cond. No.                         2.25\n",
      "==============================================================================\n",
      "\n",
      "Notes:\n",
      "[1] R² is computed without centering (uncentered) since the model does not contain a constant.\n",
      "[2] Standard Errors assume that the covariance matrix of the errors is correctly specified.\n"
     ]
    }
   ],
   "source": [
    "df_concord_variable['log_density*1phase']=df_concord_variable['log_density']*df_concord_variable['1 phase']\n",
    "X= df_concord_variable[['log_CLAY','log_density*1phase']]\n",
    "y= df_concord_variable['total cost']\n",
    "#X = sm.add_constant(X)\n",
    "est = sm.OLS(y, X).fit()\n",
    "print(est.summary())"
   ]
  },
  {
   "cell_type": "code",
   "execution_count": 34,
   "id": "89e8b680-c257-4ded-a687-d385672ddead",
   "metadata": {},
   "outputs": [
    {
     "name": "stdout",
     "output_type": "stream",
     "text": [
      "                            OLS Regression Results                            \n",
      "==============================================================================\n",
      "Dep. Variable:             total cost   R-squared:                       0.230\n",
      "Model:                            OLS   Adj. R-squared:                  0.163\n",
      "Method:                 Least Squares   F-statistic:                     3.431\n",
      "Date:                Tue, 08 Feb 2022   Prob (F-statistic):             0.0497\n",
      "Time:                        21:36:11   Log-Likelihood:                -140.59\n",
      "No. Observations:                  26   AIC:                             287.2\n",
      "Df Residuals:                      23   BIC:                             290.9\n",
      "Df Model:                           2                                         \n",
      "Covariance Type:            nonrobust                                         \n",
      "======================================================================================\n",
      "                         coef    std err          t      P>|t|      [0.025      0.975]\n",
      "--------------------------------------------------------------------------------------\n",
      "const                131.5482     35.565      3.699      0.001      57.976     205.120\n",
      "log_CLAY              65.1121     54.867      1.187      0.247     -48.390     178.614\n",
      "log_density*1phase    25.9353     13.370      1.940      0.065      -1.723      53.594\n",
      "==============================================================================\n",
      "Omnibus:                        6.176   Durbin-Watson:                   1.464\n",
      "Prob(Omnibus):                  0.046   Jarque-Bera (JB):                4.319\n",
      "Skew:                           0.722   Prob(JB):                        0.115\n",
      "Kurtosis:                       4.379   Cond. No.                         8.01\n",
      "==============================================================================\n",
      "\n",
      "Notes:\n",
      "[1] Standard Errors assume that the covariance matrix of the errors is correctly specified.\n"
     ]
    }
   ],
   "source": [
    "df_concord_variable['log_density*1phase']=df_concord_variable['log_density']*df_concord_variable['1 phase']\n",
    "X= df_concord_variable[['log_CLAY','log_density*1phase']]\n",
    "y= df_concord_variable['total cost']\n",
    "X = sm.add_constant(X)\n",
    "est = sm.OLS(y, X).fit()\n",
    "print(est.summary())"
   ]
  },
  {
   "cell_type": "code",
   "execution_count": 35,
   "id": "214e3e42-8236-4959-8c7e-6b273afdab26",
   "metadata": {},
   "outputs": [
    {
     "name": "stdout",
     "output_type": "stream",
     "text": [
      "                                 OLS Regression Results                                \n",
      "=======================================================================================\n",
      "Dep. Variable:             total cost   R-squared (uncentered):                   0.827\n",
      "Model:                            OLS   Adj. R-squared (uncentered):              0.805\n",
      "Method:                 Least Squares   F-statistic:                              36.67\n",
      "Date:                Tue, 08 Feb 2022   Prob (F-statistic):                    6.22e-09\n",
      "Time:                        21:36:41   Log-Likelihood:                         -146.53\n",
      "No. Observations:                  26   AIC:                                      299.1\n",
      "Df Residuals:                      23   BIC:                                      302.8\n",
      "Df Model:                           3                                                  \n",
      "Covariance Type:            nonrobust                                                  \n",
      "======================================================================================\n",
      "                         coef    std err          t      P>|t|      [0.025      0.975]\n",
      "--------------------------------------------------------------------------------------\n",
      "log_CLAY             255.4683     28.219      9.053      0.000     197.094     313.843\n",
      "1 phase              -25.1547     54.534     -0.461      0.649    -137.966      87.657\n",
      "log_density*1phase    -9.9189     31.457     -0.315      0.755     -74.994      55.156\n",
      "==============================================================================\n",
      "Omnibus:                        1.281   Durbin-Watson:                   1.517\n",
      "Prob(Omnibus):                  0.527   Jarque-Bera (JB):                0.900\n",
      "Skew:                           0.448   Prob(JB):                        0.638\n",
      "Kurtosis:                       2.836   Cond. No.                         5.62\n",
      "==============================================================================\n",
      "\n",
      "Notes:\n",
      "[1] R² is computed without centering (uncentered) since the model does not contain a constant.\n",
      "[2] Standard Errors assume that the covariance matrix of the errors is correctly specified.\n"
     ]
    }
   ],
   "source": [
    "df_concord_variable['log_density*1phase']=df_concord_variable['log_density']*df_concord_variable['1 phase']\n",
    "X= df_concord_variable[['log_CLAY','1 phase','log_density*1phase']]\n",
    "y= df_concord_variable['total cost']\n",
    "#X = sm.add_constant(X)\n",
    "est = sm.OLS(y, X).fit()\n",
    "print(est.summary())"
   ]
  },
  {
   "cell_type": "code",
   "execution_count": 36,
   "id": "f2b1e4c8-e785-43a2-87a2-69dd45aaeca2",
   "metadata": {},
   "outputs": [
    {
     "name": "stdout",
     "output_type": "stream",
     "text": [
      "                            OLS Regression Results                            \n",
      "==============================================================================\n",
      "Dep. Variable:             total cost   R-squared:                       0.290\n",
      "Model:                            OLS   Adj. R-squared:                  0.193\n",
      "Method:                 Least Squares   F-statistic:                     2.997\n",
      "Date:                Tue, 08 Feb 2022   Prob (F-statistic):             0.0526\n",
      "Time:                        21:37:02   Log-Likelihood:                -139.53\n",
      "No. Observations:                  26   AIC:                             287.1\n",
      "Df Residuals:                      22   BIC:                             292.1\n",
      "Df Model:                           3                                         \n",
      "Covariance Type:            nonrobust                                         \n",
      "======================================================================================\n",
      "                         coef    std err          t      P>|t|      [0.025      0.975]\n",
      "--------------------------------------------------------------------------------------\n",
      "const                141.2387     35.623      3.965      0.001      67.362     215.115\n",
      "log_CLAY              60.0719     53.984      1.113      0.278     -51.884     172.028\n",
      "1 phase              -59.4238     43.452     -1.368      0.185    -149.538      30.690\n",
      "log_density*1phase    -2.5740     24.634     -0.104      0.918     -53.661      48.513\n",
      "==============================================================================\n",
      "Omnibus:                        5.566   Durbin-Watson:                   1.089\n",
      "Prob(Omnibus):                  0.062   Jarque-Bera (JB):                4.261\n",
      "Skew:                           0.495   Prob(JB):                        0.119\n",
      "Kurtosis:                       4.718   Cond. No.                         8.73\n",
      "==============================================================================\n",
      "\n",
      "Notes:\n",
      "[1] Standard Errors assume that the covariance matrix of the errors is correctly specified.\n"
     ]
    }
   ],
   "source": [
    "df_concord_variable['log_density*1phase']=df_concord_variable['log_density']*df_concord_variable['1 phase']\n",
    "X= df_concord_variable[['log_CLAY','1 phase','log_density*1phase']]\n",
    "y= df_concord_variable['total cost']\n",
    "X = sm.add_constant(X)\n",
    "est = sm.OLS(y, X).fit()\n",
    "print(est.summary())"
   ]
  },
  {
   "cell_type": "code",
   "execution_count": 37,
   "id": "7685db71-97a2-4edd-842e-0bb8c3635856",
   "metadata": {},
   "outputs": [
    {
     "name": "stdout",
     "output_type": "stream",
     "text": [
      "                                 OLS Regression Results                                \n",
      "=======================================================================================\n",
      "Dep. Variable:             total cost   R-squared (uncentered):                   0.881\n",
      "Model:                            OLS   Adj. R-squared (uncentered):              0.866\n",
      "Method:                 Least Squares   F-statistic:                              56.82\n",
      "Date:                Tue, 08 Feb 2022   Prob (F-statistic):                    8.62e-11\n",
      "Time:                        21:37:21   Log-Likelihood:                         -141.67\n",
      "No. Observations:                  26   AIC:                                      289.3\n",
      "Df Residuals:                      23   BIC:                                      293.1\n",
      "Df Model:                           3                                                  \n",
      "Covariance Type:            nonrobust                                                  \n",
      "======================================================================================\n",
      "                         coef    std err          t      P>|t|      [0.025      0.975]\n",
      "--------------------------------------------------------------------------------------\n",
      "log_CLAY             154.6890     37.145      4.165      0.000      77.850     231.528\n",
      "log_density          -54.9144     16.741     -3.280      0.003     -89.546     -20.283\n",
      "log_density*1phase    32.3730     15.260      2.121      0.045       0.804      63.942\n",
      "==============================================================================\n",
      "Omnibus:                        2.534   Durbin-Watson:                   1.501\n",
      "Prob(Omnibus):                  0.282   Jarque-Bera (JB):                1.186\n",
      "Skew:                           0.148   Prob(JB):                        0.553\n",
      "Kurtosis:                       4.003   Cond. No.                         6.30\n",
      "==============================================================================\n",
      "\n",
      "Notes:\n",
      "[1] R² is computed without centering (uncentered) since the model does not contain a constant.\n",
      "[2] Standard Errors assume that the covariance matrix of the errors is correctly specified.\n"
     ]
    }
   ],
   "source": [
    "df_concord_variable['log_density*1phase']=df_concord_variable['log_density']*df_concord_variable['1 phase']\n",
    "X= df_concord_variable[['log_CLAY','log_density','log_density*1phase']]\n",
    "y= df_concord_variable['total cost']\n",
    "#X = sm.add_constant(X)\n",
    "est = sm.OLS(y, X).fit()\n",
    "print(est.summary())"
   ]
  },
  {
   "cell_type": "code",
   "execution_count": 38,
   "id": "37dec894-3420-4d4a-972b-9ab6a3ef1e2f",
   "metadata": {},
   "outputs": [
    {
     "name": "stdout",
     "output_type": "stream",
     "text": [
      "                            OLS Regression Results                            \n",
      "==============================================================================\n",
      "Dep. Variable:             total cost   R-squared:                       0.333\n",
      "Model:                            OLS   Adj. R-squared:                  0.242\n",
      "Method:                 Least Squares   F-statistic:                     3.664\n",
      "Date:                Tue, 08 Feb 2022   Prob (F-statistic):             0.0279\n",
      "Time:                        21:38:08   Log-Likelihood:                -138.71\n",
      "No. Observations:                  26   AIC:                             285.4\n",
      "Df Residuals:                      22   BIC:                             290.5\n",
      "Df Model:                           3                                         \n",
      "Covariance Type:            nonrobust                                         \n",
      "======================================================================================\n",
      "                         coef    std err          t      P>|t|      [0.025      0.975]\n",
      "--------------------------------------------------------------------------------------\n",
      "const                 93.6978     39.557      2.369      0.027      11.661     175.735\n",
      "log_CLAY              60.4863     52.259      1.157      0.260     -47.893     168.865\n",
      "log_density          -32.9944     17.864     -1.847      0.078     -70.041       4.053\n",
      "log_density*1phase    37.0255     14.066      2.632      0.015       7.855      66.196\n",
      "==============================================================================\n",
      "Omnibus:                        5.704   Durbin-Watson:                   1.230\n",
      "Prob(Omnibus):                  0.058   Jarque-Bera (JB):                4.254\n",
      "Skew:                           0.549   Prob(JB):                        0.119\n",
      "Kurtosis:                       4.650   Cond. No.                         12.0\n",
      "==============================================================================\n",
      "\n",
      "Notes:\n",
      "[1] Standard Errors assume that the covariance matrix of the errors is correctly specified.\n"
     ]
    }
   ],
   "source": [
    "df_concord_variable['log_density*1phase']=df_concord_variable['log_density']*df_concord_variable['1 phase']\n",
    "X= df_concord_variable[['log_CLAY','log_density','log_density*1phase']]\n",
    "y= df_concord_variable['total cost']\n",
    "X = sm.add_constant(X)\n",
    "est = sm.OLS(y, X).fit()\n",
    "print(est.summary())"
   ]
  },
  {
   "cell_type": "code",
   "execution_count": null,
   "id": "4cff52d1-548b-4723-b5c6-e47074c52b35",
   "metadata": {},
   "outputs": [],
   "source": []
  }
 ],
 "metadata": {
  "kernelspec": {
   "display_name": "Python 3 (ipykernel)",
   "language": "python",
   "name": "python3"
  },
  "language_info": {
   "codemirror_mode": {
    "name": "ipython",
    "version": 3
   },
   "file_extension": ".py",
   "mimetype": "text/x-python",
   "name": "python",
   "nbconvert_exporter": "python",
   "pygments_lexer": "ipython3",
   "version": "3.10.0"
  }
 },
 "nbformat": 4,
 "nbformat_minor": 5
}
