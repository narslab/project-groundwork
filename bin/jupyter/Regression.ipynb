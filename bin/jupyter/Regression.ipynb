{
 "cells": [
  {
   "cell_type": "code",
   "execution_count": 2,
   "id": "2c4a5a2d",
   "metadata": {},
   "outputs": [],
   "source": [
    "# import needed libraries\n",
    "import numpy as np\n",
    "import matplotlib.pyplot as plt\n",
    "import pandas as pd\n",
    "from sklearn import linear_model\n",
    "#import seaborn as sns\n",
    "from sklearn.linear_model import LinearRegression\n",
    "from sklearn.model_selection import train_test_split\n",
    "import statsmodels.api as sm\n",
    "from sklearn.datasets import make_blobs\n",
    "from statsmodels.api import OLS"
   ]
  },
  {
   "cell_type": "code",
   "execution_count": 3,
   "id": "1a99649b",
   "metadata": {},
   "outputs": [],
   "source": [
    "# opening concord data and save related columns in a dataframe\n",
    "with open(r'../../data/tidy/concord_streets_data.csv') as concord:\n",
    "    df_concord=pd.read_csv(concord)\n",
    "    df_concord_variable=df_concord.filter(items=['total cost','density(#parcel/ft)','1 phase','SAND_mean','CLAY_mean','BLD_AREA/length','TOTAL_VAL/length','SAND_max','CLAY_max','log_density','SAND/CLAY','log_CLAY'])\n",
    "    y = df_concord_variable['total cost']"
   ]
  },
  {
   "cell_type": "code",
   "execution_count": 4,
   "id": "b8b0b8b5",
   "metadata": {},
   "outputs": [],
   "source": [
    "#def a function to implement single variable linear regression:\n",
    "def estimate_coef(x1, y):\n",
    "    # number of observations/points\n",
    "    n = np.size(x1)\n",
    " \n",
    "    # mean of x1 and y vector\n",
    "    m_x1 = np.mean(x1)\n",
    "    m_y = np.mean(y)\n",
    " \n",
    "    # calculating cross-deviation and deviation about x1\n",
    "    SS_x1y = np.sum(y*x1) - n*m_y*m_x1\n",
    "    SS_x1x1 = np.sum(x1*x1) - n*m_x1*m_x1\n",
    " \n",
    "    # calculating regression coefficients\n",
    "    b_1 = SS_x1y / SS_x1x1\n",
    "    b_0 = m_y - b_1*m_x1\n",
    " \n",
    "    return (b_0, b_1)\n",
    " \n",
    "def plot_regression_line(x1, y, b):\n",
    "    # plotting the actual points as scatter plot\n",
    "    plt.scatter(x1, y, color = \"m\",\n",
    "               marker = \"o\", s = 30)\n",
    " \n",
    "    # predicted response vector\n",
    "    y_pred = b[0] + b[1]*x1\n",
    " \n",
    "    # plotting the regression line\n",
    "    plt.plot(x1, y_pred, color = \"g\")\n",
    " \n",
    "    # putting labels\n",
    "    plt.xlabel('x1')\n",
    "    plt.ylabel('y')\n",
    " \n",
    "    # function to show plot\n",
    "    plt.show()\n",
    " \n",
    "def implement_single_variable_linear_regression(x1):\n",
    " \n",
    "    # estimating coefficients\n",
    "    b = estimate_coef(x1, y)\n",
    "    print(\"Estimated coefficients:\\nb_0 = {}  \\\n",
    "          \\nb_1 = {}\".format(b[0], b[1]))\n",
    " \n",
    "    # plotting regression line\n",
    "    plot_regression_line(x1, y, b)\n",
    " \n",
    "if __name__ == \"__implement_single_variable_linear_regression__\":\n",
    "    implement_single_variable_linear_regression(x1)"
   ]
  },
  {
   "cell_type": "code",
   "execution_count": 5,
   "id": "5891f46d",
   "metadata": {},
   "outputs": [
    {
     "name": "stdout",
     "output_type": "stream",
     "text": [
      "Estimated coefficients:\n",
      "b_0 = 156.28500977640965            \n",
      "b_1 = -28.920821395920335\n"
     ]
    },
    {
     "data": {
      "image/png": "[encoded data removed]",
      "text/plain": [
       "<Figure size 432x288 with 1 Axes>"
      ]
     },
     "metadata": {
      "needs_background": "light"
     },
     "output_type": "display_data"
    }
   ],
   "source": [
    "#implement single variable linear regression for density(#parcel/ft)\n",
    "implement_single_variable_linear_regression(x1= df_concord_variable['density(#parcel/ft)'])"
   ]
  },
  {
   "cell_type": "code",
   "execution_count": 6,
   "id": "6f3fa7a9",
   "metadata": {},
   "outputs": [
    {
     "name": "stdout",
     "output_type": "stream",
     "text": [
      "Estimated coefficients:\n",
      "b_0 = 145.95860419328443            \n",
      "b_1 = 0.0835126157902222\n"
     ]
    },
    {
     "data": {
      "image/png": "[encoded data removed]",
      "text/plain": [
       "<Figure size 432x288 with 1 Axes>"
      ]
     },
     "metadata": {
      "needs_background": "light"
     },
     "output_type": "display_data"
    }
   ],
   "source": [
    "#implement single variable linear regression for SAND_mean\n",
    "implement_single_variable_linear_regression(x1 = df_concord_variable['SAND_mean'])"
   ]
  },
  {
   "cell_type": "code",
   "execution_count": 7,
   "id": "9eb8cbc3",
   "metadata": {},
   "outputs": [
    {
     "name": "stdout",
     "output_type": "stream",
     "text": [
      "Estimated coefficients:\n",
      "b_0 = 177.426            \n",
      "b_1 = -62.246909090909114\n"
     ]
    },
    {
     "data": {
      "image/png": "[encoded data removed]",
      "text/plain": [
       "<Figure size 432x288 with 1 Axes>"
      ]
     },
     "metadata": {
      "needs_background": "light"
     },
     "output_type": "display_data"
    }
   ],
   "source": [
    "#implement single variable linear regression for 1 phase\n",
    "implement_single_variable_linear_regression(x1 = df_concord_variable['1 phase'])"
   ]
  },
  {
   "cell_type": "code",
   "execution_count": 8,
   "id": "66f909a5",
   "metadata": {},
   "outputs": [],
   "source": [
    "#def a function to implement multi variable linear regression:\n",
    "def implement_multivariable_regression(X):\n",
    "    #Splitting the dataset\n",
    "    x_train, x_test, y_train, y_test = train_test_split(X, y, test_size = 0.3, random_state = 100)\n",
    "    #Fitting the Multiple Linear Regression model\n",
    "    mlr = LinearRegression()  \n",
    "    mlr.fit(X, y)\n",
    "    #Intercept and Coefficient\n",
    "    print(\"Intercept: \", mlr.intercept_)\n",
    "    print(\"Coefficients:\", list(zip(X, mlr.coef_)))\n",
    "    #Prediction of test set\n",
    "    y_pred_mlr= mlr.predict(x_test)\n",
    "    #Predicted values\n",
    "    print(\"Prediction for test set: {}\".format(y_pred_mlr))\n",
    "    #Actual value and the predicted value\n",
    "    mlr_diff = pd.DataFrame({'Actual value': y_test, 'Predicted value': y_pred_mlr})\n",
    "    #slr_diff.head()\n",
    "    #Model Evaluation\n",
    "    from sklearn import metrics\n",
    "    meanAbErr = metrics.mean_absolute_error(y_test, y_pred_mlr)\n",
    "    meanSqErr = metrics.mean_squared_error(y_test, y_pred_mlr)\n",
    "    rootMeanSqErr = np.sqrt(metrics.mean_squared_error(y_test, y_pred_mlr))\n",
    "    print('R squared: {:.2f}'.format(mlr.score(X,y)*100))\n",
    "    print('Mean Absolute Error:', meanAbErr)\n",
    "    print('Mean Square Error:', meanSqErr)\n",
    "    print('Root Mean Square Error:', rootMeanSqErr)"
   ]
  },
  {
   "cell_type": "code",
   "execution_count": 9,
   "id": "077b6aed",
   "metadata": {},
   "outputs": [
    {
     "name": "stdout",
     "output_type": "stream",
     "text": [
      "Intercept:  113.49950728569426\n",
      "Coefficients: [('density(#parcel/ft)', -34.830300841445876), ('1 phase', -76.98804934009596), ('SAND_mean', 1.2435156569310308)]\n",
      "Prediction for test set: [ 90.97676587 185.33662126 137.15533812 187.981487   110.68797404\n",
      " 190.63046484 197.2340236  185.47112943]\n",
      "R squared: 37.13\n",
      "Mean Absolute Error: 28.157480760857627\n",
      "Mean Square Error: 1583.9719904117899\n",
      "Root Mean Square Error: 39.79914559901745\n"
     ]
    }
   ],
   "source": [
    "#implement multi variable linear regression for density, 1 phase and SAND_mean\n",
    "implement_multivariable_regression(X = df_concord_variable[['density(#parcel/ft)','1 phase', 'SAND_mean']])"
   ]
  },
  {
   "cell_type": "code",
   "execution_count": 10,
   "id": "5102b169",
   "metadata": {},
   "outputs": [
    {
     "name": "stdout",
     "output_type": "stream",
     "text": [
      "Intercept:  156.54476173372706\n",
      "Coefficients: [('density(#parcel/ft)', -32.75614949803049), ('1 phase', -59.05309473324798), ('CLAY_mean', 6.4499823403555965)]\n",
      "Prediction for test set: [109.16484995 186.88321924 108.8618391  191.13643984 131.79607191\n",
      " 178.78742027 182.51193002 178.54344348]\n",
      "R squared: 32.83\n",
      "Mean Absolute Error: 29.736648472125122\n",
      "Mean Square Error: 1640.8087219691015\n",
      "Root Mean Square Error: 40.50689721478432\n"
     ]
    }
   ],
   "source": [
    "#implement multi variable linear regression for density, 1 phase and CLAY_mean\n",
    "implement_multivariable_regression(X = df_concord_variable[['density(#parcel/ft)','1 phase', 'CLAY_mean']])"
   ]
  },
  {
   "cell_type": "code",
   "execution_count": 11,
   "id": "c732e757",
   "metadata": {},
   "outputs": [
    {
     "name": "stdout",
     "output_type": "stream",
     "text": [
      "Intercept:  116.69400552544124\n",
      "Coefficients: [('BLD_AREA/length', -0.006617028957576138), ('1 phase', -74.9467943849727), ('SAND_mean', 1.1711729903342547)]\n",
      "Prediction for test set: [ 93.3569406  184.23803804 136.32627482 186.17244278 111.61203334\n",
      " 190.3246161  196.05008132 184.62473992]\n",
      "R squared: 35.73\n",
      "Mean Absolute Error: 27.844033535583407\n",
      "Mean Square Error: 1544.8956587600883\n",
      "Root Mean Square Error: 39.305160714085474\n"
     ]
    }
   ],
   "source": [
    "#implement multi variable linear regression for BLD_AREA/length, 1 phase and SAND_mean\n",
    "implement_multivariable_regression(X = df_concord_variable[['BLD_AREA/length','1 phase', 'SAND_mean']])"
   ]
  },
  {
   "cell_type": "code",
   "execution_count": 12,
   "id": "f36edb11",
   "metadata": {},
   "outputs": [
    {
     "name": "stdout",
     "output_type": "stream",
     "text": [
      "Intercept:  157.8193637047039\n",
      "Coefficients: [('BLD_AREA/length', -0.006401223022299533), ('1 phase', -58.204263101528966), ('CLAY_mean', 5.982929062294761)]\n",
      "Prediction for test set: [110.66865445 185.83340567 109.94913349 189.24776898 131.41728938\n",
      " 179.18306895 182.35669126 178.26836238]\n",
      "R squared: 31.83\n",
      "Mean Absolute Error: 29.91266475531505\n",
      "Mean Square Error: 1610.312136621202\n",
      "Root Mean Square Error: 40.12869467876076\n"
     ]
    }
   ],
   "source": [
    "#implement multi variable linear regression for BLD_AREA/length, 1 phase and CLAY_mean\n",
    "implement_multivariable_regression(X = df_concord_variable[['BLD_AREA/length','1 phase', 'CLAY_mean']])"
   ]
  },
  {
   "cell_type": "code",
   "execution_count": 13,
   "id": "21f765b2",
   "metadata": {},
   "outputs": [
    {
     "data": {
      "text/html": [
       "<table class=\"simpletable\">\n",
       "<caption>OLS Regression Results</caption>\n",
       "<tr>\n",
       "  <th>Dep. Variable:</th>       <td>total cost</td>    <th>  R-squared:         </th> <td>   0.328</td>\n",
       "</tr>\n",
       "<tr>\n",
       "  <th>Model:</th>                   <td>OLS</td>       <th>  Adj. R-squared:    </th> <td>   0.237</td>\n",
       "</tr>\n",
       "<tr>\n",
       "  <th>Method:</th>             <td>Least Squares</td>  <th>  F-statistic:       </th> <td>   3.584</td>\n",
       "</tr>\n",
       "<tr>\n",
       "  <th>Date:</th>             <td>Tue, 21 Dec 2021</td> <th>  Prob (F-statistic):</th>  <td>0.0301</td> \n",
       "</tr>\n",
       "<tr>\n",
       "  <th>Time:</th>                 <td>11:15:28</td>     <th>  Log-Likelihood:    </th> <td> -138.81</td>\n",
       "</tr>\n",
       "<tr>\n",
       "  <th>No. Observations:</th>      <td>    26</td>      <th>  AIC:               </th> <td>   285.6</td>\n",
       "</tr>\n",
       "<tr>\n",
       "  <th>Df Residuals:</th>          <td>    22</td>      <th>  BIC:               </th> <td>   290.6</td>\n",
       "</tr>\n",
       "<tr>\n",
       "  <th>Df Model:</th>              <td>     3</td>      <th>                     </th>     <td> </td>   \n",
       "</tr>\n",
       "<tr>\n",
       "  <th>Covariance Type:</th>      <td>nonrobust</td>    <th>                     </th>     <td> </td>   \n",
       "</tr>\n",
       "</table>\n",
       "<table class=\"simpletable\">\n",
       "<tr>\n",
       "           <td></td>              <th>coef</th>     <th>std err</th>      <th>t</th>      <th>P>|t|</th>  <th>[0.025</th>    <th>0.975]</th>  \n",
       "</tr>\n",
       "<tr>\n",
       "  <th>const</th>               <td>  156.5448</td> <td>   37.937</td> <td>    4.126</td> <td> 0.000</td> <td>   77.869</td> <td>  235.221</td>\n",
       "</tr>\n",
       "<tr>\n",
       "  <th>density(#parcel/ft)</th> <td>  -32.7561</td> <td>   23.271</td> <td>   -1.408</td> <td> 0.173</td> <td>  -81.018</td> <td>   15.506</td>\n",
       "</tr>\n",
       "<tr>\n",
       "  <th>1 phase</th>             <td>  -59.0531</td> <td>   22.603</td> <td>   -2.613</td> <td> 0.016</td> <td> -105.929</td> <td>  -12.178</td>\n",
       "</tr>\n",
       "<tr>\n",
       "  <th>CLAY_mean</th>           <td>    6.4500</td> <td>    8.224</td> <td>    0.784</td> <td> 0.441</td> <td>  -10.606</td> <td>   23.506</td>\n",
       "</tr>\n",
       "</table>\n",
       "<table class=\"simpletable\">\n",
       "<tr>\n",
       "  <th>Omnibus:</th>       <td> 5.852</td> <th>  Durbin-Watson:     </th> <td>   0.970</td>\n",
       "</tr>\n",
       "<tr>\n",
       "  <th>Prob(Omnibus):</th> <td> 0.054</td> <th>  Jarque-Bera (JB):  </th> <td>   4.643</td>\n",
       "</tr>\n",
       "<tr>\n",
       "  <th>Skew:</th>          <td> 0.512</td> <th>  Prob(JB):          </th> <td>  0.0981</td>\n",
       "</tr>\n",
       "<tr>\n",
       "  <th>Kurtosis:</th>      <td> 4.800</td> <th>  Cond. No.          </th> <td>    16.3</td>\n",
       "</tr>\n",
       "</table><br/><br/>Notes:<br/>[1] Standard Errors assume that the covariance matrix of the errors is correctly specified."
      ],
      "text/plain": [
       "<class 'statsmodels.iolib.summary.Summary'>\n",
       "\"\"\"\n",
       "                            OLS Regression Results                            \n",
       "==============================================================================\n",
       "Dep. Variable:             total cost   R-squared:                       0.328\n",
       "Model:                            OLS   Adj. R-squared:                  0.237\n",
       "Method:                 Least Squares   F-statistic:                     3.584\n",
       "Date:                Tue, 21 Dec 2021   Prob (F-statistic):             0.0301\n",
       "Time:                        11:15:28   Log-Likelihood:                -138.81\n",
       "No. Observations:                  26   AIC:                             285.6\n",
       "Df Residuals:                      22   BIC:                             290.6\n",
       "Df Model:                           3                                         \n",
       "Covariance Type:            nonrobust                                         \n",
       "=======================================================================================\n",
       "                          coef    std err          t      P>|t|      [0.025      0.975]\n",
       "---------------------------------------------------------------------------------------\n",
       "const                 156.5448     37.937      4.126      0.000      77.869     235.221\n",
       "density(#parcel/ft)   -32.7561     23.271     -1.408      0.173     -81.018      15.506\n",
       "1 phase               -59.0531     22.603     -2.613      0.016    -105.929     -12.178\n",
       "CLAY_mean               6.4500      8.224      0.784      0.441     -10.606      23.506\n",
       "==============================================================================\n",
       "Omnibus:                        5.852   Durbin-Watson:                   0.970\n",
       "Prob(Omnibus):                  0.054   Jarque-Bera (JB):                4.643\n",
       "Skew:                           0.512   Prob(JB):                       0.0981\n",
       "Kurtosis:                       4.800   Cond. No.                         16.3\n",
       "==============================================================================\n",
       "\n",
       "Notes:\n",
       "[1] Standard Errors assume that the covariance matrix of the errors is correctly specified.\n",
       "\"\"\""
      ]
     },
     "execution_count": 13,
     "metadata": {},
     "output_type": "execute_result"
    }
   ],
   "source": [
    "X=df_concord_variable[['density(#parcel/ft)','1 phase', 'CLAY_mean']]\n",
    "y=df_concord_variable['total cost']\n",
    "X = sm.add_constant(X)\n",
    "est = sm.OLS(y, X).fit()\n",
    "est.summary()"
   ]
  },
  {
   "cell_type": "code",
   "execution_count": 30,
   "id": "8b6964d4",
   "metadata": {},
   "outputs": [
    {
     "name": "stdout",
     "output_type": "stream",
     "text": [
      "                                 OLS Regression Results                                \n",
      "=======================================================================================\n",
      "Dep. Variable:             total cost   R-squared (uncentered):                   0.831\n",
      "Model:                            OLS   Adj. R-squared (uncentered):              0.809\n",
      "Method:                 Least Squares   F-statistic:                              37.62\n",
      "Date:                Tue, 21 Dec 2021   Prob (F-statistic):                    4.89e-09\n",
      "Time:                        11:29:51   Log-Likelihood:                         -146.26\n",
      "No. Observations:                  26   AIC:                                      298.5\n",
      "Df Residuals:                      23   BIC:                                      302.3\n",
      "Df Model:                           3                                                  \n",
      "Covariance Type:            nonrobust                                                  \n",
      "=======================================================================================\n",
      "                          coef    std err          t      P>|t|      [0.025      0.975]\n",
      "---------------------------------------------------------------------------------------\n",
      "density(#parcel/ft)   -22.5718     30.143     -0.749      0.462     -84.928      39.784\n",
      "1 phase               -13.7164     25.731     -0.533      0.599     -66.945      39.512\n",
      "CLAY_mean              37.6630      4.205      8.957      0.000      28.965      46.361\n",
      "==============================================================================\n",
      "Omnibus:                        1.714   Durbin-Watson:                   1.423\n",
      "Prob(Omnibus):                  0.425   Jarque-Bera (JB):                0.851\n",
      "Skew:                           0.432   Prob(JB):                        0.653\n",
      "Kurtosis:                       3.196   Cond. No.                         9.02\n",
      "==============================================================================\n",
      "\n",
      "Notes:\n",
      "[1] R² is computed without centering (uncentered) since the model does not contain a constant.\n",
      "[2] Standard Errors assume that the covariance matrix of the errors is correctly specified.\n"
     ]
    }
   ],
   "source": [
    "X=df_concord_variable[['density(#parcel/ft)','1 phase', 'CLAY_mean']]\n",
    "y=df_concord_variable['total cost']\n",
    "#X = sm.add_constant(X)\n",
    "est = sm.OLS(y, X).fit()\n",
    "print(est.summary())"
   ]
  },
  {
   "cell_type": "code",
   "execution_count": 29,
   "id": "22ba4190",
   "metadata": {},
   "outputs": [
    {
     "name": "stdout",
     "output_type": "stream",
     "text": [
      "                                 OLS Regression Results                                \n",
      "=======================================================================================\n",
      "Dep. Variable:             total cost   R-squared (uncentered):                   0.890\n",
      "Model:                            OLS   Adj. R-squared (uncentered):              0.875\n",
      "Method:                 Least Squares   F-statistic:                              61.88\n",
      "Date:                Tue, 21 Dec 2021   Prob (F-statistic):                    3.63e-11\n",
      "Time:                        11:29:34   Log-Likelihood:                         -140.68\n",
      "No. Observations:                  26   AIC:                                      287.4\n",
      "Df Residuals:                      23   BIC:                                      291.1\n",
      "Df Model:                           3                                                  \n",
      "Covariance Type:            nonrobust                                                  \n",
      "=======================================================================================\n",
      "                          coef    std err          t      P>|t|      [0.025      0.975]\n",
      "---------------------------------------------------------------------------------------\n",
      "density(#parcel/ft)   -33.7810     24.518     -1.378      0.182     -84.500      16.938\n",
      "1 phase               -87.7457     24.336     -3.606      0.001    -138.088     -37.404\n",
      "SAND_mean               3.0816      0.265     11.642      0.000       2.534       3.629\n",
      "==============================================================================\n",
      "Omnibus:                        2.378   Durbin-Watson:                   1.301\n",
      "Prob(Omnibus):                  0.305   Jarque-Bera (JB):                1.029\n",
      "Skew:                           0.255   Prob(JB):                        0.598\n",
      "Kurtosis:                       3.831   Cond. No.                         142.\n",
      "==============================================================================\n",
      "\n",
      "Notes:\n",
      "[1] R² is computed without centering (uncentered) since the model does not contain a constant.\n",
      "[2] Standard Errors assume that the covariance matrix of the errors is correctly specified.\n"
     ]
    }
   ],
   "source": [
    "X=df_concord_variable[['density(#parcel/ft)','1 phase', 'SAND_mean']]\n",
    "y=df_concord_variable['total cost']\n",
    "#X = sm.add_constant(X)\n",
    "est = sm.OLS(y, X).fit()\n",
    "print(est.summary())"
   ]
  },
  {
   "cell_type": "code",
   "execution_count": 28,
   "id": "a5774dd1",
   "metadata": {},
   "outputs": [
    {
     "name": "stdout",
     "output_type": "stream",
     "text": [
      "                                 OLS Regression Results                                \n",
      "=======================================================================================\n",
      "Dep. Variable:             total cost   R-squared (uncentered):                   0.887\n",
      "Model:                            OLS   Adj. R-squared (uncentered):              0.872\n",
      "Method:                 Least Squares   F-statistic:                              59.98\n",
      "Date:                Tue, 21 Dec 2021   Prob (F-statistic):                    4.99e-11\n",
      "Time:                        11:29:15   Log-Likelihood:                         -141.04\n",
      "No. Observations:                  26   AIC:                                      288.1\n",
      "Df Residuals:                      23   BIC:                                      291.9\n",
      "Df Model:                           3                                                  \n",
      "Covariance Type:            nonrobust                                                  \n",
      "===================================================================================\n",
      "                      coef    std err          t      P>|t|      [0.025      0.975]\n",
      "-----------------------------------------------------------------------------------\n",
      "BLD_AREA/length    -0.0058      0.005     -1.104      0.281      -0.017       0.005\n",
      "1 phase           -85.9673     24.607     -3.494      0.002    -136.872     -35.063\n",
      "SAND_mean           3.0530      0.267     11.456      0.000       2.502       3.604\n",
      "==============================================================================\n",
      "Omnibus:                        2.219   Durbin-Watson:                   1.261\n",
      "Prob(Omnibus):                  0.330   Jarque-Bera (JB):                0.920\n",
      "Skew:                           0.299   Prob(JB):                        0.631\n",
      "Kurtosis:                       3.702   Cond. No.                     5.02e+03\n",
      "==============================================================================\n",
      "\n",
      "Notes:\n",
      "[1] R² is computed without centering (uncentered) since the model does not contain a constant.\n",
      "[2] Standard Errors assume that the covariance matrix of the errors is correctly specified.\n",
      "[3] The condition number is large, 5.02e+03. This might indicate that there are\n",
      "strong multicollinearity or other numerical problems.\n"
     ]
    }
   ],
   "source": [
    "X=df_concord_variable[['BLD_AREA/length','1 phase', 'SAND_mean']]\n",
    "y=df_concord_variable['total cost']\n",
    "#X = sm.add_constant(X)\n",
    "est = sm.OLS(y, X).fit()\n",
    "print(est.summary())"
   ]
  },
  {
   "cell_type": "code",
   "execution_count": 27,
   "id": "60418548",
   "metadata": {},
   "outputs": [
    {
     "name": "stdout",
     "output_type": "stream",
     "text": [
      "                                 OLS Regression Results                                \n",
      "=======================================================================================\n",
      "Dep. Variable:             total cost   R-squared (uncentered):                   0.829\n",
      "Model:                            OLS   Adj. R-squared (uncentered):              0.806\n",
      "Method:                 Least Squares   F-statistic:                              37.10\n",
      "Date:                Tue, 21 Dec 2021   Prob (F-statistic):                    5.57e-09\n",
      "Time:                        11:29:03   Log-Likelihood:                         -146.41\n",
      "No. Observations:                  26   AIC:                                      298.8\n",
      "Df Residuals:                      23   BIC:                                      302.6\n",
      "Df Model:                           3                                                  \n",
      "Covariance Type:            nonrobust                                                  \n",
      "===================================================================================\n",
      "                      coef    std err          t      P>|t|      [0.025      0.975]\n",
      "-----------------------------------------------------------------------------------\n",
      "BLD_AREA/length    -0.0035      0.006     -0.540      0.594      -0.017       0.010\n",
      "1 phase           -13.0847     25.919     -0.505      0.618     -66.702      40.532\n",
      "CLAY_mean          37.3533      4.201      8.892      0.000      28.664      46.043\n",
      "==============================================================================\n",
      "Omnibus:                        1.725   Durbin-Watson:                   1.404\n",
      "Prob(Omnibus):                  0.422   Jarque-Bera (JB):                0.901\n",
      "Skew:                           0.449   Prob(JB):                        0.637\n",
      "Kurtosis:                       3.155   Cond. No.                     4.32e+03\n",
      "==============================================================================\n",
      "\n",
      "Notes:\n",
      "[1] R² is computed without centering (uncentered) since the model does not contain a constant.\n",
      "[2] Standard Errors assume that the covariance matrix of the errors is correctly specified.\n",
      "[3] The condition number is large, 4.32e+03. This might indicate that there are\n",
      "strong multicollinearity or other numerical problems.\n"
     ]
    }
   ],
   "source": [
    "X=df_concord_variable[['BLD_AREA/length','1 phase', 'CLAY_mean']]\n",
    "y=df_concord_variable['total cost']\n",
    "#X = sm.add_constant(X)\n",
    "est = sm.OLS(y, X).fit()\n",
    "print(est.summary())"
   ]
  },
  {
   "cell_type": "code",
   "execution_count": 18,
   "id": "1b73f334",
   "metadata": {},
   "outputs": [
    {
     "name": "stdout",
     "output_type": "stream",
     "text": [
      "                            OLS Regression Results                            \n",
      "==============================================================================\n",
      "Dep. Variable:             total cost   R-squared:                       0.345\n",
      "Model:                            OLS   Adj. R-squared:                  0.256\n",
      "Method:                 Least Squares   F-statistic:                     3.861\n",
      "Date:                Tue, 21 Dec 2021   Prob (F-statistic):             0.0233\n",
      "Time:                        11:15:35   Log-Likelihood:                -138.48\n",
      "No. Observations:                  26   AIC:                             285.0\n",
      "Df Residuals:                      22   BIC:                             290.0\n",
      "Df Model:                           3                                         \n",
      "Covariance Type:            nonrobust                                         \n",
      "=======================================================================================\n",
      "                          coef    std err          t      P>|t|      [0.025      0.975]\n",
      "---------------------------------------------------------------------------------------\n",
      "const                 106.9303     72.081      1.483      0.152     -42.557     256.418\n",
      "density(#parcel/ft)   -40.9981     24.283     -1.688      0.105     -91.359       9.363\n",
      "1 phase               -65.2955     21.546     -3.030      0.006    -109.980     -20.611\n",
      "SAND_max                1.0221      0.937      1.091      0.287      -0.921       2.965\n",
      "==============================================================================\n",
      "Omnibus:                        2.690   Durbin-Watson:                   0.823\n",
      "Prob(Omnibus):                  0.261   Jarque-Bera (JB):                1.340\n",
      "Skew:                           0.125   Prob(JB):                        0.512\n",
      "Kurtosis:                       4.084   Cond. No.                         535.\n",
      "==============================================================================\n",
      "\n",
      "Notes:\n",
      "[1] Standard Errors assume that the covariance matrix of the errors is correctly specified.\n"
     ]
    }
   ],
   "source": [
    "X=df_concord_variable[['density(#parcel/ft)','1 phase', 'SAND_max']]\n",
    "y=df_concord_variable['total cost']\n",
    "X = sm.add_constant(X)\n",
    "est = sm.OLS(y, X).fit()\n",
    "print(est.summary())"
   ]
  },
  {
   "cell_type": "code",
   "execution_count": 19,
   "id": "4a26f59a-b497-46cc-9d5d-d283fdbbf0a7",
   "metadata": {},
   "outputs": [
    {
     "name": "stdout",
     "output_type": "stream",
     "text": [
      "                                 OLS Regression Results                                \n",
      "=======================================================================================\n",
      "Dep. Variable:             total cost   R-squared (uncentered):                   0.832\n",
      "Model:                            OLS   Adj. R-squared (uncentered):              0.810\n",
      "Method:                 Least Squares   F-statistic:                              37.98\n",
      "Date:                Tue, 21 Dec 2021   Prob (F-statistic):                    4.47e-09\n",
      "Time:                        11:15:38   Log-Likelihood:                         -146.16\n",
      "No. Observations:                  26   AIC:                                      298.3\n",
      "Df Residuals:                      23   BIC:                                      302.1\n",
      "Df Model:                           3                                                  \n",
      "Covariance Type:            nonrobust                                                  \n",
      "=======================================================================================\n",
      "                          coef    std err          t      P>|t|      [0.025      0.975]\n",
      "---------------------------------------------------------------------------------------\n",
      "density(#parcel/ft)   -26.6138     30.158     -0.882      0.387     -89.000      35.773\n",
      "1 phase                -9.8748     25.402     -0.389      0.701     -62.424      42.674\n",
      "log_CLAY              263.1479     29.231      9.002      0.000     202.680     323.616\n",
      "==============================================================================\n",
      "Omnibus:                        1.335   Durbin-Watson:                   1.602\n",
      "Prob(Omnibus):                  0.513   Jarque-Bera (JB):                0.921\n",
      "Skew:                           0.455   Prob(JB):                        0.631\n",
      "Kurtosis:                       2.856   Cond. No.                         2.04\n",
      "==============================================================================\n",
      "\n",
      "Notes:\n",
      "[1] R² is computed without centering (uncentered) since the model does not contain a constant.\n",
      "[2] Standard Errors assume that the covariance matrix of the errors is correctly specified.\n"
     ]
    }
   ],
   "source": [
    "X=df_concord_variable[['density(#parcel/ft)','1 phase','log_CLAY']]\n",
    "y=df_concord_variable['total cost']\n",
    "#X = sm.add_constant(X)\n",
    "est = sm.OLS(y, X).fit()\n",
    "print(est.summary())"
   ]
  },
  {
   "cell_type": "code",
   "execution_count": 20,
   "id": "4a9716e1-66f8-413d-ae80-feb3a841eaf3",
   "metadata": {},
   "outputs": [
    {
     "name": "stdout",
     "output_type": "stream",
     "text": [
      "                            OLS Regression Results                            \n",
      "==============================================================================\n",
      "Dep. Variable:             total cost   R-squared:                       0.356\n",
      "Model:                            OLS   Adj. R-squared:                  0.268\n",
      "Method:                 Least Squares   F-statistic:                     4.046\n",
      "Date:                Tue, 21 Dec 2021   Prob (F-statistic):             0.0197\n",
      "Time:                        11:15:46   Log-Likelihood:                -138.27\n",
      "No. Observations:                  26   AIC:                             284.5\n",
      "Df Residuals:                      22   BIC:                             289.6\n",
      "Df Model:                           3                                         \n",
      "Covariance Type:            nonrobust                                         \n",
      "=======================================================================================\n",
      "                          coef    std err          t      P>|t|      [0.025      0.975]\n",
      "---------------------------------------------------------------------------------------\n",
      "const                 145.4689     33.948      4.285      0.000      75.065     215.873\n",
      "density(#parcel/ft)   -34.2131     22.835     -1.498      0.148     -81.569      13.143\n",
      "1 phase               -56.6915     22.070     -2.569      0.018    -102.462     -10.921\n",
      "log_CLAY               64.4064     51.362      1.254      0.223     -42.112     170.924\n",
      "==============================================================================\n",
      "Omnibus:                        6.396   Durbin-Watson:                   1.054\n",
      "Prob(Omnibus):                  0.041   Jarque-Bera (JB):                5.562\n",
      "Skew:                           0.515   Prob(JB):                       0.0620\n",
      "Kurtosis:                       5.018   Cond. No.                         7.21\n",
      "==============================================================================\n",
      "\n",
      "Notes:\n",
      "[1] Standard Errors assume that the covariance matrix of the errors is correctly specified.\n"
     ]
    }
   ],
   "source": [
    "X=df_concord_variable[['density(#parcel/ft)','1 phase','log_CLAY']]\n",
    "y=df_concord_variable['total cost']\n",
    "X = sm.add_constant(X)\n",
    "est = sm.OLS(y, X).fit()\n",
    "print(est.summary())"
   ]
  },
  {
   "cell_type": "code",
   "execution_count": 21,
   "id": "9f901a1e-cfe3-495c-ade7-e7f61ae4a7f3",
   "metadata": {},
   "outputs": [
    {
     "name": "stdout",
     "output_type": "stream",
     "text": [
      "                                 OLS Regression Results                                \n",
      "=======================================================================================\n",
      "Dep. Variable:             total cost   R-squared (uncentered):                   0.870\n",
      "Model:                            OLS   Adj. R-squared (uncentered):              0.853\n",
      "Method:                 Least Squares   F-statistic:                              51.12\n",
      "Date:                Tue, 21 Dec 2021   Prob (F-statistic):                    2.48e-10\n",
      "Time:                        11:15:48   Log-Likelihood:                         -142.87\n",
      "No. Observations:                  26   AIC:                                      291.7\n",
      "Df Residuals:                      23   BIC:                                      295.5\n",
      "Df Model:                           3                                                  \n",
      "Covariance Type:            nonrobust                                                  \n",
      "===============================================================================\n",
      "                  coef    std err          t      P>|t|      [0.025      0.975]\n",
      "-------------------------------------------------------------------------------\n",
      "log_density   -42.1148     15.251     -2.761      0.011     -73.664     -10.566\n",
      "1 phase       -34.6709     24.100     -1.439      0.164     -84.526      15.184\n",
      "log_CLAY      175.5760     37.824      4.642      0.000      97.330     253.822\n",
      "==============================================================================\n",
      "Omnibus:                        1.718   Durbin-Watson:                   1.402\n",
      "Prob(Omnibus):                  0.424   Jarque-Bera (JB):                0.684\n",
      "Skew:                           0.343   Prob(JB):                        0.711\n",
      "Kurtosis:                       3.400   Cond. No.                         5.55\n",
      "==============================================================================\n",
      "\n",
      "Notes:\n",
      "[1] R² is computed without centering (uncentered) since the model does not contain a constant.\n",
      "[2] Standard Errors assume that the covariance matrix of the errors is correctly specified.\n"
     ]
    }
   ],
   "source": [
    "X=df_concord_variable[['log_density','1 phase','log_CLAY']]\n",
    "y=df_concord_variable['total cost']\n",
    "#X = sm.add_constant(X)\n",
    "est = sm.OLS(y, X).fit()\n",
    "print(est.summary())"
   ]
  },
  {
   "cell_type": "code",
   "execution_count": 22,
   "id": "fbad0220-018e-447d-ab09-4996fc11be17",
   "metadata": {},
   "outputs": [
    {
     "name": "stdout",
     "output_type": "stream",
     "text": [
      "                            OLS Regression Results                            \n",
      "==============================================================================\n",
      "Dep. Variable:             total cost   R-squared:                       0.320\n",
      "Model:                            OLS   Adj. R-squared:                  0.227\n",
      "Method:                 Least Squares   F-statistic:                     3.449\n",
      "Date:                Tue, 21 Dec 2021   Prob (F-statistic):             0.0341\n",
      "Time:                        11:15:50   Log-Likelihood:                -138.97\n",
      "No. Observations:                  26   AIC:                             285.9\n",
      "Df Residuals:                      22   BIC:                             291.0\n",
      "Df Model:                           3                                         \n",
      "Covariance Type:            nonrobust                                         \n",
      "===============================================================================\n",
      "                  coef    std err          t      P>|t|      [0.025      0.975]\n",
      "-------------------------------------------------------------------------------\n",
      "const         117.5917     42.392      2.774      0.011      29.676     205.507\n",
      "log_density   -16.1454     16.365     -0.987      0.335     -50.084      17.793\n",
      "1 phase       -57.3327     22.729     -2.522      0.019    -104.470     -10.195\n",
      "log_CLAY       62.1581     52.725      1.179      0.251     -47.187     171.503\n",
      "==============================================================================\n",
      "Omnibus:                        5.440   Durbin-Watson:                   1.000\n",
      "Prob(Omnibus):                  0.066   Jarque-Bera (JB):                3.887\n",
      "Skew:                           0.546   Prob(JB):                        0.143\n",
      "Kurtosis:                       4.547   Cond. No.                         11.7\n",
      "==============================================================================\n",
      "\n",
      "Notes:\n",
      "[1] Standard Errors assume that the covariance matrix of the errors is correctly specified.\n"
     ]
    }
   ],
   "source": [
    "X=df_concord_variable[['log_density','1 phase','log_CLAY']]\n",
    "y=df_concord_variable['total cost']\n",
    "X = sm.add_constant(X)\n",
    "est = sm.OLS(y, X).fit()\n",
    "print(est.summary())"
   ]
  },
  {
   "cell_type": "code",
   "execution_count": 24,
   "id": "fd3fc8ab-d0cb-4517-bc73-040cccfdf980",
   "metadata": {},
   "outputs": [],
   "source": [
    "# opening concord data and save related columns in a dataframe\n",
    "with open(r'../../data/tidy/concord_streets_data_without_outliers.csv') as concord:\n",
    "    df_concord_without_outliers=pd.read_csv(concord)\n",
    "    df_concord_without_outliers_variable=df_concord_without_outliers.filter(items=['total cost','density(#parcel/ft)','1 phase','SAND_mean','CLAY_mean','BLD_AREA/length','TOTAL_VAL/length','SAND_max','CLAY_max','log_density','SAND/CLAY','log_CLAY'])"
   ]
  },
  {
   "cell_type": "code",
   "execution_count": 37,
   "id": "0577fe6e-a3f2-43fb-8dd0-eecb6ff6c839",
   "metadata": {},
   "outputs": [
    {
     "name": "stdout",
     "output_type": "stream",
     "text": [
      "                                 OLS Regression Results                                \n",
      "=======================================================================================\n",
      "Dep. Variable:             total cost   R-squared (uncentered):                   0.904\n",
      "Model:                            OLS   Adj. R-squared (uncentered):              0.890\n",
      "Method:                 Least Squares   F-statistic:                              62.74\n",
      "Date:                Tue, 21 Dec 2021   Prob (F-statistic):                    2.36e-10\n",
      "Time:                        11:33:19   Log-Likelihood:                         -123.67\n",
      "No. Observations:                  23   AIC:                                      253.3\n",
      "Df Residuals:                      20   BIC:                                      256.8\n",
      "Df Model:                           3                                                  \n",
      "Covariance Type:            nonrobust                                                  \n",
      "===============================================================================\n",
      "                  coef    std err          t      P>|t|      [0.025      0.975]\n",
      "-------------------------------------------------------------------------------\n",
      "log_density   -31.5654     22.689     -1.391      0.179     -78.893      15.762\n",
      "1 phase       -75.9200     25.460     -2.982      0.007    -129.029     -22.811\n",
      "SAND_max        1.7651      0.465      3.792      0.001       0.794       2.736\n",
      "==============================================================================\n",
      "Omnibus:                        0.184   Durbin-Watson:                   2.029\n",
      "Prob(Omnibus):                  0.912   Jarque-Bera (JB):                0.012\n",
      "Skew:                           0.004   Prob(JB):                        0.994\n",
      "Kurtosis:                       2.889   Cond. No.                         186.\n",
      "==============================================================================\n",
      "\n",
      "Notes:\n",
      "[1] R² is computed without centering (uncentered) since the model does not contain a constant.\n",
      "[2] Standard Errors assume that the covariance matrix of the errors is correctly specified.\n"
     ]
    }
   ],
   "source": [
    "X= df_concord_without_outliers_variable[['log_density','1 phase','SAND_max']]\n",
    "y= df_concord_without_outliers_variable['total cost']\n",
    "#X = sm.add_constant(X)\n",
    "est = sm.OLS(y, X).fit()\n",
    "print(est.summary())"
   ]
  },
  {
   "cell_type": "code",
   "execution_count": null,
   "id": "bc39b226-e345-429d-a398-7305bb4a2f1d",
   "metadata": {},
   "outputs": [
    {
     "name": "stdout",
     "output_type": "stream",
     "text": [
      "                                 OLS Regression Results                                \n",
      "=======================================================================================\n",
      "Dep. Variable:             total cost   R-squared (uncentered):                   0.827\n",
      "Model:                            OLS   Adj. R-squared (uncentered):              0.810\n",
      "Method:                 Least Squares   F-statistic:                              50.08\n",
      "Date:                Tue, 21 Dec 2021   Prob (F-statistic):                    1.02e-08\n",
      "Time:                        11:30:53   Log-Likelihood:                         -130.46\n",
      "No. Observations:                  23   AIC:                                      264.9\n",
      "Df Residuals:                      21   BIC:                                      267.2\n",
      "Df Model:                           2                                                  \n",
      "Covariance Type:            nonrobust                                                  \n",
      "==============================================================================\n",
      "                 coef    std err          t      P>|t|      [0.025      0.975]\n",
      "------------------------------------------------------------------------------\n",
      "1 phase      -14.8105     28.630     -0.517      0.610     -74.349      44.728\n",
      "log_CLAY     263.5868     29.846      8.832      0.000     201.519     325.654\n",
      "==============================================================================\n",
      "Omnibus:                        0.794   Durbin-Watson:                   2.049\n",
      "Prob(Omnibus):                  0.672   Jarque-Bera (JB):                0.717\n",
      "Skew:                           0.383   Prob(JB):                        0.699\n",
      "Kurtosis:                       2.596   Cond. No.                         1.77\n",
      "==============================================================================\n",
      "\n",
      "Notes:\n",
      "[1] R² is computed without centering (uncentered) since the model does not contain a constant.\n",
      "[2] Standard Errors assume that the covariance matrix of the errors is correctly specified.\n"
     ]
    }
   ],
   "source": [
    "X= df_concord_without_outliers_variable[['log_density','1 phase','log_CLAY']]\n",
    "y= df_concord_without_outliers_variable['total cost']\n",
    "#X = sm.add_constant(X)\n",
    "est = sm.OLS(y, X).fit()\n",
    "print(est.summary())"
   ]
  }
 ],
 "metadata": {
  "kernelspec": {
   "display_name": "Python 3 (ipykernel)",
   "language": "python",
   "name": "python3"
  },
  "language_info": {
   "codemirror_mode": {
    "name": "ipython",
    "version": 3
   },
   "file_extension": ".py",
   "mimetype": "text/x-python",
   "name": "python",
   "nbconvert_exporter": "python",
   "pygments_lexer": "ipython3",
   "version": "3.8.8"
  }
 },
 "nbformat": 4,
 "nbformat_minor": 5
}
