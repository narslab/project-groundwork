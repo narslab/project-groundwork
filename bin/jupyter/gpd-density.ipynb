{
 "cells": [
  {
   "cell_type": "code",
   "execution_count": 31,
   "id": "da139683-816d-4b69-a262-c7f51c20db6f",
   "metadata": {},
   "outputs": [],
   "source": [
    "import pandas as pd"
   ]
  },
  {
   "cell_type": "code",
   "execution_count": 33,
   "id": "5bca65db-f463-49c0-9cca-0cc52fd07cd8",
   "metadata": {},
   "outputs": [],
   "source": [
    "with open(r'../../data/raw/concord_parcel_df-checkpoint.csv') as concord:\n",
    "    df_concord=pd.read_csv(concord)"
   ]
  },
  {
   "cell_type": "code",
   "execution_count": 35,
   "id": "63067db4-cd63-4bf6-817b-8d12e82c2bee",
   "metadata": {},
   "outputs": [
    {
     "data": {
      "text/html": [
       "<div>\n",
       "<style scoped>\n",
       "    .dataframe tbody tr th:only-of-type {\n",
       "        vertical-align: middle;\n",
       "    }\n",
       "\n",
       "    .dataframe tbody tr th {\n",
       "        vertical-align: top;\n",
       "    }\n",
       "\n",
       "    .dataframe thead th {\n",
       "        text-align: right;\n",
       "    }\n",
       "</style>\n",
       "<table border=\"1\" class=\"dataframe\">\n",
       "  <thead>\n",
       "    <tr style=\"text-align: right;\">\n",
       "      <th></th>\n",
       "      <th>Unnamed: 0</th>\n",
       "      <th>MAP_PAR_ID</th>\n",
       "      <th>LOC_ID</th>\n",
       "      <th>POLY_TYPE</th>\n",
       "      <th>MAP_NO</th>\n",
       "      <th>SOURCE</th>\n",
       "      <th>PLAN_ID</th>\n",
       "      <th>LAST_EDIT</th>\n",
       "      <th>BND_CHK</th>\n",
       "      <th>NO_MATCH</th>\n",
       "      <th>...</th>\n",
       "      <th>BLD_AREA</th>\n",
       "      <th>UNITS</th>\n",
       "      <th>RES_AREA</th>\n",
       "      <th>STYLE</th>\n",
       "      <th>NUM_ROOMS</th>\n",
       "      <th>LOT_UNITS</th>\n",
       "      <th>STORIES</th>\n",
       "      <th>SHAPE_AREA</th>\n",
       "      <th>SHAPE_LEN</th>\n",
       "      <th>geometry</th>\n",
       "    </tr>\n",
       "  </thead>\n",
       "  <tbody>\n",
       "    <tr>\n",
       "      <th>0</th>\n",
       "      <td>1262</td>\n",
       "      <td>2107</td>\n",
       "      <td>F_682887_2992644</td>\n",
       "      <td>FEE</td>\n",
       "      <td>9D</td>\n",
       "      <td>ASSESS</td>\n",
       "      <td>NaN</td>\n",
       "      <td>20110504</td>\n",
       "      <td>NaN</td>\n",
       "      <td>N</td>\n",
       "      <td>...</td>\n",
       "      <td>6030</td>\n",
       "      <td>0</td>\n",
       "      <td>2946</td>\n",
       "      <td>Colonial</td>\n",
       "      <td>8</td>\n",
       "      <td>Acres</td>\n",
       "      <td>2.00</td>\n",
       "      <td>1999.827365</td>\n",
       "      <td>196.230270</td>\n",
       "      <td>POLYGON ((208165.0820999965 912174.498399999, ...</td>\n",
       "    </tr>\n",
       "    <tr>\n",
       "      <th>1</th>\n",
       "      <td>1353</td>\n",
       "      <td>2986-1</td>\n",
       "      <td>F_681563_2980927</td>\n",
       "      <td>FEE</td>\n",
       "      <td>14C</td>\n",
       "      <td>ASSESS</td>\n",
       "      <td>NaN</td>\n",
       "      <td>20110504</td>\n",
       "      <td>NaN</td>\n",
       "      <td>N</td>\n",
       "      <td>...</td>\n",
       "      <td>0</td>\n",
       "      <td>0</td>\n",
       "      <td>0</td>\n",
       "      <td>Vacant</td>\n",
       "      <td>0</td>\n",
       "      <td>Acres</td>\n",
       "      <td>0.00</td>\n",
       "      <td>1305.132182</td>\n",
       "      <td>197.731517</td>\n",
       "      <td>POLYGON ((207778.8434000015 908579.3751999997,...</td>\n",
       "    </tr>\n",
       "    <tr>\n",
       "      <th>2</th>\n",
       "      <td>1527</td>\n",
       "      <td>1863</td>\n",
       "      <td>F_688344_2994292</td>\n",
       "      <td>FEE</td>\n",
       "      <td>8E</td>\n",
       "      <td>ASSESS</td>\n",
       "      <td>NaN</td>\n",
       "      <td>20110504</td>\n",
       "      <td>NaN</td>\n",
       "      <td>N</td>\n",
       "      <td>...</td>\n",
       "      <td>3079</td>\n",
       "      <td>0</td>\n",
       "      <td>1436</td>\n",
       "      <td>Ranch</td>\n",
       "      <td>7</td>\n",
       "      <td>Acres</td>\n",
       "      <td>1.00</td>\n",
       "      <td>2411.197838</td>\n",
       "      <td>204.520881</td>\n",
       "      <td>POLYGON ((209844.934299998 912669.2659999989, ...</td>\n",
       "    </tr>\n",
       "    <tr>\n",
       "      <th>3</th>\n",
       "      <td>2543</td>\n",
       "      <td>2497</td>\n",
       "      <td>F_683094_2989244</td>\n",
       "      <td>FEE</td>\n",
       "      <td>10D</td>\n",
       "      <td>ASSESS</td>\n",
       "      <td>NaN</td>\n",
       "      <td>20110504</td>\n",
       "      <td>NaN</td>\n",
       "      <td>N</td>\n",
       "      <td>...</td>\n",
       "      <td>3833</td>\n",
       "      <td>0</td>\n",
       "      <td>1827</td>\n",
       "      <td>Old Style</td>\n",
       "      <td>8</td>\n",
       "      <td>Acres</td>\n",
       "      <td>1.75</td>\n",
       "      <td>433.043921</td>\n",
       "      <td>84.136203</td>\n",
       "      <td>POLYGON ((208219.2787000015 911122.4791000001,...</td>\n",
       "    </tr>\n",
       "    <tr>\n",
       "      <th>4</th>\n",
       "      <td>2551</td>\n",
       "      <td>1101</td>\n",
       "      <td>F_701532_2996352</td>\n",
       "      <td>FEE</td>\n",
       "      <td>7I</td>\n",
       "      <td>ASSESS</td>\n",
       "      <td>NaN</td>\n",
       "      <td>20110504</td>\n",
       "      <td>NaN</td>\n",
       "      <td>N</td>\n",
       "      <td>...</td>\n",
       "      <td>3140</td>\n",
       "      <td>0</td>\n",
       "      <td>2060</td>\n",
       "      <td>Colonial</td>\n",
       "      <td>0</td>\n",
       "      <td>Acres</td>\n",
       "      <td>2.00</td>\n",
       "      <td>1905.903819</td>\n",
       "      <td>183.758876</td>\n",
       "      <td>POLYGON ((213850.201700002 913264.3128999993, ...</td>\n",
       "    </tr>\n",
       "    <tr>\n",
       "      <th>...</th>\n",
       "      <td>...</td>\n",
       "      <td>...</td>\n",
       "      <td>...</td>\n",
       "      <td>...</td>\n",
       "      <td>...</td>\n",
       "      <td>...</td>\n",
       "      <td>...</td>\n",
       "      <td>...</td>\n",
       "      <td>...</td>\n",
       "      <td>...</td>\n",
       "      <td>...</td>\n",
       "      <td>...</td>\n",
       "      <td>...</td>\n",
       "      <td>...</td>\n",
       "      <td>...</td>\n",
       "      <td>...</td>\n",
       "      <td>...</td>\n",
       "      <td>...</td>\n",
       "      <td>...</td>\n",
       "      <td>...</td>\n",
       "      <td>...</td>\n",
       "    </tr>\n",
       "    <tr>\n",
       "      <th>6933</th>\n",
       "      <td>2408836</td>\n",
       "      <td>1985-31</td>\n",
       "      <td>F_686900_2999244</td>\n",
       "      <td>FEE</td>\n",
       "      <td>6E</td>\n",
       "      <td>ASSESS</td>\n",
       "      <td>NaN</td>\n",
       "      <td>20110504</td>\n",
       "      <td>NaN</td>\n",
       "      <td>N</td>\n",
       "      <td>...</td>\n",
       "      <td>5986</td>\n",
       "      <td>0</td>\n",
       "      <td>1876</td>\n",
       "      <td>Rsd Rnch/Splt Lvl</td>\n",
       "      <td>9</td>\n",
       "      <td>Acres</td>\n",
       "      <td>1.00</td>\n",
       "      <td>5274.319078</td>\n",
       "      <td>299.913278</td>\n",
       "      <td>POLYGON ((209417.2229000032 914185.9538000003,...</td>\n",
       "    </tr>\n",
       "    <tr>\n",
       "      <th>6934</th>\n",
       "      <td>2408837</td>\n",
       "      <td>1934</td>\n",
       "      <td>F_685600_2995674</td>\n",
       "      <td>FEE</td>\n",
       "      <td>7D</td>\n",
       "      <td>ASSESS</td>\n",
       "      <td>NaN</td>\n",
       "      <td>20110504</td>\n",
       "      <td>NaN</td>\n",
       "      <td>N</td>\n",
       "      <td>...</td>\n",
       "      <td>2033</td>\n",
       "      <td>0</td>\n",
       "      <td>1101</td>\n",
       "      <td>Old Style</td>\n",
       "      <td>6</td>\n",
       "      <td>Acres</td>\n",
       "      <td>1.75</td>\n",
       "      <td>1046.297060</td>\n",
       "      <td>138.054946</td>\n",
       "      <td>POLYGON ((208989.3756999969 913064.5161000006,...</td>\n",
       "    </tr>\n",
       "    <tr>\n",
       "      <th>6935</th>\n",
       "      <td>2408941</td>\n",
       "      <td>1999-2</td>\n",
       "      <td>F_683009_2996780</td>\n",
       "      <td>FEE</td>\n",
       "      <td>7D</td>\n",
       "      <td>ASSESS</td>\n",
       "      <td>NaN</td>\n",
       "      <td>20110504</td>\n",
       "      <td>NaN</td>\n",
       "      <td>N</td>\n",
       "      <td>...</td>\n",
       "      <td>0</td>\n",
       "      <td>0</td>\n",
       "      <td>0</td>\n",
       "      <td>Vacant</td>\n",
       "      <td>0</td>\n",
       "      <td>Acres</td>\n",
       "      <td>0.00</td>\n",
       "      <td>141562.068721</td>\n",
       "      <td>1969.907935</td>\n",
       "      <td>POLYGON ((208213.6032999977 913594.5643999986,...</td>\n",
       "    </tr>\n",
       "    <tr>\n",
       "      <th>6936</th>\n",
       "      <td>2408942</td>\n",
       "      <td>1044</td>\n",
       "      <td>F_703820_2996764</td>\n",
       "      <td>FEE</td>\n",
       "      <td>7J</td>\n",
       "      <td>ASSESS</td>\n",
       "      <td>NaN</td>\n",
       "      <td>20110504</td>\n",
       "      <td>NaN</td>\n",
       "      <td>N</td>\n",
       "      <td>...</td>\n",
       "      <td>3936</td>\n",
       "      <td>0</td>\n",
       "      <td>1120</td>\n",
       "      <td>Cape Cod</td>\n",
       "      <td>5</td>\n",
       "      <td>Acres</td>\n",
       "      <td>1.50</td>\n",
       "      <td>2336.228540</td>\n",
       "      <td>198.916146</td>\n",
       "      <td>POLYGON ((214560.7149000019 913414.6557999998,...</td>\n",
       "    </tr>\n",
       "    <tr>\n",
       "      <th>6937</th>\n",
       "      <td>2409097</td>\n",
       "      <td>2822</td>\n",
       "      <td>F_682979_2988084</td>\n",
       "      <td>FEE</td>\n",
       "      <td>11D</td>\n",
       "      <td>ASSESS</td>\n",
       "      <td>NaN</td>\n",
       "      <td>20110504</td>\n",
       "      <td>NaN</td>\n",
       "      <td>N</td>\n",
       "      <td>...</td>\n",
       "      <td>6066</td>\n",
       "      <td>0</td>\n",
       "      <td>3454</td>\n",
       "      <td>Colonial</td>\n",
       "      <td>0</td>\n",
       "      <td>Acres</td>\n",
       "      <td>2.00</td>\n",
       "      <td>1929.948201</td>\n",
       "      <td>189.170171</td>\n",
       "      <td>POLYGON ((208207.2572999969 910789.1033999994,...</td>\n",
       "    </tr>\n",
       "  </tbody>\n",
       "</table>\n",
       "<p>6938 rows × 48 columns</p>\n",
       "</div>"
      ],
      "text/plain": [
       "      Unnamed: 0 MAP_PAR_ID            LOC_ID POLY_TYPE MAP_NO  SOURCE  \\\n",
       "0           1262       2107  F_682887_2992644       FEE     9D  ASSESS   \n",
       "1           1353     2986-1  F_681563_2980927       FEE    14C  ASSESS   \n",
       "2           1527       1863  F_688344_2994292       FEE     8E  ASSESS   \n",
       "3           2543       2497  F_683094_2989244       FEE    10D  ASSESS   \n",
       "4           2551       1101  F_701532_2996352       FEE     7I  ASSESS   \n",
       "...          ...        ...               ...       ...    ...     ...   \n",
       "6933     2408836    1985-31  F_686900_2999244       FEE     6E  ASSESS   \n",
       "6934     2408837       1934  F_685600_2995674       FEE     7D  ASSESS   \n",
       "6935     2408941     1999-2  F_683009_2996780       FEE     7D  ASSESS   \n",
       "6936     2408942       1044  F_703820_2996764       FEE     7J  ASSESS   \n",
       "6937     2409097       2822  F_682979_2988084       FEE    11D  ASSESS   \n",
       "\n",
       "     PLAN_ID  LAST_EDIT  BND_CHK NO_MATCH  ...  BLD_AREA UNITS  RES_AREA  \\\n",
       "0        NaN   20110504      NaN        N  ...      6030     0      2946   \n",
       "1        NaN   20110504      NaN        N  ...         0     0         0   \n",
       "2        NaN   20110504      NaN        N  ...      3079     0      1436   \n",
       "3        NaN   20110504      NaN        N  ...      3833     0      1827   \n",
       "4        NaN   20110504      NaN        N  ...      3140     0      2060   \n",
       "...      ...        ...      ...      ...  ...       ...   ...       ...   \n",
       "6933     NaN   20110504      NaN        N  ...      5986     0      1876   \n",
       "6934     NaN   20110504      NaN        N  ...      2033     0      1101   \n",
       "6935     NaN   20110504      NaN        N  ...         0     0         0   \n",
       "6936     NaN   20110504      NaN        N  ...      3936     0      1120   \n",
       "6937     NaN   20110504      NaN        N  ...      6066     0      3454   \n",
       "\n",
       "                  STYLE  NUM_ROOMS  LOT_UNITS  STORIES     SHAPE_AREA  \\\n",
       "0              Colonial          8      Acres     2.00    1999.827365   \n",
       "1                Vacant          0      Acres     0.00    1305.132182   \n",
       "2                 Ranch          7      Acres     1.00    2411.197838   \n",
       "3             Old Style          8      Acres     1.75     433.043921   \n",
       "4              Colonial          0      Acres     2.00    1905.903819   \n",
       "...                 ...        ...        ...      ...            ...   \n",
       "6933  Rsd Rnch/Splt Lvl          9      Acres     1.00    5274.319078   \n",
       "6934          Old Style          6      Acres     1.75    1046.297060   \n",
       "6935             Vacant          0      Acres     0.00  141562.068721   \n",
       "6936           Cape Cod          5      Acres     1.50    2336.228540   \n",
       "6937           Colonial          0      Acres     2.00    1929.948201   \n",
       "\n",
       "        SHAPE_LEN                                           geometry  \n",
       "0      196.230270  POLYGON ((208165.0820999965 912174.498399999, ...  \n",
       "1      197.731517  POLYGON ((207778.8434000015 908579.3751999997,...  \n",
       "2      204.520881  POLYGON ((209844.934299998 912669.2659999989, ...  \n",
       "3       84.136203  POLYGON ((208219.2787000015 911122.4791000001,...  \n",
       "4      183.758876  POLYGON ((213850.201700002 913264.3128999993, ...  \n",
       "...           ...                                                ...  \n",
       "6933   299.913278  POLYGON ((209417.2229000032 914185.9538000003,...  \n",
       "6934   138.054946  POLYGON ((208989.3756999969 913064.5161000006,...  \n",
       "6935  1969.907935  POLYGON ((208213.6032999977 913594.5643999986,...  \n",
       "6936   198.916146  POLYGON ((214560.7149000019 913414.6557999998,...  \n",
       "6937   189.170171  POLYGON ((208207.2572999969 910789.1033999994,...  \n",
       "\n",
       "[6938 rows x 48 columns]"
      ]
     },
     "execution_count": 35,
     "metadata": {},
     "output_type": "execute_result"
    }
   ],
   "source": [
    "df_concord"
   ]
  },
  {
   "cell_type": "code",
   "execution_count": 36,
   "id": "3e713984-0d89-44fb-b813-570318a7ec76",
   "metadata": {},
   "outputs": [
    {
     "data": {
      "text/plain": [
       "array(['POND ST', 'OLD PICKARD RD', 'COBURN HILL RD', 'SHIRLEY ST',\n",
       "       'ARROWHEAD RD', 'PINE HILL LN', 'SUDBURY RD', 'ROLLINGWOOD LN',\n",
       "       'CENTRAL ST', 'STONE ROOT LN', 'LOWELL RD', 'COTTAGE ST', 'ASH ST',\n",
       "       'INDIAN SPRING RD', 'MUSKETAQUID RD', 'FAIRHAVEN RD', 'MAIN ST',\n",
       "       'ARENA TER', 'HARRINGTON AVE', 'BLACK DUCK RD', 'WOODLAND RD',\n",
       "       'PARK LN', 'HAWTHORNE LN', 'SPRING RD', 'NASHAWTUC RD',\n",
       "       'HAYWARD MILL RD', 'MARTHAS POINT RD', 'HUBBARD ST',\n",
       "       'CAMBRIDGE TPKE', 'BEDFORD ST', 'NASHOBA RD', 'PILGRIM RD',\n",
       "       'ALDEN RD', 'WALDEN ST', 'POPE RD', 'LANG ST', 'PLAINFIELD RD',\n",
       "       'DANA RD', 'RIVERDALE RD', 'ASSABET AVE', 'RANGE RD',\n",
       "       'LAWS BROOK RD', 'BLUE JAY DR', 'WESTFORD RD', 'THOREAU ST',\n",
       "       'PETER SPRING RD', 'MONUMENT ST', 'DOVER ST', 'BRUCE RD',\n",
       "       'SEYMOUR ST', 'OAK HILL CIR', 'CREST ST', 'SOUTHFIELD RD',\n",
       "       'GROVE ST', 'SPENCER BROOK RD', 'FITCHBURG TPKE', 'BELKNAP ST',\n",
       "       'OLD MARLBORO RD', 'BRIDGECOURT LN', 'COMMONWEALTH AVE',\n",
       "       'OLD STOW RD', 'JENNIE DUGAN RD', 'BAKER AVE',\n",
       "       'OLD RD TO 9 ACRE COR', 'BIRCH DR', 'MILDRED CIR', 'WRIGHT RD',\n",
       "       'HIGHLAND ST', 'LEDGE ROCK RD', 'LEXINGTON RD', 'SHADYSIDE AVE',\n",
       "       'BAKER AVENUE EXT', 'HAYES RD', 'BOLTON ST', 'SOUTHFIELD CIR',\n",
       "       'BARNES HILL RD', 'OLD MILL RD', 'HEATHS BRIDGE RD',\n",
       "       'HIGH PINE CIR', 'QUAIL RUN DR', 'MINUTEMAN DR', 'COMMERFORD RD',\n",
       "       'RIDGEWOOD RD', 'BORDER RD', 'HILDRETH LN', 'SOUTH ST',\n",
       "       'WILSON RD', 'REVOLUTIONARY RD', 'TANGLEWOOD DR',\n",
       "       'CROWELL FARM RD', 'ANNURSNAC HILL RD', 'BARTLETT HILL RD',\n",
       "       'FULLER LN', 'CATERINA HTS', 'HUNTERS RIDGE RD', 'RAYMOND RD',\n",
       "       'PHILIP FARM RD', 'SANDY POND RD', 'INDEPENDENCE RD', 'ADAMS RD',\n",
       "       'SIMON WILLARD LN', 'VIRGINIA RD', 'BUCKMASTER DR', 'EDGEWOOD RD',\n",
       "       'COTTAGE LN', 'WHIPPOORWILL LN', 'LAPHAM RD', 'OLD BEDFORD RD',\n",
       "       'DUNBAR WAY', 'DERBY ST', 'NORTH BRANCH RD', 'DOMINO DR',\n",
       "       'SIMON WILLARD RD', 'BYPASS RD', 'PARTRIDGE LN',\n",
       "       'BARRETTS MILL RD', 'NANCY RD', 'MUNROE PL', 'WESTVALE DR',\n",
       "       'ESTABROOK RD', 'WHITTEMORE ST', 'GARFIELD RD',\n",
       "       'TARBELL SPRING RD', 'MACMILLAN DR', 'BEDFORD CT', 'LEE DR',\n",
       "       'HILLCREST RD', 'ELSINORE ST', 'LANES END', 'ALLEN FARM LN',\n",
       "       'CONANT ST', 'POWDER MILL RD', 'PRAIRIE ST', 'BEHARRELL ST',\n",
       "       'NIMROD DR', 'EDMONDS RD', 'THE VALLEY RD', 'SHORE DR',\n",
       "       'HILLSIDE AVE', 'KENNEY LN', 'SARAH WAY', 'MUSTERFIELD RD',\n",
       "       'ANSON RD', 'COLLEGE RD', 'MARTIN RD', 'STOW ST',\n",
       "       'JONAS BROWN CIR', 'STRAWBERRY HILL RD', 'WINTHROP ST',\n",
       "       'CRABTREE RD', 'RIVERSIDE AV', 'CONCORD TPKE', 'BLUEBERRY LN',\n",
       "       'BUTTRICKS HILL RD', 'SAW MILL RD', 'BUTTERNUT CIR',\n",
       "       'FAIRHAVEN HILL RD', 'WHITS END RD', 'GRANITE POST RD',\n",
       "       'PEABODY CT', 'INGHAM LN', 'JUNIPER CIR', 'UPLAND RD',\n",
       "       'CHESTNUT ST', 'BROWN ST', 'AUTHORS RD', 'STACEY CIR',\n",
       "       'MINISTERIAL DR', 'BALLS HILL RD', 'TEMPLE RD', 'ELM ST',\n",
       "       'MONSEN RD', 'AUTUMN LN', 'PAUL REVERE RD', 'FARMERS CLIFF RD',\n",
       "       'MACARTHUR RD', 'LORING RD', 'BLACK HORSE PL', 'DEER GRASS LN',\n",
       "       'MINOT RD', 'OXBOW RD', 'SILVER HILL RD', 'HOLDEN WOOD RD',\n",
       "       'PRESCOTT RD', 'LAUREL ST', 'HOSMER RD', 'SUMMIT ST',\n",
       "       'WEDGEWOOD CMN', 'EMERSON RD', 'POTTER ST', 'NUT MEADOW XING',\n",
       "       'PLEASANT ST', 'ROBINWOOD RD', 'DEACON HAYNES RD', 'EAST CIR',\n",
       "       'DALTON RD', 'ISAAC DAVIS RD', 'BIGELOW RD', 'HEMLOCK ST',\n",
       "       'AURORA LN', 'HILL ST', 'UNION ST', 'MERIAM RD', 'MCCALLAR LN',\n",
       "       'WHEELER RD', 'MATTISON DR', 'CARR RD', 'WHITE AVE', 'CHANNING RD',\n",
       "       'FINIGAN WAY', nan, 'GARDEN RD', 'WILLOW ST', 'KING LN',\n",
       "       'LINDSAY POND RD', 'BELKNAP CT', 'EATON ST', 'GRANT ST',\n",
       "       'BYRON ST', 'THOREAU CT', 'BRISTERS HILL RD', 'WILLIAMS RD',\n",
       "       'PETER BULKELEY RD', 'SHAGBARK RD', 'RIDGEWAY RD', 'MIDDLE ST',\n",
       "       'BROOK TRAIL RD', 'DAMON ST', 'EVERETT ST', 'PHEASANT LN',\n",
       "       'SORREL RD', 'ORCHARD RD', 'KEYES RD', 'OLD FARM RD',\n",
       "       'INDIAN PIPE LN', 'BROOKS ST', 'DAVIS CT', 'BAYBERRY RD',\n",
       "       'ATTAWAN RD', 'WINSLOW ST', 'DARTON ST', 'CRESS BROOK RD',\n",
       "       'OAK RD', 'WOOD ST', 'STUDLEY CT', 'HUGH CARGILL RD', 'RIDGE RD',\n",
       "       'DEVENS ST', 'CHASE RD', 'AYRSHIRE LN', 'WEST CIR', 'CHURCH ST',\n",
       "       'LIBERTY ST', 'DAMONMILL LN', 'MONUMENT FARM RD', 'MANUEL DR',\n",
       "       'HAYWARD MILL CIR', 'GREAT MEADOWS RD', 'KEUKA RD', 'FERN ST',\n",
       "       'MAPLE ST', 'POND VIEW LN', 'RIVER ST', 'UNION TPKE',\n",
       "       'OLD POWDER MILL RD', 'HIGH ST', 'WALDEN SQ', 'FRANCES ST',\n",
       "       'KNOX TRAIL RD', 'ALFORD CIR', 'COOLIDGE RD', 'ADIN DR',\n",
       "       'CAPTAIN MILES LN', 'DRUM HILL RD', 'SUNNYSIDE LN',\n",
       "       'FOREST RIDGE RD', 'CRESCENT RD', 'GARRISON RD', 'LEWIS RD',\n",
       "       'WALDEN TER', 'GREENFIELD LN', 'SIDNEY LN', 'WARNER ST', 'WEST ST',\n",
       "       'POWERS RD', 'BRADFORD ST', 'FIELDING ST', 'RIVERDALE CIR',\n",
       "       'CONCORD GREENE', 'FLORIO DR', 'GIFFORD LN', 'MALLARD DR',\n",
       "       'ALCOTT RD', 'PINE ST', 'VALLEY ST', 'MONUMENT SQ',\n",
       "       'WESTVALE MEADOW', 'GARLAND RD', 'INDEPENDENCE CT', 'WATER ST',\n",
       "       'CRANEFIELD RD', 'RIPLEY HILL RD', 'SEVEN STAR LN',\n",
       "       'OFF HARRINGTON AV', 'WRIGHT FARM', 'MILLRUN LN', 'PAUL ST',\n",
       "       'MITCHELL RD', 'SWEET BIRCH LN', 'ELM BROOK LN', 'RED COAT LN',\n",
       "       'OLD BRIDGE RD', 'WOLF PINE WAY', 'TURNING MILL RD', 'HEYWOOD ST',\n",
       "       'BARTKUS FARM', 'WESTGATE PARK', 'MACONE FARM LN', 'BRIGHAM WOODS',\n",
       "       'FLINT RD', 'WINDMILL HILL RD', 'TWO ROD RD', 'COPPERMINE RD',\n",
       "       'SQUAW SACHEM TRL', 'LONGFELLOW RD', 'HOLDEN LN', 'MAPLEWOOD CIR',\n",
       "       'COURT LN', 'WALNUT ST', 'BLUE HERON WAY', 'TRACY ST',\n",
       "       'BARTONS WAY', 'STAFFORDSHIRE LN', 'MAGNOLIA ST', 'JUNCTION SQ',\n",
       "       'CENTER VILLAGE DR', 'SHAW FARM RD', 'GRANBY ST', 'FOX LN',\n",
       "       'BRONSON WAY', 'BOW ST', 'WAYSIDE RD', 'SOUTH MEADOW RDG',\n",
       "       'WILLARD CMN', 'CONCORD XING', 'CEDAR WAY', 'DRAKE PARK RD',\n",
       "       'PRESTON ST', 'MAPLE CT', 'CRANBERRY LN', 'POND LN', 'THORNTON LN',\n",
       "       'ACADEMY LN', 'RIVER MEADOW', 'LOVE LN', 'BLACK BIRCH LN',\n",
       "       'EMERSON HOSPITAL', 'HAYWARD CT'], dtype=object)"
      ]
     },
     "execution_count": 36,
     "metadata": {},
     "output_type": "execute_result"
    }
   ],
   "source": [
    "df_concord.FULL_STR.unique()"
   ]
  },
  {
   "cell_type": "code",
   "execution_count": 122,
   "id": "c5f6655f-6c54-4655-81b4-ff7e1cb725fa",
   "metadata": {},
   "outputs": [],
   "source": [
    "df_BELKNAP=df_concord.loc[df_concord.FULL_STR=='BELKNAP ST']"
   ]
  },
  {
   "cell_type": "code",
   "execution_count": 123,
   "id": "a434a2a2",
   "metadata": {},
   "outputs": [
    {
     "data": {
      "text/plain": [
       "46"
      ]
     },
     "execution_count": 123,
     "metadata": {},
     "output_type": "execute_result"
    }
   ],
   "source": [
    "len(df_BELKNAP.index)"
   ]
  },
  {
   "cell_type": "code",
   "execution_count": 49,
   "id": "e2674ab6",
   "metadata": {},
   "outputs": [],
   "source": [
    "df_ELSINORE=df_concord.loc[df_concord.FULL_STR=='ELSINORE ST']"
   ]
  },
  {
   "cell_type": "code",
   "execution_count": 50,
   "id": "7239da0d",
   "metadata": {},
   "outputs": [
    {
     "data": {
      "text/plain": [
       "56"
      ]
     },
     "execution_count": 50,
     "metadata": {},
     "output_type": "execute_result"
    }
   ],
   "source": [
    "len(df_ELSINORE.index)"
   ]
  },
  {
   "cell_type": "code",
   "execution_count": 52,
   "id": "960632a1",
   "metadata": {},
   "outputs": [],
   "source": [
    "df_GRANT=df_concord.loc[df_concord.FULL_STR=='GRANT ST']"
   ]
  },
  {
   "cell_type": "code",
   "execution_count": 53,
   "id": "759e4f28",
   "metadata": {},
   "outputs": [
    {
     "data": {
      "text/plain": [
       "12"
      ]
     },
     "execution_count": 53,
     "metadata": {},
     "output_type": "execute_result"
    }
   ],
   "source": [
    "len(df_GRANT.index)"
   ]
  },
  {
   "cell_type": "code",
   "execution_count": 54,
   "id": "b04a0b5e",
   "metadata": {},
   "outputs": [],
   "source": [
    "df_BROOKS=df_concord.loc[df_concord.FULL_STR=='BROOKS ST']"
   ]
  },
  {
   "cell_type": "code",
   "execution_count": 55,
   "id": "28847c58",
   "metadata": {},
   "outputs": [
    {
     "data": {
      "text/plain": [
       "10"
      ]
     },
     "execution_count": 55,
     "metadata": {},
     "output_type": "execute_result"
    }
   ],
   "source": [
    "len(df_BROOKS.index)"
   ]
  },
  {
   "cell_type": "code",
   "execution_count": 56,
   "id": "d25aee73",
   "metadata": {},
   "outputs": [],
   "source": [
    "df_SUDBURY =df_concord.loc[df_concord.FULL_STR=='SUDBURY RD']"
   ]
  },
  {
   "cell_type": "code",
   "execution_count": 57,
   "id": "d2bdfb64",
   "metadata": {},
   "outputs": [
    {
     "data": {
      "text/plain": [
       "118"
      ]
     },
     "execution_count": 57,
     "metadata": {},
     "output_type": "execute_result"
    }
   ],
   "source": [
    "len(df_SUDBURY.index)"
   ]
  },
  {
   "cell_type": "code",
   "execution_count": 58,
   "id": "5e56ddb8",
   "metadata": {},
   "outputs": [],
   "source": [
    "df_BYRON =df_concord.loc[df_concord.FULL_STR=='BYRON ST']"
   ]
  },
  {
   "cell_type": "code",
   "execution_count": 59,
   "id": "e9f30c25",
   "metadata": {},
   "outputs": [
    {
     "data": {
      "text/plain": [
       "3"
      ]
     },
     "execution_count": 59,
     "metadata": {},
     "output_type": "execute_result"
    }
   ],
   "source": [
    "len(df_BYRON.index)"
   ]
  },
  {
   "cell_type": "code",
   "execution_count": 60,
   "id": "fd70522f",
   "metadata": {},
   "outputs": [],
   "source": [
    "df_WHITTEMORE =df_concord.loc[df_concord.FULL_STR=='WHITTEMORE ST']"
   ]
  },
  {
   "cell_type": "code",
   "execution_count": 62,
   "id": "daa33d6b",
   "metadata": {},
   "outputs": [
    {
     "data": {
      "text/plain": [
       "21"
      ]
     },
     "execution_count": 62,
     "metadata": {},
     "output_type": "execute_result"
    }
   ],
   "source": [
    "len(df_WHITTEMORE.index)"
   ]
  },
  {
   "cell_type": "code",
   "execution_count": 63,
   "id": "cecc4803",
   "metadata": {},
   "outputs": [],
   "source": [
    "df_MAIN =df_concord.loc[df_concord.FULL_STR=='MAIN ST']"
   ]
  },
  {
   "cell_type": "code",
   "execution_count": 64,
   "id": "5c141722",
   "metadata": {},
   "outputs": [
    {
     "data": {
      "text/plain": [
       "406"
      ]
     },
     "execution_count": 64,
     "metadata": {},
     "output_type": "execute_result"
    }
   ],
   "source": [
    "len(df_MAIN.index)"
   ]
  },
  {
   "cell_type": "code",
   "execution_count": 65,
   "id": "96b598e3",
   "metadata": {},
   "outputs": [],
   "source": [
    "df_COMMONWEALTH=df_concord.loc[df_concord.FULL_STR=='COMMONWEALTH AVE']"
   ]
  },
  {
   "cell_type": "code",
   "execution_count": 66,
   "id": "53d48b2b",
   "metadata": {},
   "outputs": [
    {
     "data": {
      "text/plain": [
       "102"
      ]
     },
     "execution_count": 66,
     "metadata": {},
     "output_type": "execute_result"
    }
   ],
   "source": [
    "len(df_COMMONWEALTH.index)"
   ]
  },
  {
   "cell_type": "code",
   "execution_count": 67,
   "id": "a2e38e01",
   "metadata": {},
   "outputs": [],
   "source": [
    "df_CHURCH=df_concord.loc[df_concord.FULL_STR=='CHURCH ST']"
   ]
  },
  {
   "cell_type": "code",
   "execution_count": 69,
   "id": "c5837cd9",
   "metadata": {},
   "outputs": [
    {
     "data": {
      "text/plain": [
       "8"
      ]
     },
     "execution_count": 69,
     "metadata": {},
     "output_type": "execute_result"
    }
   ],
   "source": [
    "len(df_CHURCH.index)"
   ]
  },
  {
   "cell_type": "code",
   "execution_count": 70,
   "id": "9f8a7968",
   "metadata": {},
   "outputs": [],
   "source": [
    "df_BEHARRELL=df_concord.loc[df_concord.FULL_STR=='BEHARRELL ST']"
   ]
  },
  {
   "cell_type": "code",
   "execution_count": 71,
   "id": "c9e187da",
   "metadata": {},
   "outputs": [
    {
     "data": {
      "text/plain": [
       "6"
      ]
     },
     "execution_count": 71,
     "metadata": {},
     "output_type": "execute_result"
    }
   ],
   "source": [
    "len(df_BEHARRELL.index)"
   ]
  },
  {
   "cell_type": "code",
   "execution_count": 72,
   "id": "99a519d9",
   "metadata": {},
   "outputs": [],
   "source": [
    "df_BRADFORD=df_concord.loc[df_concord.FULL_STR=='BRADFORD ST']"
   ]
  },
  {
   "cell_type": "code",
   "execution_count": 73,
   "id": "728946f2",
   "metadata": {},
   "outputs": [
    {
     "data": {
      "text/plain": [
       "6"
      ]
     },
     "execution_count": 73,
     "metadata": {},
     "output_type": "execute_result"
    }
   ],
   "source": [
    "len(df_BRADFORD.index)"
   ]
  },
  {
   "cell_type": "code",
   "execution_count": 74,
   "id": "918b9855",
   "metadata": {},
   "outputs": [],
   "source": [
    "df_LAWS_BROOK=df_concord.loc[df_concord.FULL_STR=='LAWS BROOK RD']"
   ]
  },
  {
   "cell_type": "code",
   "execution_count": 75,
   "id": "60836e63",
   "metadata": {},
   "outputs": [
    {
     "data": {
      "text/plain": [
       "63"
      ]
     },
     "execution_count": 75,
     "metadata": {},
     "output_type": "execute_result"
    }
   ],
   "source": [
    "len(df_LAWS_BROOK.index)"
   ]
  },
  {
   "cell_type": "code",
   "execution_count": 76,
   "id": "6bdd7969",
   "metadata": {},
   "outputs": [],
   "source": [
    "df_MILDRED=df_concord.loc[df_concord.FULL_STR=='MILDRED CIR']"
   ]
  },
  {
   "cell_type": "code",
   "execution_count": 78,
   "id": "78faa52f",
   "metadata": {},
   "outputs": [
    {
     "data": {
      "text/plain": [
       "15"
      ]
     },
     "execution_count": 78,
     "metadata": {},
     "output_type": "execute_result"
    }
   ],
   "source": [
    "len(df_MILDRED.index)"
   ]
  },
  {
   "cell_type": "code",
   "execution_count": 81,
   "id": "71b2cf52",
   "metadata": {},
   "outputs": [],
   "source": [
    "df_SARAH_WAY=df_concord.loc[df_concord.FULL_STR=='SARAH WAY']"
   ]
  },
  {
   "cell_type": "code",
   "execution_count": 82,
   "id": "01d2c791",
   "metadata": {},
   "outputs": [
    {
     "data": {
      "text/plain": [
       "6"
      ]
     },
     "execution_count": 82,
     "metadata": {},
     "output_type": "execute_result"
    }
   ],
   "source": [
    "len(df_SARAH_WAY.index)"
   ]
  },
  {
   "cell_type": "code",
   "execution_count": 124,
   "id": "36e5a5cb",
   "metadata": {},
   "outputs": [],
   "source": [
    "df_Cambridge_Tpke=df_concord.loc[df_concord.FULL_STR=='CAMBRIDGE TPKE']"
   ]
  },
  {
   "cell_type": "code",
   "execution_count": 125,
   "id": "0768e1bd",
   "metadata": {},
   "outputs": [
    {
     "data": {
      "text/plain": [
       "53"
      ]
     },
     "execution_count": 125,
     "metadata": {},
     "output_type": "execute_result"
    }
   ],
   "source": [
    "len(df_Cambridge_Tpke.index)"
   ]
  },
  {
   "cell_type": "code",
   "execution_count": 87,
   "id": "a91f9157",
   "metadata": {},
   "outputs": [],
   "source": [
    "df_HUNTERS_RIDGE=df_concord.loc[df_concord.FULL_STR=='HUNTERS RIDGE RD']"
   ]
  },
  {
   "cell_type": "code",
   "execution_count": 89,
   "id": "2227031d",
   "metadata": {},
   "outputs": [
    {
     "data": {
      "text/plain": [
       "24"
      ]
     },
     "execution_count": 89,
     "metadata": {},
     "output_type": "execute_result"
    }
   ],
   "source": [
    "len(df_HUNTERS_RIDGE.index)"
   ]
  },
  {
   "cell_type": "code",
   "execution_count": 90,
   "id": "463bfa2c",
   "metadata": {},
   "outputs": [],
   "source": [
    "df_OLD_MARLBORO=df_concord.loc[df_concord.FULL_STR=='OLD MARLBORO RD']"
   ]
  },
  {
   "cell_type": "code",
   "execution_count": 91,
   "id": "72fc1d86",
   "metadata": {},
   "outputs": [
    {
     "data": {
      "text/plain": [
       "97"
      ]
     },
     "execution_count": 91,
     "metadata": {},
     "output_type": "execute_result"
    }
   ],
   "source": [
    "len(df_OLD_MARLBORO.index)"
   ]
  },
  {
   "cell_type": "code",
   "execution_count": 92,
   "id": "bdd5d12b",
   "metadata": {},
   "outputs": [],
   "source": [
    "df_THOREAU=df_concord.loc[df_concord.FULL_STR=='THOREAU ST']"
   ]
  },
  {
   "cell_type": "code",
   "execution_count": 93,
   "id": "b0302c6b",
   "metadata": {},
   "outputs": [
    {
     "data": {
      "text/plain": [
       "66"
      ]
     },
     "execution_count": 93,
     "metadata": {},
     "output_type": "execute_result"
    }
   ],
   "source": [
    "len(df_THOREAU.index)"
   ]
  },
  {
   "cell_type": "code",
   "execution_count": 94,
   "id": "967c473a",
   "metadata": {},
   "outputs": [],
   "source": [
    "df_HUBBARD=df_concord.loc[df_concord.FULL_STR=='HUBBARD ST']"
   ]
  },
  {
   "cell_type": "code",
   "execution_count": 96,
   "id": "9a651d93",
   "metadata": {},
   "outputs": [
    {
     "data": {
      "text/plain": [
       "55"
      ]
     },
     "execution_count": 96,
     "metadata": {},
     "output_type": "execute_result"
    }
   ],
   "source": [
    "len(df_HUBBARD.index)"
   ]
  },
  {
   "cell_type": "code",
   "execution_count": 126,
   "id": "e4cea279",
   "metadata": {},
   "outputs": [],
   "source": [
    "df_LAUREL=df_concord.loc[df_concord.FULL_STR=='LAUREL ST']"
   ]
  },
  {
   "cell_type": "code",
   "execution_count": 127,
   "id": "e2397f1d",
   "metadata": {},
   "outputs": [
    {
     "data": {
      "text/plain": [
       "21"
      ]
     },
     "execution_count": 127,
     "metadata": {},
     "output_type": "execute_result"
    }
   ],
   "source": [
    "len(df_LAUREL.index)"
   ]
  },
  {
   "cell_type": "code",
   "execution_count": 128,
   "id": "d5debd0d",
   "metadata": {},
   "outputs": [],
   "source": [
    "df_THOREAU_CT=df_concord.loc[df_concord.FULL_STR=='THOREAU CT']"
   ]
  },
  {
   "cell_type": "code",
   "execution_count": 129,
   "id": "43d6cdbb",
   "metadata": {},
   "outputs": [
    {
     "data": {
      "text/plain": [
       "8"
      ]
     },
     "execution_count": 129,
     "metadata": {},
     "output_type": "execute_result"
    }
   ],
   "source": [
    "len(df_THOREAU_CT.index)"
   ]
  },
  {
   "cell_type": "code",
   "execution_count": 103,
   "id": "ff01efbe",
   "metadata": {},
   "outputs": [
    {
     "data": {
      "text/plain": [
       "29"
      ]
     },
     "execution_count": 103,
     "metadata": {},
     "output_type": "execute_result"
    }
   ],
   "source": [
    "len(df_LAUREL.index)+len(df_THOREAU_CT.index)"
   ]
  },
  {
   "cell_type": "code",
   "execution_count": 130,
   "id": "236e99b2",
   "metadata": {},
   "outputs": [],
   "source": [
    "df_UNION =df_concord.loc[df_concord.FULL_STR=='UNION ST']"
   ]
  },
  {
   "cell_type": "code",
   "execution_count": 131,
   "id": "d6bdd5a3",
   "metadata": {},
   "outputs": [
    {
     "data": {
      "text/plain": [
       "8"
      ]
     },
     "execution_count": 131,
     "metadata": {},
     "output_type": "execute_result"
    }
   ],
   "source": [
    "len(df_UNION.index)"
   ]
  },
  {
   "cell_type": "code",
   "execution_count": 132,
   "id": "8f6dfbe5",
   "metadata": {},
   "outputs": [],
   "source": [
    "df_WILLOW =df_concord.loc[df_concord.FULL_STR=='WILLOW ST']"
   ]
  },
  {
   "cell_type": "code",
   "execution_count": 133,
   "id": "49c2c4e6",
   "metadata": {},
   "outputs": [
    {
     "data": {
      "text/plain": [
       "7"
      ]
     },
     "execution_count": 133,
     "metadata": {},
     "output_type": "execute_result"
    }
   ],
   "source": [
    "len(df_WILLOW.index)"
   ]
  },
  {
   "cell_type": "code",
   "execution_count": 136,
   "id": "90ab0922",
   "metadata": {},
   "outputs": [],
   "source": [
    "df_Fielding =df_concord.loc[df_concord.FULL_STR=='FIELDING ST']"
   ]
  },
  {
   "cell_type": "code",
   "execution_count": 137,
   "id": "0d6ae706",
   "metadata": {},
   "outputs": [
    {
     "data": {
      "text/plain": [
       "8"
      ]
     },
     "execution_count": 137,
     "metadata": {},
     "output_type": "execute_result"
    }
   ],
   "source": [
    "len(df_Fielding.index)"
   ]
  },
  {
   "cell_type": "code",
   "execution_count": 138,
   "id": "b9199e6f",
   "metadata": {},
   "outputs": [
    {
     "data": {
      "text/plain": [
       "23"
      ]
     },
     "execution_count": 138,
     "metadata": {},
     "output_type": "execute_result"
    }
   ],
   "source": [
    "len(df_UNION.index)+len(df_WILLOW.index)+len(df_Fielding.index)"
   ]
  },
  {
   "cell_type": "code",
   "execution_count": 110,
   "id": "ff0ae2b6",
   "metadata": {},
   "outputs": [],
   "source": [
    "df_WALDEN =df_concord.loc[df_concord.FULL_STR=='WALDEN TER']"
   ]
  },
  {
   "cell_type": "code",
   "execution_count": 111,
   "id": "a526c79d",
   "metadata": {},
   "outputs": [
    {
     "data": {
      "text/plain": [
       "12"
      ]
     },
     "execution_count": 111,
     "metadata": {},
     "output_type": "execute_result"
    }
   ],
   "source": [
    "len(df_WALDEN.index)"
   ]
  },
  {
   "cell_type": "code",
   "execution_count": 140,
   "id": "442114e7",
   "metadata": {},
   "outputs": [],
   "source": [
    "df_DEVENS =df_concord.loc[df_concord.FULL_STR=='DEVENS ST']"
   ]
  },
  {
   "cell_type": "code",
   "execution_count": 141,
   "id": "72a25304",
   "metadata": {},
   "outputs": [
    {
     "data": {
      "text/plain": [
       "8"
      ]
     },
     "execution_count": 141,
     "metadata": {},
     "output_type": "execute_result"
    }
   ],
   "source": [
    "len(df_DEVENS.index)"
   ]
  },
  {
   "cell_type": "code",
   "execution_count": 142,
   "id": "93e509d8",
   "metadata": {},
   "outputs": [],
   "source": [
    "df_BELKNAP=df_concord.loc[df_concord.FULL_STR=='BELKNAP ST']"
   ]
  },
  {
   "cell_type": "code",
   "execution_count": 143,
   "id": "56020b65",
   "metadata": {},
   "outputs": [
    {
     "data": {
      "text/plain": [
       "46"
      ]
     },
     "execution_count": 143,
     "metadata": {},
     "output_type": "execute_result"
    }
   ],
   "source": [
    "len(df_BELKNAP.index)"
   ]
  },
  {
   "cell_type": "code",
   "execution_count": 144,
   "id": "8e7ef3a4",
   "metadata": {},
   "outputs": [
    {
     "data": {
      "text/plain": [
       "54"
      ]
     },
     "execution_count": 144,
     "metadata": {},
     "output_type": "execute_result"
    }
   ],
   "source": [
    "len(df_DEVENS.index)+len(df_BELKNAP.index)"
   ]
  },
  {
   "cell_type": "code",
   "execution_count": 145,
   "id": "d62d56f8",
   "metadata": {},
   "outputs": [],
   "source": [
    "df_ACADEMY =df_concord.loc[df_concord.FULL_STR=='ACADEMY LN']"
   ]
  },
  {
   "cell_type": "code",
   "execution_count": 146,
   "id": "6594714f",
   "metadata": {},
   "outputs": [
    {
     "data": {
      "text/plain": [
       "4"
      ]
     },
     "execution_count": 146,
     "metadata": {},
     "output_type": "execute_result"
    }
   ],
   "source": [
    "len(df_ACADEMY.index)"
   ]
  },
  {
   "cell_type": "code",
   "execution_count": 147,
   "id": "36b9684b",
   "metadata": {},
   "outputs": [],
   "source": [
    "df_MIDDLE =df_concord.loc[df_concord.FULL_STR=='MIDDLE ST']"
   ]
  },
  {
   "cell_type": "code",
   "execution_count": 148,
   "id": "8208b6ef",
   "metadata": {},
   "outputs": [
    {
     "data": {
      "text/plain": [
       "12"
      ]
     },
     "execution_count": 148,
     "metadata": {},
     "output_type": "execute_result"
    }
   ],
   "source": [
    "len(df_MIDDLE.index)"
   ]
  },
  {
   "cell_type": "code",
   "execution_count": 118,
   "id": "257acdb9",
   "metadata": {},
   "outputs": [
    {
     "data": {
      "text/plain": [
       "16"
      ]
     },
     "execution_count": 118,
     "metadata": {},
     "output_type": "execute_result"
    }
   ],
   "source": [
    "len(df_ACADEMY.index)+len(df_MIDDLE.index)"
   ]
  },
  {
   "cell_type": "code",
   "execution_count": 120,
   "id": "044c02e3",
   "metadata": {},
   "outputs": [],
   "source": [
    "df_SUDBURY =df_concord.loc[df_concord.FULL_STR=='SUDBURY RD']"
   ]
  },
  {
   "cell_type": "code",
   "execution_count": 121,
   "id": "3cfe562a",
   "metadata": {},
   "outputs": [
    {
     "data": {
      "text/plain": [
       "118"
      ]
     },
     "execution_count": 121,
     "metadata": {},
     "output_type": "execute_result"
    }
   ],
   "source": [
    "len(df_SUDBURY.index)"
   ]
  },
  {
   "cell_type": "code",
   "execution_count": null,
   "id": "32a05870",
   "metadata": {},
   "outputs": [],
   "source": []
  }
 ],
 "metadata": {
  "kernelspec": {
   "display_name": "Python 3 (ipykernel)",
   "language": "python",
   "name": "python3"
  },
  "language_info": {
   "codemirror_mode": {
    "name": "ipython",
    "version": 3
   },
   "file_extension": ".py",
   "mimetype": "text/x-python",
   "name": "python",
   "nbconvert_exporter": "python",
   "pygments_lexer": "ipython3",
   "version": "3.8.8"
  }
 },
 "nbformat": 4,
 "nbformat_minor": 5
}
