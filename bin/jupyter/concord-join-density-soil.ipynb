{
 "cells": [
  {
   "cell_type": "code",
   "execution_count": 1,
   "id": "8c1d199d-7cf2-4076-bb02-1bf18532e008",
   "metadata": {},
   "outputs": [],
   "source": [
    "import pandas as pd\n",
    "import csv"
   ]
  },
  {
   "cell_type": "code",
   "execution_count": 24,
   "id": "e30e7f6d-963f-4f66-9b7f-4ea89e0485e6",
   "metadata": {},
   "outputs": [],
   "source": [
    "df_concord_join = pd.read_csv (r'../../data/tidy/concord_parcel_soil_join.csv')"
   ]
  },
  {
   "cell_type": "code",
   "execution_count": 38,
   "id": "988d0b0b-2b67-4c53-a862-706a6c7f20e5",
   "metadata": {},
   "outputs": [],
   "source": [
    "street=['BELKNAP ST','ELSINORE ST','GRANT ST','BROOKS ST','SUDBURY RD','BYRON ST','WHITTEMORE ST','MAIN ST','COMMONWEALTH AVE','CHURCH ST','BEHARRELL ST', 'BRADFORD ST','LAWS BROOK RD','MILDRED CIR','SARAH WAY','CAMBRIDGE TPKE','HUNTERS RIDGE RD','OLD MARLBORO RD','THOREAU ST','HUBBARD ST','WALDEN TER','SUDBURY RD']"
   ]
  },
  {
   "cell_type": "code",
   "execution_count": 39,
   "id": "53ccb6f9-6159-4aac-bd27-ee7339c62c11",
   "metadata": {},
   "outputs": [
    {
     "data": {
      "text/plain": [
       "22"
      ]
     },
     "execution_count": 39,
     "metadata": {},
     "output_type": "execute_result"
    }
   ],
   "source": [
    "len(street)"
   ]
  },
  {
   "cell_type": "code",
   "execution_count": 33,
   "id": "924d4393-8ed3-4267-b352-1589f39dcd74",
   "metadata": {},
   "outputs": [
    {
     "name": "stdout",
     "output_type": "stream",
     "text": [
      "SAND    58.793478\n",
      "dtype: float64\n",
      "CLAY    5.282609\n",
      "dtype: float64\n",
      "SAND    63.85\n",
      "dtype: float64\n",
      "CLAY    4.792857\n",
      "dtype: float64\n",
      "SAND    55.091667\n",
      "dtype: float64\n",
      "CLAY    4.95\n",
      "dtype: float64\n",
      "SAND    64.3\n",
      "dtype: float64\n",
      "CLAY    4.72\n",
      "dtype: float64\n",
      "SAND    59.912712\n",
      "dtype: float64\n",
      "CLAY    3.779661\n",
      "dtype: float64\n",
      "SAND    60.1\n",
      "dtype: float64\n",
      "CLAY    5.4\n",
      "dtype: float64\n",
      "SAND    60.1\n",
      "dtype: float64\n",
      "CLAY    5.4\n",
      "dtype: float64\n",
      "SAND    58.164532\n",
      "dtype: float64\n",
      "CLAY    4.666995\n",
      "dtype: float64\n",
      "SAND    54.42451\n",
      "dtype: float64\n",
      "CLAY    3.756863\n",
      "dtype: float64\n",
      "SAND    45.4\n",
      "dtype: float64\n",
      "CLAY    2.1\n",
      "dtype: float64\n",
      "SAND    10.016667\n",
      "dtype: float64\n",
      "CLAY    0.9\n",
      "dtype: float64\n",
      "SAND    60.1\n",
      "dtype: float64\n",
      "CLAY    5.4\n",
      "dtype: float64\n",
      "SAND    61.063492\n",
      "dtype: float64\n",
      "CLAY    4.571429\n",
      "dtype: float64\n",
      "SAND    81.14\n",
      "dtype: float64\n",
      "CLAY    1.8\n",
      "dtype: float64\n",
      "SAND    85.0\n",
      "dtype: float64\n",
      "CLAY    1.0\n",
      "dtype: float64\n",
      "SAND    73.709434\n",
      "dtype: float64\n",
      "CLAY    2.573585\n",
      "dtype: float64\n",
      "SAND    78.116667\n",
      "dtype: float64\n",
      "CLAY    2.133333\n",
      "dtype: float64\n",
      "SAND    72.156701\n",
      "dtype: float64\n",
      "CLAY    3.44433\n",
      "dtype: float64\n",
      "SAND    57.407576\n",
      "dtype: float64\n",
      "CLAY    3.8\n",
      "dtype: float64\n",
      "SAND    66.652727\n",
      "dtype: float64\n",
      "CLAY    4.287273\n",
      "dtype: float64\n",
      "SAND    66.825\n",
      "dtype: float64\n",
      "CLAY    4.266667\n",
      "dtype: float64\n",
      "SAND    59.912712\n",
      "dtype: float64\n",
      "CLAY    3.779661\n",
      "dtype: float64\n"
     ]
    }
   ],
   "source": [
    "for s in street:\n",
    "    df_s=df_concord_join.loc[df_concord_join.FULL_STR==s]\n",
    "    s_sand_mean=df_s[[\"SAND\"]].mean()\n",
    "    s_clay_mean=df_s[[\"CLAY\"]].mean()\n",
    "    #out_file = open('r../../data/tidy/concord.csv', \"wb\")\n",
    "    #writer = csv.writer(out_file)\n",
    "    #for row in reader:\n",
    "    #row[3] = 4\n",
    "    #writer.writerow(row)\n",
    "    #in_file.close()    \n",
    "    #out_file.close()\n",
    "    #with open('r../../data/tidy/concord.csv', 'w', newline='') as csvfile:\n",
    "        #csvfile.row[sand]=s_sand_mean\n",
    "        #csvwriter = csv.writer(csvfile)\n",
    "        #csvwriter.writerow(fields)\n",
    "        #csvwriter.writecolumn(fields)\n",
    "    print(s_sand_mean) \n",
    "    print(s_clay_mean) "
   ]
  },
  {
   "cell_type": "code",
   "execution_count": 36,
   "id": "484ca508-06c9-44da-b1f4-70c2b52534ea",
   "metadata": {},
   "outputs": [],
   "source": [
    "street_joint=[\"LAUREL ST\",\"THOREAU CT\",\"UNION ST\",\"WILLOW ST\",\"FIELDING ST\",\"DEVENS ST\",\"BELKNAP ST\",\"ACADEMY LN\",\"MIDDLE ST\"]"
   ]
  },
  {
   "cell_type": "code",
   "execution_count": 37,
   "id": "49595ee5-e6a5-47e2-9e43-fa95c849c7cf",
   "metadata": {},
   "outputs": [
    {
     "data": {
      "text/plain": [
       "9"
      ]
     },
     "execution_count": 37,
     "metadata": {},
     "output_type": "execute_result"
    }
   ],
   "source": [
    "len(street_joint)"
   ]
  },
  {
   "cell_type": "code",
   "execution_count": 40,
   "id": "f633199a-e79e-4e03-a05a-c64bd31ea628",
   "metadata": {},
   "outputs": [
    {
     "name": "stdout",
     "output_type": "stream",
     "text": [
      "SAND    61.047619\n",
      "dtype: float64\n",
      "CLAY    5.238095\n",
      "dtype: float64\n",
      "SAND    55.2125\n",
      "dtype: float64\n",
      "CLAY    4.3\n",
      "dtype: float64\n",
      "SAND    78.475\n",
      "dtype: float64\n",
      "CLAY    2.425\n",
      "dtype: float64\n",
      "SAND    60.1\n",
      "dtype: float64\n",
      "CLAY    5.4\n",
      "dtype: float64\n",
      "SAND    65.075\n",
      "dtype: float64\n",
      "CLAY    4.55\n",
      "dtype: float64\n",
      "SAND    60.1\n",
      "dtype: float64\n",
      "CLAY    5.4\n",
      "dtype: float64\n",
      "SAND    58.793478\n",
      "dtype: float64\n",
      "CLAY    5.282609\n",
      "dtype: float64\n",
      "SAND    60.1\n",
      "dtype: float64\n",
      "CLAY    5.4\n",
      "dtype: float64\n",
      "SAND    60.1\n",
      "dtype: float64\n",
      "CLAY    5.4\n",
      "dtype: float64\n"
     ]
    }
   ],
   "source": [
    "for s2 in street_joint:\n",
    "    df_s2=df_concord_join.loc[df_concord_join.FULL_STR==s2]\n",
    "    s2_sand_mean=df_s2[[\"SAND\"]].mean()\n",
    "    s2_clay_mean=df_s2[[\"CLAY\"]].mean()\n",
    "    print(s2_sand_mean) \n",
    "    print(s2_clay_mean) "
   ]
  },
  {
   "cell_type": "code",
   "execution_count": 43,
   "id": "5018b410-8975-4bca-b896-7c6a392763b9",
   "metadata": {},
   "outputs": [
    {
     "name": "stdout",
     "output_type": "stream",
     "text": [
      "BLD_AREA    178352\n",
      "dtype: int64\n",
      "BLD_AREA    254878\n",
      "dtype: int64\n",
      "BLD_AREA    49977\n",
      "dtype: int64\n",
      "BLD_AREA    44319\n",
      "dtype: int64\n",
      "BLD_AREA    549123\n",
      "dtype: int64\n",
      "BLD_AREA    14771\n",
      "dtype: int64\n",
      "BLD_AREA    102993\n",
      "dtype: int64\n",
      "BLD_AREA    1720109\n",
      "dtype: int64\n",
      "BLD_AREA    440638\n",
      "dtype: int64\n",
      "BLD_AREA    33038\n",
      "dtype: int64\n",
      "BLD_AREA    220370\n",
      "dtype: int64\n",
      "BLD_AREA    113340\n",
      "dtype: int64\n",
      "BLD_AREA    244682\n",
      "dtype: int64\n",
      "BLD_AREA    139318\n",
      "dtype: int64\n",
      "BLD_AREA    57343\n",
      "dtype: int64\n",
      "BLD_AREA    189304\n",
      "dtype: int64\n",
      "BLD_AREA    146635\n",
      "dtype: int64\n",
      "BLD_AREA    665409\n",
      "dtype: int64\n",
      "BLD_AREA    333114\n",
      "dtype: int64\n",
      "BLD_AREA    223002\n",
      "dtype: int64\n",
      "BLD_AREA    50911\n",
      "dtype: int64\n",
      "BLD_AREA    549123\n",
      "dtype: int64\n"
     ]
    }
   ],
   "source": [
    "for s in street:\n",
    "    df_s=df_concord_join.loc[df_concord_join.FULL_STR==s]\n",
    "    s_BLD_AREA_sum=df_s[[\"BLD_AREA\"]].sum()\n",
    "    print(s_BLD_AREA_sum) "
   ]
  },
  {
   "cell_type": "code",
   "execution_count": 44,
   "id": "38584dc4-6dba-43aa-82ca-fbd02f423eb9",
   "metadata": {},
   "outputs": [
    {
     "name": "stdout",
     "output_type": "stream",
     "text": [
      "BLD_AREA    8691.857143\n",
      "dtype: float64\n",
      "BLD_AREA    2447.125\n",
      "dtype: float64\n",
      "BLD_AREA    2794.125\n",
      "dtype: float64\n",
      "BLD_AREA    3562.857143\n",
      "dtype: float64\n",
      "BLD_AREA    3275.125\n",
      "dtype: float64\n",
      "BLD_AREA    5191.5\n",
      "dtype: float64\n",
      "BLD_AREA    3877.217391\n",
      "dtype: float64\n",
      "BLD_AREA    5491.25\n",
      "dtype: float64\n",
      "BLD_AREA    5904.833333\n",
      "dtype: float64\n"
     ]
    }
   ],
   "source": [
    "for s2 in street_joint:\n",
    "    df_s2=df_concord_join.loc[df_concord_join.FULL_STR==s2]\n",
    "    s2_BLD_AREA_sum=df_s2[[\"BLD_AREA\"]].mean()\n",
    "    print(s2_BLD_AREA_sum) "
   ]
  },
  {
   "cell_type": "code",
   "execution_count": 45,
   "id": "1d9a948c-7f6e-4cd4-a5b6-4543ef76ec51",
   "metadata": {},
   "outputs": [
    {
     "name": "stdout",
     "output_type": "stream",
     "text": [
      "TOTAL_VAL    36910100\n",
      "dtype: int64\n",
      "TOTAL_VAL    52107300\n",
      "dtype: int64\n",
      "TOTAL_VAL    10575900\n",
      "dtype: int64\n",
      "TOTAL_VAL    9492800\n",
      "dtype: int64\n",
      "TOTAL_VAL    139166240\n",
      "dtype: int64\n",
      "TOTAL_VAL    2062400\n",
      "dtype: int64\n",
      "TOTAL_VAL    19213000\n",
      "dtype: int64\n",
      "TOTAL_VAL    365973300\n",
      "dtype: int64\n",
      "TOTAL_VAL    73485200\n",
      "dtype: int64\n",
      "TOTAL_VAL    5439300\n",
      "dtype: int64\n",
      "TOTAL_VAL    23787200\n",
      "dtype: int64\n",
      "TOTAL_VAL    11096000\n",
      "dtype: int64\n",
      "TOTAL_VAL    53856400\n",
      "dtype: int64\n",
      "TOTAL_VAL    21616400\n",
      "dtype: int64\n",
      "TOTAL_VAL    9760100\n",
      "dtype: int64\n",
      "TOTAL_VAL    41928702\n",
      "dtype: int64\n",
      "TOTAL_VAL    26402600\n",
      "dtype: int64\n",
      "TOTAL_VAL    125917500\n",
      "dtype: int64\n",
      "TOTAL_VAL    71855100\n",
      "dtype: int64\n",
      "TOTAL_VAL    64054600\n",
      "dtype: int64\n",
      "TOTAL_VAL    12220400\n",
      "dtype: int64\n",
      "TOTAL_VAL    139166240\n",
      "dtype: int64\n"
     ]
    }
   ],
   "source": [
    "for s in street:\n",
    "    df_s=df_concord_join.loc[df_concord_join.FULL_STR==s]\n",
    "    s_BLD_AREA_sum=df_s[[\"TOTAL_VAL\"]].sum()\n",
    "    print(s_BLD_AREA_sum) "
   ]
  },
  {
   "cell_type": "code",
   "execution_count": 47,
   "id": "bae9c24c-2ebb-423d-a3c7-25181a82a1c5",
   "metadata": {},
   "outputs": [
    {
     "name": "stdout",
     "output_type": "stream",
     "text": [
      "TOTAL_VAL    2.160338e+06\n",
      "dtype: float64\n",
      "TOTAL_VAL    624300.0\n",
      "dtype: float64\n",
      "TOTAL_VAL    686200.0\n",
      "dtype: float64\n",
      "TOTAL_VAL    839742.857143\n",
      "dtype: float64\n",
      "TOTAL_VAL    938650.0\n",
      "dtype: float64\n",
      "TOTAL_VAL    1637325.0\n",
      "dtype: float64\n",
      "TOTAL_VAL    802393.478261\n",
      "dtype: float64\n",
      "TOTAL_VAL    1774225.0\n",
      "dtype: float64\n",
      "TOTAL_VAL    1.657342e+06\n",
      "dtype: float64\n"
     ]
    }
   ],
   "source": [
    "for s2 in street_joint:\n",
    "    df_s2=df_concord_join.loc[df_concord_join.FULL_STR==s2]\n",
    "    s2_TOTAL_VAL_sum=df_s2[[\"TOTAL_VAL\"]].mean()\n",
    "    print(s2_TOTAL_VAL_sum) "
   ]
  },
  {
   "cell_type": "code",
   "execution_count": null,
   "id": "33e4bc8d-51d4-463a-ba69-449c6b33fca6",
   "metadata": {},
   "outputs": [],
   "source": []
  }
 ],
 "metadata": {
  "kernelspec": {
   "display_name": "Python 3 (ipykernel)",
   "language": "python",
   "name": "python3"
  },
  "language_info": {
   "codemirror_mode": {
    "name": "ipython",
    "version": 3
   },
   "file_extension": ".py",
   "mimetype": "text/x-python",
   "name": "python",
   "nbconvert_exporter": "python",
   "pygments_lexer": "ipython3",
   "version": "3.10.0"
  }
 },
 "nbformat": 4,
 "nbformat_minor": 5
}
