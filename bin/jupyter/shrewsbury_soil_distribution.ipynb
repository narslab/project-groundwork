{
 "cells": [
  {
   "cell_type": "code",
   "execution_count": 1,
   "id": "7cf4ef40",
   "metadata": {},
   "outputs": [],
   "source": [
    "import numpy as np\n",
    "import pandas as pd\n",
    "import seaborn as sns\n",
    "from fitter import Fitter, get_common_distributions, get_distributions\n",
    "import math\n",
    "import matplotlib.pyplot as plt\n",
    "from scipy import stats"
   ]
  },
  {
   "cell_type": "code",
   "execution_count": 2,
   "id": "091cb588-5aa1-4785-9e42-aadd35c4e8f8",
   "metadata": {},
   "outputs": [
    {
     "name": "stderr",
     "output_type": "stream",
     "text": [
      "C:\\Users\\Mahsa\\Anaconda3\\lib\\site-packages\\IPython\\core\\interactiveshell.py:3444: DtypeWarning: Columns (24,32,34) have mixed types.Specify dtype option on import or set low_memory=False.\n",
      "  exec(code_obj, self.user_global_ns, self.user_ns)\n"
     ]
    }
   ],
   "source": [
    "with open(r'../../data/tidy/Shrewsbury_join_tidy_CLAY.csv') as Shrewsbury_CLAY:\n",
    "    df_Shrewsbury_CLAY=pd.read_csv(Shrewsbury_CLAY)"
   ]
  },
  {
   "cell_type": "code",
   "execution_count": 3,
   "id": "fa8d3c6b-c5c7-4338-ad6d-9cf08128efbf",
   "metadata": {},
   "outputs": [
    {
     "data": {
      "text/plain": [
       "24972"
      ]
     },
     "execution_count": 3,
     "metadata": {},
     "output_type": "execute_result"
    }
   ],
   "source": [
    "len(df_Shrewsbury_CLAY['CLAY'])"
   ]
  },
  {
   "cell_type": "code",
   "execution_count": 4,
   "id": "4a6a37bc-dcc9-46b2-afa9-70126d3fed97",
   "metadata": {},
   "outputs": [
    {
     "data": {
      "text/plain": [
       "array([2. , 7. , 7.3, 4. , 5.4, 8. , 9. , 9.5, 6. , 4.6, 1. ])"
      ]
     },
     "execution_count": 4,
     "metadata": {},
     "output_type": "execute_result"
    }
   ],
   "source": [
    "df_Shrewsbury_CLAY['CLAY'].unique()"
   ]
  },
  {
   "cell_type": "code",
   "execution_count": 5,
   "id": "f48ec51b-a4a5-4146-9b4f-6f5e1d46bfc2",
   "metadata": {},
   "outputs": [
    {
     "data": {
      "text/plain": [
       "11"
      ]
     },
     "execution_count": 5,
     "metadata": {},
     "output_type": "execute_result"
    }
   ],
   "source": [
    "len(df_Shrewsbury_CLAY['CLAY'].unique())"
   ]
  },
  {
   "cell_type": "code",
   "execution_count": 6,
   "id": "4784f502-22b7-4672-9413-0c9e221bfb25",
   "metadata": {},
   "outputs": [],
   "source": [
    "unique_clay=df_Shrewsbury_CLAY['CLAY'].unique()"
   ]
  },
  {
   "cell_type": "code",
   "execution_count": 7,
   "id": "75998b81-2239-4a8d-8d90-d36ca18d4d5e",
   "metadata": {},
   "outputs": [
    {
     "data": {
      "text/plain": [
       "numpy.ndarray"
      ]
     },
     "execution_count": 7,
     "metadata": {},
     "output_type": "execute_result"
    }
   ],
   "source": [
    "type(unique_clay)"
   ]
  },
  {
   "cell_type": "code",
   "execution_count": 8,
   "id": "10ff3883",
   "metadata": {},
   "outputs": [],
   "source": [
    "# plotting histogram for CLAY\n",
    "#sns.set_style('white')\n",
    "#sns.set_context(\"paper\", font_scale = 2)\n",
    "#sns.displot(data=df_Shrewsbury_CLAY, x=\"CLAY\", kind=\"hist\", bins = 50, aspect = 1.5)"
   ]
  },
  {
   "cell_type": "code",
   "execution_count": 9,
   "id": "cf4d9de3-864a-4624-97ad-f55c67eccd24",
   "metadata": {},
   "outputs": [],
   "source": [
    "# plotting histogram for CLAY\n",
    "#plt.hist(df_Shrewsbury_CLAY['CLAY'], log=True)\n",
    "#plt.xlabel('CLAY%')\n",
    "#plt.show"
   ]
  },
  {
   "cell_type": "code",
   "execution_count": 10,
   "id": "1521a025-36b4-46bb-a28c-ae55e3707324",
   "metadata": {},
   "outputs": [],
   "source": [
    "df_Shrewsbury_CLAY['log_CLAY'] = np.log10(df_Shrewsbury_CLAY['CLAY'])"
   ]
  },
  {
   "cell_type": "code",
   "execution_count": 11,
   "id": "4ef1380e-f22e-44bb-b874-2202e8504916",
   "metadata": {},
   "outputs": [
    {
     "data": {
      "text/plain": [
       "array([0.30103   , 0.84509804, 0.86332286, 0.60205999, 0.73239376,\n",
       "       0.90308999, 0.95424251, 0.97772361, 0.77815125, 0.66275783,\n",
       "       0.        ])"
      ]
     },
     "execution_count": 11,
     "metadata": {},
     "output_type": "execute_result"
    }
   ],
   "source": [
    "df_Shrewsbury_CLAY['log_CLAY'].unique()"
   ]
  },
  {
   "cell_type": "code",
   "execution_count": 12,
   "id": "ceba3e11-6a29-4ebd-b5b6-ea6711be231a",
   "metadata": {},
   "outputs": [
    {
     "data": {
      "text/plain": [
       "11"
      ]
     },
     "execution_count": 12,
     "metadata": {},
     "output_type": "execute_result"
    }
   ],
   "source": [
    "len(df_Shrewsbury_CLAY['log_CLAY'].unique())"
   ]
  },
  {
   "cell_type": "code",
   "execution_count": 14,
   "id": "08a9bfb5-bbf3-42ed-9c9e-1c9d00f90cb0",
   "metadata": {},
   "outputs": [
    {
     "data": {
      "image/png": "[encoded data removed]",
      "text/plain": [
       "<Figure size 540x360 with 1 Axes>"
      ]
     },
     "metadata": {},
     "output_type": "display_data"
    }
   ],
   "source": [
    "# plotting histogram for log_CLAY\n",
    "sns.set_style('white')\n",
    "sns.set_context(\"paper\", font_scale = 2)\n",
    "ax=sns.displot(data=df_Shrewsbury_CLAY, x=\"log_CLAY\", kind=\"hist\", bins = 50, aspect = 1.5)\n",
    "ax.set(xlabel='Log(clay)(%)', ylabel='Count')\n",
    "plt.savefig(r'../../figures/Shrewsbury_log_Clay.png', dpi=300 ,bbox_inches='tight')"
   ]
  },
  {
   "cell_type": "code",
   "execution_count": 107,
   "id": "80699cdc-8326-4cfa-b682-6a73616446c4",
   "metadata": {},
   "outputs": [
    {
     "data": {
      "image/png": "[encoded data removed]",
      "text/plain": [
       "<Figure size 432x288 with 1 Axes>"
      ]
     },
     "metadata": {},
     "output_type": "display_data"
    }
   ],
   "source": [
    "unique= df_Shrewsbury_CLAY['log_CLAY'].unique()\n",
    "count=[]\n",
    "for i in unique:\n",
    "    df=df_Shrewsbury_CLAY.loc[df_Shrewsbury_CLAY.log_CLAY==i]\n",
    "    count.append(len(df.index))\n",
    "#print(count)\n",
    "myDictionary= {unique[0]: count[0], unique[1]: count[1], unique[2]: count[2], unique[3]: count[3], unique[4]: count[4], unique[5]: count[5], unique[6]: count[6], unique[7]: count[7], unique[8]: count[8], unique[9]: count[9], unique[10]: count[10]}\n",
    "#myDictionary\n",
    "plt.bar(list(myDictionary.keys()), myDictionary.values(), width=0.01 ,color='g')\n",
    "plt.show()"
   ]
  },
  {
   "cell_type": "code",
   "execution_count": 109,
   "id": "35903538-05f1-4aa4-b725-5e8b5116bb97",
   "metadata": {},
   "outputs": [
    {
     "data": {
      "text/plain": [
       "array([0.30103   , 0.84509804, 0.86332286, 0.60205999, 0.73239376,\n",
       "       0.90308999, 0.95424251, 0.97772361, 0.77815125, 0.66275783,\n",
       "       0.        ])"
      ]
     },
     "execution_count": 109,
     "metadata": {},
     "output_type": "execute_result"
    }
   ],
   "source": [
    "unique"
   ]
  },
  {
   "cell_type": "code",
   "execution_count": 111,
   "id": "5532c309-8c79-4fba-b1ec-6fb26b16e152",
   "metadata": {},
   "outputs": [],
   "source": [
    "unique.sort()"
   ]
  },
  {
   "cell_type": "code",
   "execution_count": 112,
   "id": "4ecc0e2c-78c3-466f-aa64-7f408d3fba12",
   "metadata": {},
   "outputs": [
    {
     "data": {
      "text/plain": [
       "array([0.        , 0.30103   , 0.60205999, 0.66275783, 0.73239376,\n",
       "       0.77815125, 0.84509804, 0.86332286, 0.90308999, 0.95424251,\n",
       "       0.97772361])"
      ]
     },
     "execution_count": 112,
     "metadata": {},
     "output_type": "execute_result"
    }
   ],
   "source": [
    "unique"
   ]
  },
  {
   "cell_type": "code",
   "execution_count": 114,
   "id": "ed9ca205-2952-47f4-96d6-ef1747193188",
   "metadata": {},
   "outputs": [
    {
     "data": {
      "text/plain": [
       "{0.0: 0.00044049335255486147,\n",
       " 0.3010299956639812: 0.16490469325644722,\n",
       " 0.6020599913279624: 0.020222649367291366,\n",
       " 0.6627578316815741: 0.0002402691013935608,\n",
       " 0.7323937598229685: 0.06671472048694538,\n",
       " 0.7781512503836436: 0.007848790645522985,\n",
       " 0.8450980400142568: 0.39696460035239467,\n",
       " 0.8633228601204559: 0.22817555662341824,\n",
       " 0.9030899869919435: 0.04008489508249239,\n",
       " 0.9542425094393249: 0.07144001281435207,\n",
       " 0.9777236052888477: 0.0029633189171872497}"
      ]
     },
     "execution_count": 114,
     "metadata": {},
     "output_type": "execute_result"
    }
   ],
   "source": [
    "# generating probabilities for all 11 possible options of log_CLAY\n",
    "multinomial_dic = {}\n",
    "for i in unique:\n",
    "    A=df_Shrewsbury_CLAY[df_Shrewsbury_CLAY.log_CLAY == i].shape[0]/len(df_Shrewsbury_CLAY.index)\n",
    "    multinomial_dic[i] = A\n",
    "multinomial_dic"
   ]
  },
  {
   "cell_type": "code",
   "execution_count": 124,
   "id": "3d320fd7-6e5f-4f08-8800-e1a95dd605b3",
   "metadata": {},
   "outputs": [
    {
     "data": {
      "text/plain": [
       "1.0"
      ]
     },
     "execution_count": 124,
     "metadata": {},
     "output_type": "execute_result"
    }
   ],
   "source": [
    "sum(multinomial_dic.values())"
   ]
  },
  {
   "cell_type": "code",
   "execution_count": 127,
   "id": "a0006908-66b0-48d8-80ca-0e8d1bfb1787",
   "metadata": {},
   "outputs": [
    {
     "data": {
      "text/plain": [
       "{0.0: 0.0004,\n",
       " 0.3010299956639812: 0.1649,\n",
       " 0.6020599913279624: 0.0202,\n",
       " 0.6627578316815741: 0.0002,\n",
       " 0.7323937598229685: 0.0667,\n",
       " 0.7781512503836436: 0.0078,\n",
       " 0.8450980400142568: 0.397,\n",
       " 0.8633228601204559: 0.2282,\n",
       " 0.9030899869919435: 0.0401,\n",
       " 0.9542425094393249: 0.0714,\n",
       " 0.9777236052888477: 0.003}"
      ]
     },
     "execution_count": 127,
     "metadata": {},
     "output_type": "execute_result"
    }
   ],
   "source": [
    "multinomial_dic\n",
    "k=3\n",
    "res = {key : round(multinomial_dic[key], 4) for key in multinomial_dic}\n",
    "res"
   ]
  },
  {
   "cell_type": "code",
   "execution_count": null,
   "id": "d301b8b5-670c-477f-a780-6419ab28135d",
   "metadata": {},
   "outputs": [],
   "source": [
    "values = a_dict. values() Return values of a dictionary.\n",
    "total = sum(values) Compute sum of the values.\n",
    "print(total)"
   ]
  },
  {
   "cell_type": "code",
   "execution_count": 36,
   "id": "7671f6e3-01b4-4a00-aff1-725d310d39e4",
   "metadata": {},
   "outputs": [
    {
     "name": "stderr",
     "output_type": "stream",
     "text": [
      "WARNING:root:SKIPPED beta distribution (taking more than 30 seconds)\n",
      "WARNING:root:SKIPPED burr distribution (taking more than 30 seconds)\n",
      "WARNING:root:SKIPPED gamma distribution (taking more than 30 seconds)\n",
      "WARNING:root:SKIPPED lognorm distribution (taking more than 30 seconds)\n",
      "WARNING:fitter.fitter:beta was not fitted. no parameters available\n",
      "WARNING:fitter.fitter:burr was not fitted. no parameters available\n",
      "WARNING:fitter.fitter:gamma was not fitted. no parameters available\n",
      "WARNING:fitter.fitter:lognorm was not fitted. no parameters available\n"
     ]
    },
    {
     "data": {
      "text/html": [
       "<div>\n",
       "<style scoped>\n",
       "    .dataframe tbody tr th:only-of-type {\n",
       "        vertical-align: middle;\n",
       "    }\n",
       "\n",
       "    .dataframe tbody tr th {\n",
       "        vertical-align: top;\n",
       "    }\n",
       "\n",
       "    .dataframe thead th {\n",
       "        text-align: right;\n",
       "    }\n",
       "</style>\n",
       "<table border=\"1\" class=\"dataframe\">\n",
       "  <thead>\n",
       "    <tr style=\"text-align: right;\">\n",
       "      <th></th>\n",
       "      <th>sumsquare_error</th>\n",
       "      <th>aic</th>\n",
       "      <th>bic</th>\n",
       "      <th>kl_div</th>\n",
       "    </tr>\n",
       "  </thead>\n",
       "  <tbody>\n",
       "    <tr>\n",
       "      <th>norm</th>\n",
       "      <td>2437.467313</td>\n",
       "      <td>216.692026</td>\n",
       "      <td>-5.808449e+04</td>\n",
       "      <td>inf</td>\n",
       "    </tr>\n",
       "    <tr>\n",
       "      <th>beta</th>\n",
       "      <td>inf</td>\n",
       "      <td>inf</td>\n",
       "      <td>inf</td>\n",
       "      <td>inf</td>\n",
       "    </tr>\n",
       "    <tr>\n",
       "      <th>burr</th>\n",
       "      <td>inf</td>\n",
       "      <td>inf</td>\n",
       "      <td>inf</td>\n",
       "      <td>inf</td>\n",
       "    </tr>\n",
       "    <tr>\n",
       "      <th>gamma</th>\n",
       "      <td>inf</td>\n",
       "      <td>inf</td>\n",
       "      <td>inf</td>\n",
       "      <td>inf</td>\n",
       "    </tr>\n",
       "    <tr>\n",
       "      <th>lognorm</th>\n",
       "      <td>inf</td>\n",
       "      <td>inf</td>\n",
       "      <td>inf</td>\n",
       "      <td>inf</td>\n",
       "    </tr>\n",
       "  </tbody>\n",
       "</table>\n",
       "</div>"
      ],
      "text/plain": [
       "         sumsquare_error         aic           bic  kl_div\n",
       "norm         2437.467313  216.692026 -5.808449e+04     inf\n",
       "beta                 inf         inf           inf     inf\n",
       "burr                 inf         inf           inf     inf\n",
       "gamma                inf         inf           inf     inf\n",
       "lognorm              inf         inf           inf     inf"
      ]
     },
     "execution_count": 36,
     "metadata": {},
     "output_type": "execute_result"
    },
    {
     "data": {
      "image/png": "[encoded data removed]",
      "text/plain": [
       "<Figure size 432x288 with 1 Axes>"
      ]
     },
     "metadata": {},
     "output_type": "display_data"
    }
   ],
   "source": [
    "CLAY=df_Shrewsbury_CLAY['log_CLAY'].values\n",
    "f = Fitter(CLAY,\n",
    "           distributions=['gamma',\n",
    "                          'lognorm',\n",
    "                          \"beta\",\n",
    "                          \"burr\",\n",
    "                          \"norm\"])\n",
    "f.fit()\n",
    "f.summary()"
   ]
  },
  {
   "cell_type": "code",
   "execution_count": 37,
   "id": "1e345188-a40b-463d-92d1-bdcf3d230c3d",
   "metadata": {},
   "outputs": [
    {
     "data": {
      "text/html": [
       "<div>\n",
       "<style scoped>\n",
       "    .dataframe tbody tr th:only-of-type {\n",
       "        vertical-align: middle;\n",
       "    }\n",
       "\n",
       "    .dataframe tbody tr th {\n",
       "        vertical-align: top;\n",
       "    }\n",
       "\n",
       "    .dataframe thead th {\n",
       "        text-align: right;\n",
       "    }\n",
       "</style>\n",
       "<table border=\"1\" class=\"dataframe\">\n",
       "  <thead>\n",
       "    <tr style=\"text-align: right;\">\n",
       "      <th></th>\n",
       "      <th>sumsquare_error</th>\n",
       "      <th>aic</th>\n",
       "      <th>bic</th>\n",
       "      <th>kl_div</th>\n",
       "    </tr>\n",
       "  </thead>\n",
       "  <tbody>\n",
       "    <tr>\n",
       "      <th>norm</th>\n",
       "      <td>2437.467313</td>\n",
       "      <td>216.692026</td>\n",
       "      <td>-58084.490789</td>\n",
       "      <td>inf</td>\n",
       "    </tr>\n",
       "  </tbody>\n",
       "</table>\n",
       "</div>"
      ],
      "text/plain": [
       "      sumsquare_error         aic           bic  kl_div\n",
       "norm      2437.467313  216.692026 -58084.490789     inf"
      ]
     },
     "execution_count": 37,
     "metadata": {},
     "output_type": "execute_result"
    },
    {
     "data": {
      "image/png": "[encoded data removed]",
      "text/plain": [
       "<Figure size 432x288 with 1 Axes>"
      ]
     },
     "metadata": {},
     "output_type": "display_data"
    }
   ],
   "source": [
    "CLAY=df_Shrewsbury_CLAY['log_CLAY'].values\n",
    "f = Fitter(CLAY,\n",
    "           distributions=[\"norm\"])\n",
    "f.fit()\n",
    "f.summary()"
   ]
  },
  {
   "cell_type": "code",
   "execution_count": 15,
   "id": "ba5cb14d-3ca3-481c-a503-38031686a9d2",
   "metadata": {},
   "outputs": [],
   "source": [
    "#CLAY=df_Shrewsbury_CLAY['log_CLAY'].values\n",
    "#f = Fitter(CLAY)\n",
    "#f.fit()\n",
    "#f.summary()"
   ]
  },
  {
   "cell_type": "code",
   "execution_count": null,
   "id": "91d17e27-5c3e-4d64-a68d-111ca7acd175",
   "metadata": {},
   "outputs": [],
   "source": [
    "log_CLAY=df_Shrewsbury_CLAY['log_CLAY'].values\n",
    "f = Fitter(log_CLAY,\n",
    "           distributions=['cauchy',\n",
    "                          'chi2',\n",
    "                          'expon',\n",
    "                          'exponpow',\n",
    "                          'gamma',\n",
    "                          'lognorm',\n",
    "                          'norm',\n",
    "                          'powerlaw',\n",
    "                          'rayleigh',\n",
    "                          'uniform',\n",
    "                          'logistic'])\n",
    "f.fit()\n",
    "f.summary()"
   ]
  },
  {
   "cell_type": "code",
   "execution_count": 26,
   "id": "9e5b4ca5-169c-483a-a8cc-ce56a71ee895",
   "metadata": {},
   "outputs": [],
   "source": [
    "# We can see that the burr distribution is the best fit based on the sumsquare_error criteria."
   ]
  },
  {
   "cell_type": "code",
   "execution_count": 27,
   "id": "98df66c0-e10c-4b1a-ac09-d3579c902ed2",
   "metadata": {},
   "outputs": [
    {
     "data": {
      "text/plain": [
       "{'norm': {'loc': 0.7566765898579608, 'scale': 0.21097045056949185}}"
      ]
     },
     "execution_count": 27,
     "metadata": {},
     "output_type": "execute_result"
    }
   ],
   "source": [
    "f.get_best(method = 'sumsquare_error')"
   ]
  },
  {
   "cell_type": "code",
   "execution_count": 38,
   "id": "950cdd01-4b7a-41f4-abb3-baef7c2338c3",
   "metadata": {},
   "outputs": [
    {
     "data": {
      "text/plain": [
       "(0.7566765898579608, 0.21097045056949185)"
      ]
     },
     "execution_count": 38,
     "metadata": {},
     "output_type": "execute_result"
    }
   ],
   "source": [
    "f.fitted_param['norm']"
   ]
  },
  {
   "cell_type": "code",
   "execution_count": 30,
   "id": "49808fa1-e422-4a72-b6e3-9f22088d355e",
   "metadata": {},
   "outputs": [
    {
     "name": "stderr",
     "output_type": "stream",
     "text": [
      "WARNING:root:SKIPPED gamma distribution (taking more than 30 seconds)\n",
      "WARNING:root:SKIPPED lognorm distribution (taking more than 30 seconds)\n",
      "WARNING:root:SKIPPED burr distribution (taking more than 30 seconds)\n",
      "WARNING:root:SKIPPED beta distribution (taking more than 30 seconds)\n",
      "WARNING:fitter.fitter:gamma was not fitted. no parameters available\n",
      "WARNING:fitter.fitter:lognorm was not fitted. no parameters available\n",
      "WARNING:fitter.fitter:burr was not fitted. no parameters available\n",
      "WARNING:fitter.fitter:beta was not fitted. no parameters available\n"
     ]
    },
    {
     "data": {
      "text/html": [
       "<div>\n",
       "<style scoped>\n",
       "    .dataframe tbody tr th:only-of-type {\n",
       "        vertical-align: middle;\n",
       "    }\n",
       "\n",
       "    .dataframe tbody tr th {\n",
       "        vertical-align: top;\n",
       "    }\n",
       "\n",
       "    .dataframe thead th {\n",
       "        text-align: right;\n",
       "    }\n",
       "</style>\n",
       "<table border=\"1\" class=\"dataframe\">\n",
       "  <thead>\n",
       "    <tr style=\"text-align: right;\">\n",
       "      <th></th>\n",
       "      <th>sumsquare_error</th>\n",
       "      <th>aic</th>\n",
       "      <th>bic</th>\n",
       "      <th>kl_div</th>\n",
       "    </tr>\n",
       "  </thead>\n",
       "  <tbody>\n",
       "    <tr>\n",
       "      <th>norm</th>\n",
       "      <td>2437.467313</td>\n",
       "      <td>216.692026</td>\n",
       "      <td>-5.808449e+04</td>\n",
       "      <td>inf</td>\n",
       "    </tr>\n",
       "    <tr>\n",
       "      <th>gamma</th>\n",
       "      <td>inf</td>\n",
       "      <td>inf</td>\n",
       "      <td>inf</td>\n",
       "      <td>inf</td>\n",
       "    </tr>\n",
       "    <tr>\n",
       "      <th>lognorm</th>\n",
       "      <td>inf</td>\n",
       "      <td>inf</td>\n",
       "      <td>inf</td>\n",
       "      <td>inf</td>\n",
       "    </tr>\n",
       "    <tr>\n",
       "      <th>burr</th>\n",
       "      <td>inf</td>\n",
       "      <td>inf</td>\n",
       "      <td>inf</td>\n",
       "      <td>inf</td>\n",
       "    </tr>\n",
       "    <tr>\n",
       "      <th>beta</th>\n",
       "      <td>inf</td>\n",
       "      <td>inf</td>\n",
       "      <td>inf</td>\n",
       "      <td>inf</td>\n",
       "    </tr>\n",
       "  </tbody>\n",
       "</table>\n",
       "</div>"
      ],
      "text/plain": [
       "         sumsquare_error         aic           bic  kl_div\n",
       "norm         2437.467313  216.692026 -5.808449e+04     inf\n",
       "gamma                inf         inf           inf     inf\n",
       "lognorm              inf         inf           inf     inf\n",
       "burr                 inf         inf           inf     inf\n",
       "beta                 inf         inf           inf     inf"
      ]
     },
     "execution_count": 30,
     "metadata": {},
     "output_type": "execute_result"
    },
    {
     "data": {
      "image/png": "[encoded data removed]",
      "text/plain": [
       "<Figure size 432x288 with 1 Axes>"
      ]
     },
     "metadata": {},
     "output_type": "display_data"
    }
   ],
   "source": [
    "f = Fitter(log_CLAY,\n",
    "           distributions=['gamma',\n",
    "                          'lognorm',\n",
    "                          \"beta\",\n",
    "                          \"burr\",\n",
    "                          \"norm\"])\n",
    "f.fit()\n",
    "f.summary()"
   ]
  },
  {
   "cell_type": "code",
   "execution_count": null,
   "id": "b0b4e6b9-2936-43e4-9981-e89930db3082",
   "metadata": {},
   "outputs": [],
   "source": []
  }
 ],
 "metadata": {
  "kernelspec": {
   "display_name": "Python 3 (ipykernel)",
   "language": "python",
   "name": "python3"
  },
  "language_info": {
   "codemirror_mode": {
    "name": "ipython",
    "version": 3
   },
   "file_extension": ".py",
   "mimetype": "text/x-python",
   "name": "python",
   "nbconvert_exporter": "python",
   "pygments_lexer": "ipython3",
   "version": "3.8.8"
  }
 },
 "nbformat": 4,
 "nbformat_minor": 5
}
