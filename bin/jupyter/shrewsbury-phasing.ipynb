{
 "cells": [
  {
   "cell_type": "code",
   "execution_count": 18,
   "id": "7cf4ef40",
   "metadata": {},
   "outputs": [],
   "source": [
    "import numpy as np\n",
    "import pandas as pd\n",
    "import seaborn as sns\n",
    "from fitter import Fitter, get_common_distributions, get_distributions\n",
    "import math\n",
    "import matplotlib.pyplot as plt  "
   ]
  },
  {
   "cell_type": "code",
   "execution_count": 19,
   "id": "091cb588-5aa1-4785-9e42-aadd35c4e8f8",
   "metadata": {},
   "outputs": [],
   "source": [
    "with open(r'../../data/raw/Shrewsbury_network.csv') as Shrewsbury_phasing:\n",
    "    df_Shrewsbury_phasing=pd.read_csv(Shrewsbury_phasing)"
   ]
  },
  {
   "cell_type": "code",
   "execution_count": 25,
   "id": "90269ed5-1610-4678-94df-85ab390d45f4",
   "metadata": {},
   "outputs": [
    {
     "name": "stdout",
     "output_type": "stream",
     "text": [
      "3226\n"
     ]
    }
   ],
   "source": [
    "print (df_Shrewsbury_phasing[df_Shrewsbury_phasing.phasedesig == 1].shape[0])"
   ]
  },
  {
   "cell_type": "code",
   "execution_count": 26,
   "id": "0b0580ce-394a-4d52-97f8-bacfb525e8ce",
   "metadata": {},
   "outputs": [
    {
     "name": "stdout",
     "output_type": "stream",
     "text": [
      "2120\n"
     ]
    }
   ],
   "source": [
    "print (df_Shrewsbury_phasing[df_Shrewsbury_phasing.phasedesig == 3].shape[0])"
   ]
  },
  {
   "cell_type": "code",
   "execution_count": 7,
   "id": "10ff3883",
   "metadata": {},
   "outputs": [
    {
     "data": {
      "text/plain": [
       "<seaborn.axisgrid.FacetGrid at 0x1c19969fac0>"
      ]
     },
     "execution_count": 7,
     "metadata": {},
     "output_type": "execute_result"
    },
    {
     "data": {
      "image/png": "[encoded data removed]",
      "text/plain": [
       "<Figure size 540x360 with 1 Axes>"
      ]
     },
     "metadata": {},
     "output_type": "display_data"
    }
   ],
   "source": [
    "# plotting histogram for phasing\n",
    "sns.set_style('white')\n",
    "sns.set_context(\"paper\", font_scale = 2)\n",
    "sns.displot(data=df_Shrewsbury_phasing, x=\"phasedesig\", kind=\"hist\", bins = 10, aspect = 1.5)"
   ]
  },
  {
   "cell_type": "code",
   "execution_count": 28,
   "id": "49808fa1-e422-4a72-b6e3-9f22088d355e",
   "metadata": {},
   "outputs": [
    {
     "data": {
      "text/plain": [
       "0.6034418256640479"
      ]
     },
     "execution_count": 28,
     "metadata": {},
     "output_type": "execute_result"
    }
   ],
   "source": [
    "#proportion of single phase electricity in shrewsbury\n",
    "single_phase_proportion=df_Shrewsbury_phasing[df_Shrewsbury_phasing.phasedesig == 1].shape[0]/(df_Shrewsbury_phasing[df_Shrewsbury_phasing.phasedesig == 1].shape[0]+df_Shrewsbury_phasing[df_Shrewsbury_phasing.phasedesig == 3].shape[0])\n",
    "single_phase_proportion"
   ]
  },
  {
   "cell_type": "code",
   "execution_count": 29,
   "id": "69b42fc0-d20d-4d15-9982-aeff3c3c8303",
   "metadata": {},
   "outputs": [
    {
     "data": {
      "text/plain": [
       "0.39655817433595214"
      ]
     },
     "execution_count": 29,
     "metadata": {},
     "output_type": "execute_result"
    }
   ],
   "source": [
    "#proportion of three phase electricity in shrewsbury\n",
    "three_phase_proportion=df_Shrewsbury_phasing[df_Shrewsbury_phasing.phasedesig == 3].shape[0]/(df_Shrewsbury_phasing[df_Shrewsbury_phasing.phasedesig == 1].shape[0]+df_Shrewsbury_phasing[df_Shrewsbury_phasing.phasedesig == 3].shape[0])\n",
    "three_phase_proportion"
   ]
  },
  {
   "cell_type": "code",
   "execution_count": null,
   "id": "eaa9a13c-35b4-4263-b3ab-576b2c375ab8",
   "metadata": {},
   "outputs": [],
   "source": [
    "# we have 60% single phase and 40% three phase electric lines based on Shrewsbury network."
   ]
  }
 ],
 "metadata": {
  "kernelspec": {
   "display_name": "Python 3 (ipykernel)",
   "language": "python",
   "name": "python3"
  },
  "language_info": {
   "codemirror_mode": {
    "name": "ipython",
    "version": 3
   },
   "file_extension": ".py",
   "mimetype": "text/x-python",
   "name": "python",
   "nbconvert_exporter": "python",
   "pygments_lexer": "ipython3",
   "version": "3.10.2"
  }
 },
 "nbformat": 4,
 "nbformat_minor": 5
}
