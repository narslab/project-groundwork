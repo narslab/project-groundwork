{
 "cells": [
  {
   "cell_type": "code",
   "execution_count": 4,
   "id": "071c7dd8-ea7c-4048-bec8-ea0db2fb338a",
   "metadata": {},
   "outputs": [],
   "source": [
    "import numpy as np\n",
    "import pandas as pd\n",
    "import seaborn as sns\n",
    "from fitter import Fitter, get_common_distributions, get_distributions\n",
    "import math\n",
    "import matplotlib.pyplot as plt\n",
    "from scipy import stats"
   ]
  },
  {
   "cell_type": "code",
   "execution_count": 5,
   "id": "33547ddf-f293-419e-83f1-e96f694e9ca7",
   "metadata": {},
   "outputs": [],
   "source": [
    "import geopandas as gpd\n",
    "df = gpd.read_file(r'../../data/raw/Network data - CONFIDENTIAL/Added_length3_mile/Selco_electric_network_added_length3_mile.shp')"
   ]
  },
  {
   "cell_type": "code",
   "execution_count": 6,
   "id": "d2c4d19a-fcfa-44eb-beec-58ad3489aef6",
   "metadata": {},
   "outputs": [
    {
     "data": {
      "text/plain": [
       "Index(['gid', 'phasedesig', 'servicetyp', 'subtype', 'length', 'length 2',\n",
       "       'length3', 'geometry'],\n",
       "      dtype='object')"
      ]
     },
     "execution_count": 6,
     "metadata": {},
     "output_type": "execute_result"
    }
   ],
   "source": [
    "df.columns"
   ]
  },
  {
   "cell_type": "code",
   "execution_count": 7,
   "id": "f4484441-aa5a-47c4-967d-26bcd88a9218",
   "metadata": {},
   "outputs": [],
   "source": [
    "df.to_csv(r'../../data/tidy/Shrewsbury_network_selco_added_length.csv', index = False)"
   ]
  },
  {
   "cell_type": "code",
   "execution_count": null,
   "id": "a8768b69-5e9e-46e3-8f8f-37e9696754d1",
   "metadata": {},
   "outputs": [],
   "source": []
  }
 ],
 "metadata": {
  "kernelspec": {
   "display_name": "Python 3 (ipykernel)",
   "language": "python",
   "name": "python3"
  },
  "language_info": {
   "codemirror_mode": {
    "name": "ipython",
    "version": 3
   },
   "file_extension": ".py",
   "mimetype": "text/x-python",
   "name": "python",
   "nbconvert_exporter": "python",
   "pygments_lexer": "ipython3",
   "version": "3.8.8"
  }
 },
 "nbformat": 4,
 "nbformat_minor": 5
}
