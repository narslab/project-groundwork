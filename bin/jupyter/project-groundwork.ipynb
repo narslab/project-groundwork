{
 "cells": [
  {
   "cell_type": "code",
   "execution_count": 136,
   "id": "89061653",
   "metadata": {},
   "outputs": [],
   "source": [
    "import numpy as np\n",
    "import matplotlib.pyplot as plt\n",
    "import math"
   ]
  },
  {
   "cell_type": "code",
   "execution_count": 137,
   "id": "52455ebd",
   "metadata": {},
   "outputs": [],
   "source": [
    "#Model Variables and Parameters\n",
    "x=[1,2]\n",
    "# X= Type of Line. x=1 for underground distribution lines and x=2 for overhead distribution lines\n",
    "age_average_x=20\n",
    "# Current average ages in year for underground and overhead distribution lines (in years)\n",
    "length_average_x=25\n",
    "# Circuit length in mile for underground and overhead transission and distribution lines\n",
    "i= 13\n",
    "# Numbers showing different circuit in network (Shrewsbury has 191.5 miles overhead, 121.7 miles underground line and eaach circuit is about 25 miles)\n"
   ]
  },
  {
   "cell_type": "code",
   "execution_count": 138,
   "id": "fd0a86ea",
   "metadata": {},
   "outputs": [
    {
     "name": "stdout",
     "output_type": "stream",
     "text": [
      "0.2\n"
     ]
    }
   ],
   "source": [
    "shape_age_x=age_average_x/(age_average_x/2)**2\n",
    "#Shape of Gamma distribution required for simulating liene circuits ages\n",
    "print(shape_age_x)"
   ]
  },
  {
   "cell_type": "code",
   "execution_count": 139,
   "id": "91f1c68b",
   "metadata": {},
   "outputs": [
    {
     "name": "stdout",
     "output_type": "stream",
     "text": [
      "5.0\n"
     ]
    }
   ],
   "source": [
    "scale_age_x=(age_average_x/2)**2/age_average_x\n",
    "#scale of Gamma distribution required for simulating line circuits ages\n",
    "print(scale_age_x)"
   ]
  },
  {
   "cell_type": "code",
   "execution_count": 140,
   "id": "e41f2abe",
   "metadata": {},
   "outputs": [
    {
     "data": {
      "image/png": "[encoded data removed]",
      "text/plain": [
       "<Figure size 432x288 with 1 Axes>"
      ]
     },
     "metadata": {
      "needs_background": "light"
     },
     "output_type": "display_data"
    }
   ],
   "source": [
    "random_ages=np.random.gamma(shape_age_x,scale_age_x,i)\n",
    "plt.hist(np.random.gamma(shape_age_x,scale_age_x,i),alpha=0.5)\n",
    "plt.show()\n",
    "#Randomly determined circuit's ages in the base year (2021)\n",
    "### I guess these numbers are not correct because I do not expect to see such circuit's ages from a gamma distribution with an average age 20."
   ]
  },
  {
   "cell_type": "code",
   "execution_count": 141,
   "id": "dd977ae2",
   "metadata": {},
   "outputs": [
    {
     "name": "stdout",
     "output_type": "stream",
     "text": [
      "[3.79595183e-02 5.16004409e-03 1.93680596e-02 5.77658456e+00\n",
      " 1.87503536e+00 2.45841950e-01 1.12035138e-02 1.98647386e+00\n",
      " 8.89842109e+00 6.37212742e-05 1.45646682e-01 4.44001352e-01\n",
      " 7.60647721e-04]\n"
     ]
    }
   ],
   "source": [
    "i=random_ages.copy()\n",
    "print (i)"
   ]
  },
  {
   "cell_type": "code",
   "execution_count": 120,
   "id": "9cc1d059",
   "metadata": {},
   "outputs": [
    {
     "name": "stdout",
     "output_type": "stream",
     "text": [
      "0.40066648338511135\n",
      "0.054224312012341624\n",
      "0.0026996695293588385\n",
      "4.944617221865544e-05\n",
      "3.331656877169526e-07\n",
      "8.258351736189405e-10\n",
      "7.530642013436946e-13\n",
      "2.5262489596206213e-16\n",
      "3.117638891809589e-20\n",
      "1.4154058671294646e-24\n",
      "2.3639685289554522e-29\n",
      "1.4524724638487204e-34\n",
      "3.283066222867489e-40\n",
      "2.729963851033192e-46\n"
     ]
    }
   ],
   "source": [
    "#age_2021_i=(scale_age_x)*(1/math.gamma(shape_age_x))*(1**((shape_age_x)-1))\n",
    "#for z in range (1,15):\n",
    "    #age_2021_i=(age_2021_i)*(math.exp(-z))\n",
    "    #print (age_2021_i)\n",
    "#Randomly determined circuit's ages in the base year (2021)\n",
    "### I thought above numbers are not correct so I exactly write the paper's equation (which is Gamma distribution formula) but again the produced numbers are not what I expected."
   ]
  },
  {
   "cell_type": "code",
   "execution_count": null,
   "id": "e7fe2366",
   "metadata": {},
   "outputs": [],
   "source": []
  },
  {
   "cell_type": "code",
   "execution_count": 37,
   "id": "6d901ab7",
   "metadata": {},
   "outputs": [],
   "source": [
    "class Circuit:\n",
    "    def __init__(self, length, age):\n",
    "        self.length=length\n",
    "        self.age=age\n",
    "    \n",
    "circuit_1=Circuit(25,20)\n",
    "circuit_2=Circuit(24,21)\n",
    "circuit_3=Circuit(22,22)\n",
    "circuit_4=Circuit(18,18)\n",
    "circuit_5=Circuit(25,30)\n",
    "circuit_6=Circuit(36,19)\n",
    "circuit_7=Circuit(31,29)\n",
    "circuit_8=Circuit(29,27)\n",
    "circuit_9=Circuit(25,24)\n",
    "circuit_10=Circuit(27,26)"
   ]
  },
  {
   "cell_type": "code",
   "execution_count": null,
   "id": "a9805492",
   "metadata": {},
   "outputs": [],
   "source": []
  }
 ],
 "metadata": {
  "kernelspec": {
   "display_name": "Python 3",
   "language": "python",
   "name": "python3"
  },
  "language_info": {
   "codemirror_mode": {
    "name": "ipython",
    "version": 3
   },
   "file_extension": ".py",
   "mimetype": "text/x-python",
   "name": "python",
   "nbconvert_exporter": "python",
   "pygments_lexer": "ipython3",
   "version": "3.8.8"
  }
 },
 "nbformat": 4,
 "nbformat_minor": 5
}
