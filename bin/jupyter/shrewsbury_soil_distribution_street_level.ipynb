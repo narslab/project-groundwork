{
 "cells": [
  {
   "cell_type": "code",
   "execution_count": 74,
   "id": "7cf4ef40",
   "metadata": {},
   "outputs": [],
   "source": [
    "import numpy as np\n",
    "import pandas as pd\n",
    "import seaborn as sns\n",
    "from fitter import Fitter, get_common_distributions, get_distributions\n",
    "import math\n",
    "import matplotlib.pyplot as plt\n",
    "from scipy import stats"
   ]
  },
  {
   "cell_type": "code",
   "execution_count": 75,
   "id": "3acabc75-b500-4704-b043-0edce6e2336b",
   "metadata": {},
   "outputs": [],
   "source": [
    "#import geopandas as gpd\n",
    "#df_osm = gpd.read_file(r'../../data/raw/Shrewsbury/edges.shp')"
   ]
  },
  {
   "cell_type": "code",
   "execution_count": 76,
   "id": "091cb588-5aa1-4785-9e42-aadd35c4e8f8",
   "metadata": {},
   "outputs": [
    {
     "name": "stderr",
     "output_type": "stream",
     "text": [
      "C:\\Users\\Mahsa\\Anaconda3\\envs\\oxe\\lib\\site-packages\\IPython\\core\\interactiveshell.py:3457: DtypeWarning: Columns (24,32,34) have mixed types.Specify dtype option on import or set low_memory=False.\n",
      "  exec(code_obj, self.user_global_ns, self.user_ns)\n"
     ]
    }
   ],
   "source": [
    "with open(r'../../data/tidy/Shrewsbury_join_tidy_CLAY.csv') as Shrewsbury_clay:\n",
    "    df_Shrewsbury_clay=pd.read_csv(Shrewsbury_clay)"
   ]
  },
  {
   "cell_type": "code",
   "execution_count": 47,
   "id": "37cd457c-842e-4c1e-8ed7-3a21eb8beffc",
   "metadata": {},
   "outputs": [
    {
     "data": {
      "text/plain": [
       "array(['ABBY LN', 'ACORN ST', 'ADAMS FARM RD', 'ADAMS RD', 'ADIN DR',\n",
       "       'AFRA DR', 'ALDEN AVE', 'ALICE AVE', 'ALMONDWOOD CIR',\n",
       "       'ALTHEA PATH', 'AMBERLY LN', 'AMHERST RD', 'ANGELA AVE',\n",
       "       'ANGLIN LN', 'APPALOOSA DR', 'APPLE SEED DR', 'APPLEWOOD CIR',\n",
       "       'ARBOR CIR', 'ARBOR DR', 'ARCH ST', 'ARCTURUS DR', 'ARGILA LN',\n",
       "       'ARNOLD RD', 'ARROWWOOD DR', 'ARTEMAS AVE', 'ASHLEY DR',\n",
       "       'ASHMONT ST', 'ASHTON DR', 'ASHWOOD CIR', 'ASPEN RD', 'ATWOOD LN',\n",
       "       'AUDUBON DR', 'AVALON WAY', 'AVON AVE', 'AVON DR', 'BAGLEY AVE',\n",
       "       'BAILEY RD', 'BAKER AVE', 'BALDWIN CIR', 'BALSAM CIR',\n",
       "       'BANNISTER ST', 'BARNARD ST', 'BARROWS RD', 'BAY RD',\n",
       "       'BAY VIEW DR', 'BAYBERRY CIR', 'BEACH ISLAND', 'BEACH RD',\n",
       "       'BEACON ST', 'BEAVER DR', 'BECKET ST', 'BELLINGHAM WAY',\n",
       "       'BELLRIDGE DR', 'BENJAMIN LN', 'BENTON ST', 'BERKSHIRE RD',\n",
       "       'BETHS RD', 'BEVERLY HILL DR', 'BEVERLY RD', 'BIRCH BRUSH RD',\n",
       "       'BIRCH LN', 'BIRCHWOOD DR', 'BITTERSWEET CIR', 'BLACKSTONE ST',\n",
       "       'BLACKTHORN RD', 'BLAKE ISLAND', 'BLOSSOM TREE DR', 'BLUEGRASS LN',\n",
       "       'BONNIE DELL LN', 'BOSTON DR', 'BOSTON HILL CIR', 'BOSTON TPKE',\n",
       "       'BOSWORTH RD', 'BOWDITCH DR', 'BOWDOIN ST', 'BOXFORD DR',\n",
       "       'BOYLSTON CIR', 'BOYLSTON ST', 'BRACKEN RD', 'BRENTWOOD DR',\n",
       "       'BRIDLE PATH', 'BRIDLE PATH (WORCESTER)', 'BRIGHTSIDE AVE',\n",
       "       'BROADWAY', 'BROOK ST', 'BROOKDALE CIR', 'BROOKLAWN PKWY',\n",
       "       'BROOKSIDE PL', 'BROOKWAY DR', 'BROUSHANE CIR', 'BROWNING RD',\n",
       "       'BRUCE AVE', 'BRYANT AVE', 'BUMBLE BEE CIR', 'BUMMET BROOK CIR',\n",
       "       'BUNKER HILL RD', 'CABOT DR', 'CAMELOT DR', 'CANAAN ST',\n",
       "       'CANDLEWOOD WAY', 'CANNA DR', 'CARLTON ST', 'CAROLINE AVE',\n",
       "       'CARRIAGE HILL RD', 'CARRIE CIR', 'CARTER RD', 'CASAVAN AVE',\n",
       "       'CASTLE RD', 'CATALINA DR', 'CEDAR RD', 'CENTECH BLVD',\n",
       "       'CENTENNIAL DR', 'CENTER CT', 'CHAMBERLAIN RD', 'CHARLES ST',\n",
       "       'CHARTWELL CIR', 'CHASE TER', 'CHECKERBERRY LN', 'CHERRY HILL RD',\n",
       "       'CHERRY ST', 'CHESTNUT ST', 'CHILDS ST', 'CHURCH RD',\n",
       "       'CHURCHILL RD', 'CIDER MILL DR', 'CLAREMONT CIR', 'CLARK WAY',\n",
       "       'CLEAR VIEW RD', 'CLEWS ST', 'CLINTON ST', 'CLOVER GLEN CIR',\n",
       "       'COACHMAN RIDGE RD', 'COBBLESTONE WAY', 'COLONIAL DR',\n",
       "       'COLONIAL WAY', 'COLTON LN', 'COMMERCE RD', 'COMMONS DR',\n",
       "       'COMMONWEALTH AVE', 'COMSTOCK DR', 'CONCORD RD', 'COOK ST',\n",
       "       'COOPER DR', 'CORTLAND GROVE DR', 'COTTAGE AVE', 'COTTONWOOD CIR',\n",
       "       'COUNTRY WAY', 'COX LN', 'CRANBROOK RD', 'CRESCENT PL',\n",
       "       'CRESCENT ST', 'CRIMSON DR', 'CROSBY ST', 'CROSS ST', 'CUTLER ST',\n",
       "       'CYPRESS AVE', 'DALPHEN RD', 'DALTON DR', 'DANA RD', 'DANIEL RD',\n",
       "       'DARREN DR', 'DARTMOOR DR', 'DAVID RD', 'DAVIS WAY', 'DAWSON CIR',\n",
       "       'DEAN DR', 'DEAN PKWY', 'DEER RUN DR', 'DEERFIELD RD',\n",
       "       'DEERGRASS RD', 'DEWEY RD', 'DICKINSON CIR', 'DORIANNA AVE',\n",
       "       'DORIANNA CIR', 'DOUGLAS CIR', 'DRAKE IS', 'DURHAM ST', 'EAGLE DR',\n",
       "       'EAGLEHEAD TER', 'EAST AVE', 'EAST LAKE RD', 'EASTERN POINT DR',\n",
       "       'EASTWOOD RD', 'EATON AVE', 'EATON PL', 'EDGEMERE BLVD',\n",
       "       'EDGEMONT RD', 'EDGEWATER AVE', 'EDGEWOOD RD', 'EGRET CIR',\n",
       "       'EK CT', 'ELAINE ST', 'ELDERBERRY CIR', 'ELIZABETH ST',\n",
       "       'ELLIOT CIR', 'ELM ST', 'ELMA CIR', 'EMERSON CIR', 'EMPIRE ST',\n",
       "       'ESSEX DR', 'ESTABROOK RD', 'EVERETT AVE', 'EVERGREEN ST',\n",
       "       'FAIRFAX ST', 'FAIRLAWN CIR', 'FAIRVIEW ST', 'FARMINGTON DR',\n",
       "       'FARVIEW AVE', 'FAULKNER RD', 'FERNCROFT RD', 'FIELDSTONE DR',\n",
       "       'FIFTH AVE', 'FIFTH AVE ROW', 'FISHER ST', 'FISKE ST', 'FLAGG RD',\n",
       "       'FLAMINGO CIR', 'FLANAGAN DR', 'FLINT MEADOW LN',\n",
       "       'FLINT POND FL`D', 'FLINTLOCK DR', 'FLORAL ST', 'FLORENCE ST',\n",
       "       'FOREST AVE', 'FOREST HILL DR', 'FORTUNE BLVD', 'FOUNDERS RD',\n",
       "       'FOX HILL RD', 'FRANCIS AVE', 'FRUIT ST', 'FYRBECK AVE', 'GAGE LN',\n",
       "       'GALAHAD RD', 'GALE AVE', 'GARFIELD AVE', 'GARLAND ST', 'GATES RD',\n",
       "       'GENERAL AVE', 'GEORGE ST', 'GIFFORD DR', 'GLEN GERY RD',\n",
       "       'GLEN TER', 'GLENDALE AVE', 'GODDARD RD', 'GOLD ST',\n",
       "       'GOLDEN HILL AVE', 'GRACE AVE', 'GRAFTON CIR', 'GRAFTON ST',\n",
       "       'GREEN ST', 'GREENBRIAR DR', 'GREENLEAF FARMS CIR',\n",
       "       'GREENWOOD AVE', 'GREYLOCK AVE', 'GRIST MILL CIR',\n",
       "       'GROVE MEADOW LN', 'GROVE RIDGE PATH', 'GROVE ST', 'GUINEVERE CIR',\n",
       "       'GULF ST', 'HAMILTON CIR', 'HAMPSHIRE DR', 'HANCOCK ST',\n",
       "       'HAPGOOD WAY', 'HARLOW RD', 'HAROLD LN', 'HARRIET AVE',\n",
       "       'HARRIET LN', 'HARRINGTON AVE', 'HARRINGTON FARMS WAY',\n",
       "       'HARRIS AVE', 'HARTFORD TPKE', 'HARVARD AVE', 'HARVEST RD',\n",
       "       'HASCALL ST', 'HAWKRIDGE RD', 'HAWTHORNE RD', 'HAYAT CIR',\n",
       "       'HAYDEN LN', 'HAZEL AVE', 'HEARTHSIDE CIR', 'HEATH RD',\n",
       "       'HEATHERWOOD DR', 'HEMINGWAY ST', 'HEMLOCK CIR', 'HERITAGE RD',\n",
       "       'HERONWOOD DR', 'HEYWOOD ST', 'HICKORY BEND RD', 'HICKORY DR',\n",
       "       'HIGGINS ST', 'HIGH ST', 'HIGHLAND HILL DR', 'HIGHLAND ST',\n",
       "       'HIGHRIDGE RD', 'HILL ST', 'HILLANDO DR', 'HILLCREST AVE',\n",
       "       'HILLSIDE DR', 'HILLSIDE LN', 'HOBBLEBUSH RD', 'HOLDEN ST',\n",
       "       'HOLLY LN', 'HOLMAN HEIGHTS CIR', 'HOLMAN ST', 'HOLT ST',\n",
       "       'HONEYSUCKLE LN', 'HORSENECK RD', 'HOWARD ST', 'HOWE AVE',\n",
       "       'HUNTER CIR', 'HUNTING AVE', 'HUNTINGTON RD', 'HUTCHINS ST',\n",
       "       'HYDE FARMS RD', 'HYLAIR DR', 'INDEPENDENCE LN', 'INDUSTRIAL DR',\n",
       "       'IRA AVE', 'IRETA RD', 'IRVING DR', 'IVY PATH', 'JACKSON ST',\n",
       "       'JACOBSON DR', 'JAMIE LN', 'JANE ST', 'JANET CIR', 'JEFFERSON DR',\n",
       "       'JENNEY ST', 'JILL CIR', 'JOB CUSHING RD', 'JOHN ST', 'JORDAN RD',\n",
       "       'JOSEPH RD', 'JOYCE CIR', 'JUDICK ST', 'JULIO DR',\n",
       "       'KALAMAT FARMS CIR', 'KAREN AVE', 'KEMBLE DR', 'KENDA CIR',\n",
       "       'KENDA RD', 'KENILWORTH RD', 'KEYES HOUSE RD', 'KING ARTHUR RD',\n",
       "       'KINGLET DR', 'KINGS BROOK AVE', 'KINGS POINT DR', 'KINGSTON ST',\n",
       "       'KIRK ST', 'KNEELAND ST', 'KNIGHTS RD', 'KNOLLWOOD DR',\n",
       "       'KNOWLTON AVE', 'LADYSLIPPER DR', 'LAHINCH LN', 'LAKE AVE WORC.',\n",
       "       'LAKE ST', 'LAKE VIEW AVE', 'LAKE WAY', 'LAKESIDE DR',\n",
       "       'LAKESIDE PATH', 'LAKEWOOD DR', 'LAMPLIGHTER DR', 'LANCELOT RD',\n",
       "       'LANTERN LN', 'LATURA ST', 'LAUREL AVE', 'LAUREL RIDGE LN',\n",
       "       'LAWRENCE ST', 'LEAR ST', 'LEBEAUX DR', 'LEBLANC RD', 'LENOX DR',\n",
       "       'LEONARD PKWY', 'LEXINGTON RD', 'LIBERTY DR', 'LIBERTY TREE LN',\n",
       "       'LILLIAN TER', 'LINCOLN WAY', 'LINDA CIR', 'LINWOOD DR',\n",
       "       'LONGFELLOW RD', 'LORING ST', 'LUPINE CIR', 'MADISON PL',\n",
       "       'MAIN BLVD', 'MAIN CIR', 'MAIN ST', 'MALLARD CIR', 'MANGS DR',\n",
       "       'MANOR RD', 'MAPLE AVE', 'MAPLE CIR', 'MAPLEHURST ST',\n",
       "       'MAPLEWOOD RD', 'MARIE ST', 'MARIETTA AVE', 'MARLBORO ST',\n",
       "       'MARS DR', 'MAURY LN', 'MAY ST', 'MAYFLOWER CIR', 'MEADOW HILL RD',\n",
       "       'MEADOW LN', 'MEADOWBROOK CIR', 'MEADOWSWEET RD', 'MEDIEVAL RD',\n",
       "       'MELODY LN', 'MELVIN AVE', 'MEMORIAL DR', 'MERCURY DR',\n",
       "       'MERLIN CIR', 'MERRIAM AVE', 'MERRITT AVE', 'MILES AVE',\n",
       "       'MILLER PL', 'MILLWOOD DR', 'MINOT AVE', 'MINUTEMAN WAY',\n",
       "       'MONADNOCK DR', 'MONROE ST', 'MORNINGSIDE DR', 'MORRILL AVE',\n",
       "       'MOULTON AVE', 'MOUNTAIN VIEW AVE', 'MUNICIPAL DR', 'MUZZY AVE',\n",
       "       'MYRIAH RD', 'N QUINSIGAMOND AVE', 'NAPLES ST', 'NELSON POINT RD',\n",
       "       'NEPTUNE DR', 'NEWTON ST', 'NIBLICK RD', 'NIGHTINGALE DR',\n",
       "       'NORCROSS PT', 'NORTH ST', 'NORTHLAND RD', 'NORTON WAY',\n",
       "       'NORWOOD AVE', 'NOTCH BROOK RD', 'OAK MEADOW CIR', 'OAK RIDGE WAY',\n",
       "       'OAK ST', 'OAK ST TER', 'OAKLAND AVE', 'ODONNELL AVE',\n",
       "       'OLD BARN RD', 'OLD BROOK CIR', 'OLD BROOK RD', 'OLD CART RD',\n",
       "       'OLD FAITH RD', 'OLD FARM CIR', 'OLD LAXFIELD RD', 'OLD MILL RD',\n",
       "       'OLD SALEM CIR', 'OLDE COLONY DR', 'OLIVE AVE', 'OLYMPIA AVE',\n",
       "       'ORCHARD MEADOW DR', 'ORCHARD RD', 'OREGON AVE', 'ORIOLE CIR',\n",
       "       'OVAL DR', 'OVERLOOK AVE', 'OXFORD DR', 'PAL DR', 'PARK GROVE LN',\n",
       "       'PARK ST', 'PARK ST PL', 'PARK ST W', 'PARK VIEW LN', 'PARKER RD',\n",
       "       'PARMENTER HILL RD', 'PARTRIDGE HILL RD', 'PATON RD', 'PATRIOT LN',\n",
       "       'PAYTON PL', 'PEARL ST', 'PENINSULA DR', 'PHEASANT HILL DR',\n",
       "       'PHILLIPS AVE', 'PHILLIPS CT', 'PINE AVE', 'PINEDALE RD',\n",
       "       'PINELAND AVE', 'PLAINFIELD AVE', 'PLEASANT ST',\n",
       "       'PLEASANT VIEW ST', 'POINT RD', 'POND AVE', 'POND ST',\n",
       "       'POND VIEW DR', 'POWER AVE', 'PRATT LN', 'PROSPECT ST',\n",
       "       'PROVIDENCE AVE', 'PTARMIGAN DR', 'PURINTON ST', 'QUAIL HOLLOW DR',\n",
       "       'RAMS GATE PL', 'RAVINE ST', 'RAWSON HILL DR', 'RAWSON PL',\n",
       "       'RAYMOND AVE', 'RED COAT CIR', 'RED COAT RD', 'REDLAND ST',\n",
       "       'REDWOOD LN', 'REED RD', 'RENFREW ST', 'RESERVOIR ST',\n",
       "       'REUBEN CIR', 'REVERE CIR', 'RHINECLIFF ST', 'RICE AVE', 'RICE ST',\n",
       "       'RICHARD AVE', 'RIDGE RD', 'RIDGELAND RD', 'RIDGEWAY RD',\n",
       "       'RIVELLY ST', 'ROBERTS ST', 'ROBERTSON DR', 'ROBIN RD',\n",
       "       'ROCKWELL DR', 'ROGER ST', 'ROLFE AVE', 'ROLLING HILL RD',\n",
       "       'ROMAN DR', 'RONALD LN', 'ROSEDALE AVE', 'ROUND TABLE RD',\n",
       "       'RUCLIFF ST', 'RUSSELL AVE', 'RUTHEN CIR', 'RYAN RD', 'S BROOK ST',\n",
       "       'S QUINSIGAMOND AVE', 'SADLER AVE', 'SAJDA DR', 'SALISBURY ST',\n",
       "       'SAM ALLEN CIR', 'SARGENTS ISLAND', 'SATURN DR', 'SAUNDERS DR',\n",
       "       'SAXON LN', 'SAYBROOK RD', 'SCHOOL ST', 'SELINA ST', 'SENECA ST',\n",
       "       'SETON DR', 'SETTLERS RD', 'SEWALL ST', 'SHADY LANE AVE',\n",
       "       'SHANNON DR', 'SHEARSON DR', 'SHEEHAN DR', 'SHEPARD LN',\n",
       "       'SHERIDAN DR', 'SHERWOOD AVE', 'SHERYL DR', 'SHETLAND WAY',\n",
       "       'SHIRLEY LN', 'SHIRLEY RD', 'SHREWSBURY GREEN DR',\n",
       "       'SILVER GATE CIR', 'SINCLAIR RD', 'SLEEPY HOLLOW',\n",
       "       'SLOCUM MEADOW LN', 'SMITH LN', 'SMITH RD', 'SOUTH ST',\n",
       "       'SPRING CIR', 'SPRING MEADOW DR', 'SPRING ST', 'SPRING TER',\n",
       "       'SPRUCE ST', 'ST JAMES RD', 'STANLEY RD', 'STATE ST',\n",
       "       'STERLING ST', 'STONE AVE', 'STONE MEADOW FARM DR', 'STONELAND RD',\n",
       "       'STONELAND RD WAY', 'STONEY HILL RD', 'STONYBROOK LN',\n",
       "       'STRATTON DR', 'STRAW HOLLOW LN', 'STRINGER DAM RD',\n",
       "       'STURBRIDGE CIR', 'SUMMER ST', 'SUNFLOWER CIR', 'SUNRISE VIEW AVE',\n",
       "       'SUNSET LN', 'SURREY LN', 'SVENSON RD', 'SWORD ST', 'SYCAMORE RD',\n",
       "       'TAFT RD', 'TAHA DR', 'TAMARACK LN', 'TANAGER DR', 'TANGLEWOOD DR',\n",
       "       'TATASSIT CIR', 'TAVERN ST', 'TENNIS DR', 'THESTLAND DR',\n",
       "       'THISTLE HILL DR', 'THOMAS FARM CIR', 'THOREAU CIR', 'THORNING DR',\n",
       "       'THOROUGHBRED WAY', 'TIMARI DR', 'TIP POND RD', 'TOBLIN HILL DR',\n",
       "       'TOPSFIELD CIR', 'TORY DR', 'TORY LN', 'TRALEE LN', 'TRAVIS RD',\n",
       "       'TRINITY CIR', 'TROWBRIDGE CIR', 'TROWBRIDGE LN',\n",
       "       'TURNING LEAF CIR', 'TURTLE CREEK CIR', 'TUSCAN PL', 'UPLAND AVE',\n",
       "       'VALENTE DR', 'VALLEY FORGE DR', 'VAN NESS AVE', 'VANCROFT AVE',\n",
       "       'VEGA DR', 'VENUS DR', 'VICTORIA CIR', 'VIEW ST', 'VIKING TER',\n",
       "       'VILLA RD', 'VINNIE WAY', 'VIOLETTE CIR', 'VISTA DR', 'VISTA PL',\n",
       "       'WACHUSETT AVE', 'WACHUSETT CIR', 'WADSWORTH RD', 'WALNUT DR',\n",
       "       'WALNUT HILL LN', 'WALNUT ST', 'WARREN ST', 'WASHINGTON ST',\n",
       "       'WATER ST', 'WATERVILLE LN', 'WEAGLE FARM RD', 'WENDELL ST',\n",
       "       'WESLEYAN ST', 'WESLEYAN TER', 'WEST AVE', 'WESTMONT CIR',\n",
       "       'WESTMONT RD', 'WESTPORT CIR', 'WESTPORT DR', 'WESTVIEW AVE',\n",
       "       'WESTWOOD RD', 'WHEELER AVE', 'WHEELOCK ST', 'WHIPPOORWILL DR',\n",
       "       'WHITEHALL CIR', 'WHITNEY ST', 'WILDER RD', 'WILLARD AVE',\n",
       "       'WILLET DR', 'WILLIAMSBURG CT', 'WILLOW ST', 'WILLOW WOODS DR',\n",
       "       'WILTSHIRE DR', 'WINGATE ST', 'WINSLOW ST', 'WITCHROCK ISLAND',\n",
       "       'WOLCOTT RD', 'WOOD ST', 'WOODCHUCK HILL RD', 'WOODHEAD RD',\n",
       "       'WOODLAND RD', 'WOODSIDE DR', 'WOODWAY DR', 'WORTHINGTON AVE',\n",
       "       'YORKSHIRE TER', nan], dtype=object)"
      ]
     },
     "execution_count": 47,
     "metadata": {},
     "output_type": "execute_result"
    }
   ],
   "source": [
    "df_Shrewsbury_clay['FULL_STR'].sort_values().unique()"
   ]
  },
  {
   "cell_type": "code",
   "execution_count": 38,
   "id": "87e5e214-a177-4464-87bf-812457286805",
   "metadata": {},
   "outputs": [
    {
     "data": {
      "text/plain": [
       "690"
      ]
     },
     "execution_count": 38,
     "metadata": {},
     "output_type": "execute_result"
    }
   ],
   "source": [
    "len(df_Shrewsbury_clay['FULL_STR'].unique())"
   ]
  },
  {
   "cell_type": "code",
   "execution_count": 55,
   "id": "d2991cc2-3dbd-4407-a751-45c78a552a88",
   "metadata": {},
   "outputs": [
    {
     "data": {
      "text/plain": [
       "Index(['fid', 'MAP_PAR_ID', 'LOC_ID', 'POLY_TYPE', 'MAP_NO', 'SOURCE',\n",
       "       'PLAN_ID', 'LAST_EDIT', 'BND_CHK', 'NO_MATCH', 'TOWN_ID', 'PROP_ID',\n",
       "       'BLDG_VAL', 'LAND_VAL', 'OTHER_VAL', 'TOTAL_VAL', 'FY', 'LOT_SIZE',\n",
       "       'LS_DATE', 'LS_PRICE', 'USE_CODE', 'SITE_ADDR', 'ADDR_NUM', 'FULL_STR',\n",
       "       'LOCATION', 'CITY', 'ZIP', 'OWNER1', 'OWN_ADDR', 'OWN_CITY',\n",
       "       'OWN_STATE', 'OWN_ZIP', 'OWN_CO', 'LS_BOOK', 'LS_PAGE', 'REG_ID',\n",
       "       'ZONING', 'YEAR_BUILT', 'BLD_AREA', 'UNITS', 'RES_AREA', 'STYLE',\n",
       "       'NUM_ROOMS', 'LOT_UNITS', 'STORIES', 'SHAPE_AREA', 'SHAPE_LEN',\n",
       "       'AREASYMBOL', 'SPATIALVER', 'MUSYM', 'MUKEY', 'SS_AREA', 'MUSYM_AREA',\n",
       "       'SLOPE', 'AREANAME', 'MUNAME', 'COMPNAME', 'MUKIND', 'FRMLNDCLS',\n",
       "       'HYDRCRATNG', 'DRAINCLASS', 'MINSURFTEX', 'TFACTOR', 'AWS100', 'AWS25',\n",
       "       'DEP2WATTBL', 'DWELLWB', 'HYDROLGRP', 'NIRRLCC', 'ROADS', 'SEPTANKAF',\n",
       "       'SLOPE_1', 'FLOODING', 'PONDING', 'CORCONCRET', 'TAXCLNAME',\n",
       "       'CM2RESLYR', 'RESKIND', 'PARMATNM', 'UNIFSOILCL', 'AASHTO', 'KFACTRF',\n",
       "       'KFACTWS', 'PHWATER', 'CLAY', 'KSAT', 'OM', 'SAND', 'NLEACHING',\n",
       "       'SHAPE_Leng', 'SHAPE_Ar_1', 'geometry', 'log_CLAY'],\n",
       "      dtype='object')"
      ]
     },
     "execution_count": 55,
     "metadata": {},
     "output_type": "execute_result"
    }
   ],
   "source": [
    "df_Shrewsbury_clay.columns"
   ]
  },
  {
   "cell_type": "code",
   "execution_count": 60,
   "id": "4cec5cfb-3bc2-4d54-a7d6-e9abacf4d384",
   "metadata": {},
   "outputs": [],
   "source": [
    "clay=[]\n",
    "for i in df_Shrewsbury_clay['FULL_STR'].unique():\n",
    "    #df_current['clay']=df_Shrewsbury_clay['CLAY'].loc[df_Shrewsbury_clay.FULL_STR==i]\n",
    "    clay_current=df_Shrewsbury_clay['CLAY'].loc[df_Shrewsbury_clay.FULL_STR==i].mean()\n",
    "    clay.append(clay_current)\n",
    "#len(clay)\n",
    "#print(clay)"
   ]
  },
  {
   "cell_type": "code",
   "execution_count": 61,
   "id": "a14e244f-eb94-4682-a43b-0fa96831a6c1",
   "metadata": {},
   "outputs": [],
   "source": [
    "log_clay=[]\n",
    "for i in clay:\n",
    "    log_clay.append(np.log(i))\n",
    "#len(log_clay)\n",
    "#print(log_clay)"
   ]
  },
  {
   "cell_type": "code",
   "execution_count": 62,
   "id": "4d98515f-b071-4e47-a8e9-19707d299164",
   "metadata": {},
   "outputs": [],
   "source": [
    "FULL_STR=df_Shrewsbury_clay['FULL_STR'].unique().tolist()\n",
    "join = {'FULL_STR':FULL_STR,'CLAY':clay,'log_CLAY':log_clay}\n",
    "df_FULL_STR_clay = pd.DataFrame(join)"
   ]
  },
  {
   "cell_type": "code",
   "execution_count": 63,
   "id": "1ab05001-b5d8-4355-ad69-305f3455d42f",
   "metadata": {},
   "outputs": [
    {
     "data": {
      "text/html": [
       "<div>\n",
       "<style scoped>\n",
       "    .dataframe tbody tr th:only-of-type {\n",
       "        vertical-align: middle;\n",
       "    }\n",
       "\n",
       "    .dataframe tbody tr th {\n",
       "        vertical-align: top;\n",
       "    }\n",
       "\n",
       "    .dataframe thead th {\n",
       "        text-align: right;\n",
       "    }\n",
       "</style>\n",
       "<table border=\"1\" class=\"dataframe\">\n",
       "  <thead>\n",
       "    <tr style=\"text-align: right;\">\n",
       "      <th></th>\n",
       "      <th>FULL_STR</th>\n",
       "      <th>CLAY</th>\n",
       "      <th>log_CLAY</th>\n",
       "    </tr>\n",
       "  </thead>\n",
       "  <tbody>\n",
       "    <tr>\n",
       "      <th>0</th>\n",
       "      <td>VINNIE WAY</td>\n",
       "      <td>4.990000</td>\n",
       "      <td>1.607436</td>\n",
       "    </tr>\n",
       "    <tr>\n",
       "      <th>1</th>\n",
       "      <td>S QUINSIGAMOND AVE</td>\n",
       "      <td>2.529885</td>\n",
       "      <td>0.928174</td>\n",
       "    </tr>\n",
       "    <tr>\n",
       "      <th>2</th>\n",
       "      <td>FLAGG RD</td>\n",
       "      <td>2.000000</td>\n",
       "      <td>0.693147</td>\n",
       "    </tr>\n",
       "    <tr>\n",
       "      <th>3</th>\n",
       "      <td>RAWSON HILL DR</td>\n",
       "      <td>6.385000</td>\n",
       "      <td>1.853951</td>\n",
       "    </tr>\n",
       "    <tr>\n",
       "      <th>4</th>\n",
       "      <td>EVERGREEN ST</td>\n",
       "      <td>2.000000</td>\n",
       "      <td>0.693147</td>\n",
       "    </tr>\n",
       "    <tr>\n",
       "      <th>...</th>\n",
       "      <td>...</td>\n",
       "      <td>...</td>\n",
       "      <td>...</td>\n",
       "    </tr>\n",
       "    <tr>\n",
       "      <th>685</th>\n",
       "      <td>SAJDA DR</td>\n",
       "      <td>7.000000</td>\n",
       "      <td>1.945910</td>\n",
       "    </tr>\n",
       "    <tr>\n",
       "      <th>686</th>\n",
       "      <td>SHREWSBURY GREEN DR</td>\n",
       "      <td>2.000000</td>\n",
       "      <td>0.693147</td>\n",
       "    </tr>\n",
       "    <tr>\n",
       "      <th>687</th>\n",
       "      <td>DEAN DR</td>\n",
       "      <td>7.000000</td>\n",
       "      <td>1.945910</td>\n",
       "    </tr>\n",
       "    <tr>\n",
       "      <th>688</th>\n",
       "      <td>PAYTON PL</td>\n",
       "      <td>6.000000</td>\n",
       "      <td>1.791759</td>\n",
       "    </tr>\n",
       "    <tr>\n",
       "      <th>689</th>\n",
       "      <td>ABBY LN</td>\n",
       "      <td>6.000000</td>\n",
       "      <td>1.791759</td>\n",
       "    </tr>\n",
       "  </tbody>\n",
       "</table>\n",
       "<p>690 rows × 3 columns</p>\n",
       "</div>"
      ],
      "text/plain": [
       "                FULL_STR      CLAY  log_CLAY\n",
       "0             VINNIE WAY  4.990000  1.607436\n",
       "1     S QUINSIGAMOND AVE  2.529885  0.928174\n",
       "2               FLAGG RD  2.000000  0.693147\n",
       "3         RAWSON HILL DR  6.385000  1.853951\n",
       "4           EVERGREEN ST  2.000000  0.693147\n",
       "..                   ...       ...       ...\n",
       "685             SAJDA DR  7.000000  1.945910\n",
       "686  SHREWSBURY GREEN DR  2.000000  0.693147\n",
       "687              DEAN DR  7.000000  1.945910\n",
       "688            PAYTON PL  6.000000  1.791759\n",
       "689              ABBY LN  6.000000  1.791759\n",
       "\n",
       "[690 rows x 3 columns]"
      ]
     },
     "execution_count": 63,
     "metadata": {},
     "output_type": "execute_result"
    }
   ],
   "source": [
    "df_FULL_STR_clay"
   ]
  },
  {
   "cell_type": "code",
   "execution_count": 64,
   "id": "bfb881ca-a57d-47e5-b7de-2420a43c0e59",
   "metadata": {},
   "outputs": [],
   "source": [
    "df_FULL_STR_clay.to_csv(r'../../data/tidy/Shrewsbury_clay_street_level.csv', index = False)"
   ]
  },
  {
   "cell_type": "code",
   "execution_count": 65,
   "id": "facfebc7-d69c-47a3-b99a-1650c81cdfd1",
   "metadata": {},
   "outputs": [
    {
     "data": {
      "text/plain": [
       "<seaborn.axisgrid.FacetGrid at 0x2090a583be0>"
      ]
     },
     "execution_count": 65,
     "metadata": {},
     "output_type": "execute_result"
    },
    {
     "data": {
      "image/png": "[encoded data removed]",
      "text/plain": [
       "<Figure size 540x360 with 1 Axes>"
      ]
     },
     "metadata": {},
     "output_type": "display_data"
    }
   ],
   "source": [
    "# plotting histogram for density of parcels\n",
    "sns.set_style('white')\n",
    "sns.set_context(\"paper\", font_scale = 2)\n",
    "sns.displot(data=df_FULL_STR_clay['log_CLAY'], kind=\"hist\", bins = 50, aspect = 1.5)"
   ]
  },
  {
   "cell_type": "code",
   "execution_count": 66,
   "id": "53a6fa6e-7ced-4461-8c15-6c5c202c0c5e",
   "metadata": {},
   "outputs": [
    {
     "name": "stderr",
     "output_type": "stream",
     "text": [
      "C:\\Users\\Mahsa\\Anaconda3\\envs\\oxe\\lib\\site-packages\\numpy\\lib\\histograms.py:906: RuntimeWarning: invalid value encountered in true_divide\n",
      "  return n/db/n.sum(), bin_edges\n",
      "WARNING:root:SKIPPED gamma distribution (taking more than 30 seconds)\n",
      "WARNING:root:SKIPPED burr distribution (taking more than 30 seconds)\n",
      "WARNING:root:SKIPPED beta distribution (taking more than 30 seconds)\n",
      "WARNING:root:SKIPPED lognorm distribution (taking more than 30 seconds)\n",
      "WARNING:fitter.fitter:gamma was not fitted. no parameters available\n",
      "WARNING:fitter.fitter:burr was not fitted. no parameters available\n",
      "WARNING:fitter.fitter:beta was not fitted. no parameters available\n",
      "WARNING:fitter.fitter:lognorm was not fitted. no parameters available\n"
     ]
    },
    {
     "data": {
      "text/html": [
       "<div>\n",
       "<style scoped>\n",
       "    .dataframe tbody tr th:only-of-type {\n",
       "        vertical-align: middle;\n",
       "    }\n",
       "\n",
       "    .dataframe tbody tr th {\n",
       "        vertical-align: top;\n",
       "    }\n",
       "\n",
       "    .dataframe thead th {\n",
       "        text-align: right;\n",
       "    }\n",
       "</style>\n",
       "<table border=\"1\" class=\"dataframe\">\n",
       "  <thead>\n",
       "    <tr style=\"text-align: right;\">\n",
       "      <th></th>\n",
       "      <th>sumsquare_error</th>\n",
       "      <th>aic</th>\n",
       "      <th>bic</th>\n",
       "      <th>kl_div</th>\n",
       "    </tr>\n",
       "  </thead>\n",
       "  <tbody>\n",
       "    <tr>\n",
       "      <th>gamma</th>\n",
       "      <td>inf</td>\n",
       "      <td>inf</td>\n",
       "      <td>inf</td>\n",
       "      <td>inf</td>\n",
       "    </tr>\n",
       "    <tr>\n",
       "      <th>burr</th>\n",
       "      <td>inf</td>\n",
       "      <td>inf</td>\n",
       "      <td>inf</td>\n",
       "      <td>inf</td>\n",
       "    </tr>\n",
       "    <tr>\n",
       "      <th>beta</th>\n",
       "      <td>inf</td>\n",
       "      <td>inf</td>\n",
       "      <td>inf</td>\n",
       "      <td>inf</td>\n",
       "    </tr>\n",
       "    <tr>\n",
       "      <th>lognorm</th>\n",
       "      <td>inf</td>\n",
       "      <td>inf</td>\n",
       "      <td>inf</td>\n",
       "      <td>inf</td>\n",
       "    </tr>\n",
       "    <tr>\n",
       "      <th>norm</th>\n",
       "      <td>NaN</td>\n",
       "      <td>NaN</td>\n",
       "      <td>NaN</td>\n",
       "      <td>NaN</td>\n",
       "    </tr>\n",
       "  </tbody>\n",
       "</table>\n",
       "</div>"
      ],
      "text/plain": [
       "         sumsquare_error  aic  bic  kl_div\n",
       "gamma                inf  inf  inf     inf\n",
       "burr                 inf  inf  inf     inf\n",
       "beta                 inf  inf  inf     inf\n",
       "lognorm              inf  inf  inf     inf\n",
       "norm                 NaN  NaN  NaN     NaN"
      ]
     },
     "execution_count": 66,
     "metadata": {},
     "output_type": "execute_result"
    },
    {
     "data": {
      "image/png": "[encoded data removed]",
      "text/plain": [
       "<Figure size 432x288 with 1 Axes>"
      ]
     },
     "metadata": {},
     "output_type": "display_data"
    }
   ],
   "source": [
    "f = Fitter(df_FULL_STR_clay['log_CLAY'],\n",
    "           distributions=['gamma',\n",
    "                          'lognorm',\n",
    "                          \"beta\",\n",
    "                          \"burr\",\n",
    "                          \"norm\"])\n",
    "f.fit()\n",
    "f.summary()"
   ]
  },
  {
   "cell_type": "code",
   "execution_count": 67,
   "id": "1e09b180-4d0d-42a8-b6f2-286a38afc887",
   "metadata": {},
   "outputs": [],
   "source": [
    "df_FULL_STR_clay_without_outliers=df_FULL_STR_clay[df_FULL_STR_clay['log_CLAY'] > 0.75] "
   ]
  },
  {
   "cell_type": "code",
   "execution_count": 68,
   "id": "94605d81-66c8-4c06-8548-12172c7d89ad",
   "metadata": {},
   "outputs": [
    {
     "data": {
      "text/html": [
       "<div>\n",
       "<style scoped>\n",
       "    .dataframe tbody tr th:only-of-type {\n",
       "        vertical-align: middle;\n",
       "    }\n",
       "\n",
       "    .dataframe tbody tr th {\n",
       "        vertical-align: top;\n",
       "    }\n",
       "\n",
       "    .dataframe thead th {\n",
       "        text-align: right;\n",
       "    }\n",
       "</style>\n",
       "<table border=\"1\" class=\"dataframe\">\n",
       "  <thead>\n",
       "    <tr style=\"text-align: right;\">\n",
       "      <th></th>\n",
       "      <th>FULL_STR</th>\n",
       "      <th>CLAY</th>\n",
       "      <th>log_CLAY</th>\n",
       "    </tr>\n",
       "  </thead>\n",
       "  <tbody>\n",
       "    <tr>\n",
       "      <th>0</th>\n",
       "      <td>VINNIE WAY</td>\n",
       "      <td>4.990000</td>\n",
       "      <td>1.607436</td>\n",
       "    </tr>\n",
       "    <tr>\n",
       "      <th>1</th>\n",
       "      <td>S QUINSIGAMOND AVE</td>\n",
       "      <td>2.529885</td>\n",
       "      <td>0.928174</td>\n",
       "    </tr>\n",
       "    <tr>\n",
       "      <th>3</th>\n",
       "      <td>RAWSON HILL DR</td>\n",
       "      <td>6.385000</td>\n",
       "      <td>1.853951</td>\n",
       "    </tr>\n",
       "    <tr>\n",
       "      <th>5</th>\n",
       "      <td>SPRING ST</td>\n",
       "      <td>7.415476</td>\n",
       "      <td>2.003569</td>\n",
       "    </tr>\n",
       "    <tr>\n",
       "      <th>6</th>\n",
       "      <td>OLDE COLONY DR</td>\n",
       "      <td>6.761905</td>\n",
       "      <td>1.911305</td>\n",
       "    </tr>\n",
       "    <tr>\n",
       "      <th>...</th>\n",
       "      <td>...</td>\n",
       "      <td>...</td>\n",
       "      <td>...</td>\n",
       "    </tr>\n",
       "    <tr>\n",
       "      <th>684</th>\n",
       "      <td>AFRA DR</td>\n",
       "      <td>7.000000</td>\n",
       "      <td>1.945910</td>\n",
       "    </tr>\n",
       "    <tr>\n",
       "      <th>685</th>\n",
       "      <td>SAJDA DR</td>\n",
       "      <td>7.000000</td>\n",
       "      <td>1.945910</td>\n",
       "    </tr>\n",
       "    <tr>\n",
       "      <th>687</th>\n",
       "      <td>DEAN DR</td>\n",
       "      <td>7.000000</td>\n",
       "      <td>1.945910</td>\n",
       "    </tr>\n",
       "    <tr>\n",
       "      <th>688</th>\n",
       "      <td>PAYTON PL</td>\n",
       "      <td>6.000000</td>\n",
       "      <td>1.791759</td>\n",
       "    </tr>\n",
       "    <tr>\n",
       "      <th>689</th>\n",
       "      <td>ABBY LN</td>\n",
       "      <td>6.000000</td>\n",
       "      <td>1.791759</td>\n",
       "    </tr>\n",
       "  </tbody>\n",
       "</table>\n",
       "<p>572 rows × 3 columns</p>\n",
       "</div>"
      ],
      "text/plain": [
       "               FULL_STR      CLAY  log_CLAY\n",
       "0            VINNIE WAY  4.990000  1.607436\n",
       "1    S QUINSIGAMOND AVE  2.529885  0.928174\n",
       "3        RAWSON HILL DR  6.385000  1.853951\n",
       "5             SPRING ST  7.415476  2.003569\n",
       "6        OLDE COLONY DR  6.761905  1.911305\n",
       "..                  ...       ...       ...\n",
       "684             AFRA DR  7.000000  1.945910\n",
       "685            SAJDA DR  7.000000  1.945910\n",
       "687             DEAN DR  7.000000  1.945910\n",
       "688           PAYTON PL  6.000000  1.791759\n",
       "689             ABBY LN  6.000000  1.791759\n",
       "\n",
       "[572 rows x 3 columns]"
      ]
     },
     "execution_count": 68,
     "metadata": {},
     "output_type": "execute_result"
    }
   ],
   "source": [
    "df_FULL_STR_clay_without_outliers"
   ]
  },
  {
   "cell_type": "code",
   "execution_count": 69,
   "id": "21b4be6b-006a-4014-abf1-2bb8c229e497",
   "metadata": {},
   "outputs": [
    {
     "data": {
      "text/plain": [
       "<seaborn.axisgrid.FacetGrid at 0x2090a533a00>"
      ]
     },
     "execution_count": 69,
     "metadata": {},
     "output_type": "execute_result"
    },
    {
     "data": {
      "image/png": "[encoded data removed]",
      "text/plain": [
       "<Figure size 540x360 with 1 Axes>"
      ]
     },
     "metadata": {},
     "output_type": "display_data"
    }
   ],
   "source": [
    "# plotting histogram for density of parcels\n",
    "sns.set_style('white')\n",
    "sns.set_context(\"paper\", font_scale = 2)\n",
    "sns.displot(data=df_FULL_STR_clay_without_outliers['log_CLAY'], kind=\"hist\", bins = 50, aspect = 1.5)"
   ]
  },
  {
   "cell_type": "code",
   "execution_count": 70,
   "id": "b181be8a-18d4-40b6-931f-4d58be55a4dc",
   "metadata": {},
   "outputs": [
    {
     "data": {
      "text/html": [
       "<div>\n",
       "<style scoped>\n",
       "    .dataframe tbody tr th:only-of-type {\n",
       "        vertical-align: middle;\n",
       "    }\n",
       "\n",
       "    .dataframe tbody tr th {\n",
       "        vertical-align: top;\n",
       "    }\n",
       "\n",
       "    .dataframe thead th {\n",
       "        text-align: right;\n",
       "    }\n",
       "</style>\n",
       "<table border=\"1\" class=\"dataframe\">\n",
       "  <thead>\n",
       "    <tr style=\"text-align: right;\">\n",
       "      <th></th>\n",
       "      <th>sumsquare_error</th>\n",
       "      <th>aic</th>\n",
       "      <th>bic</th>\n",
       "      <th>kl_div</th>\n",
       "    </tr>\n",
       "  </thead>\n",
       "  <tbody>\n",
       "    <tr>\n",
       "      <th>burr</th>\n",
       "      <td>365.865031</td>\n",
       "      <td>340.302794</td>\n",
       "      <td>-230.215655</td>\n",
       "      <td>inf</td>\n",
       "    </tr>\n",
       "    <tr>\n",
       "      <th>lognorm</th>\n",
       "      <td>453.881507</td>\n",
       "      <td>374.831618</td>\n",
       "      <td>-113.257799</td>\n",
       "      <td>inf</td>\n",
       "    </tr>\n",
       "    <tr>\n",
       "      <th>norm</th>\n",
       "      <td>453.957565</td>\n",
       "      <td>369.387538</td>\n",
       "      <td>-119.511094</td>\n",
       "      <td>inf</td>\n",
       "    </tr>\n",
       "    <tr>\n",
       "      <th>gamma</th>\n",
       "      <td>459.528443</td>\n",
       "      <td>358.352625</td>\n",
       "      <td>-106.185206</td>\n",
       "      <td>inf</td>\n",
       "    </tr>\n",
       "    <tr>\n",
       "      <th>beta</th>\n",
       "      <td>549.643644</td>\n",
       "      <td>159.928116</td>\n",
       "      <td>2.591578</td>\n",
       "      <td>inf</td>\n",
       "    </tr>\n",
       "  </tbody>\n",
       "</table>\n",
       "</div>"
      ],
      "text/plain": [
       "         sumsquare_error         aic         bic  kl_div\n",
       "burr          365.865031  340.302794 -230.215655     inf\n",
       "lognorm       453.881507  374.831618 -113.257799     inf\n",
       "norm          453.957565  369.387538 -119.511094     inf\n",
       "gamma         459.528443  358.352625 -106.185206     inf\n",
       "beta          549.643644  159.928116    2.591578     inf"
      ]
     },
     "execution_count": 70,
     "metadata": {},
     "output_type": "execute_result"
    },
    {
     "data": {
      "image/png": "[encoded data removed]",
      "text/plain": [
       "<Figure size 432x288 with 1 Axes>"
      ]
     },
     "metadata": {},
     "output_type": "display_data"
    }
   ],
   "source": [
    "f = Fitter(df_FULL_STR_clay_without_outliers['log_CLAY'],\n",
    "           distributions=['gamma',\n",
    "                          'lognorm',\n",
    "                          \"beta\",\n",
    "                          \"burr\",\n",
    "                          \"norm\"])\n",
    "f.fit()\n",
    "f.summary()"
   ]
  },
  {
   "cell_type": "code",
   "execution_count": 92,
   "id": "47aadcea-acb7-424a-bc5f-0e5828631d57",
   "metadata": {},
   "outputs": [
    {
     "data": {
      "text/plain": [
       "11"
      ]
     },
     "execution_count": 92,
     "metadata": {},
     "output_type": "execute_result"
    }
   ],
   "source": [
    "len(df_Shrewsbury_clay['CLAY'].unique())"
   ]
  },
  {
   "cell_type": "code",
   "execution_count": 85,
   "id": "1892e090-2fd1-4937-97be-03d3166c9161",
   "metadata": {},
   "outputs": [],
   "source": [
    "# In sample SSSU level (sample survey unit), we have a multinomial distribution with 11 possible values."
   ]
  },
  {
   "cell_type": "code",
   "execution_count": 91,
   "id": "beebf20f-eddb-4e6b-a7d2-887d1dfe65a4",
   "metadata": {},
   "outputs": [
    {
     "data": {
      "text/plain": [
       "331"
      ]
     },
     "execution_count": 91,
     "metadata": {},
     "output_type": "execute_result"
    }
   ],
   "source": [
    "len(df_FULL_STR_clay['log_CLAY'].unique())"
   ]
  },
  {
   "cell_type": "code",
   "execution_count": 93,
   "id": "20a37c2d-4519-47e7-8390-5085fad0ec30",
   "metadata": {},
   "outputs": [],
   "source": [
    "# In street level, we have a continuios distribution because we used mean for all SSUs that exist in each street."
   ]
  }
 ],
 "metadata": {
  "kernelspec": {
   "display_name": "Python 3 (ipykernel)",
   "language": "python",
   "name": "python3"
  },
  "language_info": {
   "codemirror_mode": {
    "name": "ipython",
    "version": 3
   },
   "file_extension": ".py",
   "mimetype": "text/x-python",
   "name": "python",
   "nbconvert_exporter": "python",
   "pygments_lexer": "ipython3",
   "version": "3.10.0"
  }
 },
 "nbformat": 4,
 "nbformat_minor": 5
}
