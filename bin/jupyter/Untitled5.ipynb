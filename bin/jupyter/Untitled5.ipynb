{
 "cells": [
  {
   "cell_type": "code",
   "execution_count": 5,
   "id": "6933be9b-b8e7-4433-a43b-b3f9a91f4402",
   "metadata": {},
   "outputs": [],
   "source": [
    "import pygtfs"
   ]
  },
  {
   "cell_type": "code",
   "execution_count": null,
   "id": "637c2c98-d7eb-4277-9970-2a910bf530ba",
   "metadata": {},
   "outputs": [],
   "source": [
    "sched = pygtfs.Schedule(\":memory:\")        # create a schedule object (a sqlite database)\n",
    "pygtfs.append_feed(sched, \"sample-gtfs-feed.zip\")"
   ]
  }
 ],
 "metadata": {
  "kernelspec": {
   "display_name": "Python 3 (ipykernel)",
   "language": "python",
   "name": "python3"
  },
  "language_info": {
   "codemirror_mode": {
    "name": "ipython",
    "version": 3
   },
   "file_extension": ".py",
   "mimetype": "text/x-python",
   "name": "python",
   "nbconvert_exporter": "python",
   "pygments_lexer": "ipython3",
   "version": "3.10.0"
  }
 },
 "nbformat": 4,
 "nbformat_minor": 5
}
